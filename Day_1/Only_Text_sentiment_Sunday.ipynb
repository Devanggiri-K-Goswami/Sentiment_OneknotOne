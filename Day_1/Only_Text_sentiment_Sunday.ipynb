{
 "cells": [
  {
   "cell_type": "code",
   "execution_count": 135,
   "id": "ca5041b9",
   "metadata": {},
   "outputs": [
    {
     "name": "stdout",
     "output_type": "stream",
     "text": [
      "Requirement already satisfied: emoji in c:\\users\\lenovo\\anaconda3\\lib\\site-packages (2.2.0)\n"
     ]
    },
    {
     "name": "stderr",
     "output_type": "stream",
     "text": [
      "WARNING: Ignoring invalid distribution -pencv-python-headless (c:\\users\\lenovo\\appdata\\roaming\\python\\python39\\site-packages)\n",
      "WARNING: Ignoring invalid distribution -pencv-python-headless (c:\\users\\lenovo\\appdata\\roaming\\python\\python39\\site-packages)\n",
      "WARNING: Ignoring invalid distribution -pencv-python-headless (c:\\users\\lenovo\\appdata\\roaming\\python\\python39\\site-packages)\n",
      "WARNING: Error parsing requirements for pyqt5: [Errno 2] No such file or directory: 'c:\\\\users\\\\lenovo\\\\anaconda3\\\\lib\\\\site-packages\\\\PyQt5-5.15.7.dist-info\\\\METADATA'\n",
      "WARNING: Ignoring invalid distribution -pencv-python-headless (c:\\users\\lenovo\\appdata\\roaming\\python\\python39\\site-packages)\n",
      "WARNING: Ignoring invalid distribution -pencv-python-headless (c:\\users\\lenovo\\appdata\\roaming\\python\\python39\\site-packages)\n",
      "WARNING: Ignoring invalid distribution -pencv-python-headless (c:\\users\\lenovo\\appdata\\roaming\\python\\python39\\site-packages)\n",
      "\n",
      "[notice] A new release of pip available: 22.2.2 -> 23.1.2\n",
      "[notice] To update, run: python.exe -m pip install --upgrade pip\n"
     ]
    }
   ],
   "source": [
    "!pip install emoji"
   ]
  },
  {
   "cell_type": "code",
   "execution_count": 136,
   "id": "cab8fe0e",
   "metadata": {},
   "outputs": [],
   "source": [
    "from tracemalloc import stop\n",
    "import numpy as np\n",
    "import pandas as pd\n",
    "import re\n",
    "import seaborn as sns\n",
    "import string\n",
    "import nltk\n",
    "import emoji\n",
    "import string\n",
    "import re\n",
    "from nltk.corpus import stopwords\n",
    "from nltk.tokenize import word_tokenize\n",
    "from nltk.stem.porter import PorterStemmer\n",
    "from sklearn.feature_extraction.text import TfidfVectorizer\n",
    "from sklearn.model_selection import train_test_split\n",
    "from sklearn.linear_model import LogisticRegression\n",
    "from sklearn.tree import DecisionTreeRegressor\n",
    "from sklearn.ensemble import RandomForestClassifier"
   ]
  },
  {
   "cell_type": "code",
   "execution_count": 137,
   "id": "9a2f765a",
   "metadata": {},
   "outputs": [],
   "source": [
    "from sklearn.naive_bayes import GaussianNB,MultinomialNB,BernoulliNB\n",
    "from sklearn.metrics import accuracy_score,confusion_matrix,precision_score"
   ]
  },
  {
   "cell_type": "code",
   "execution_count": 138,
   "id": "ffa902fe",
   "metadata": {},
   "outputs": [
    {
     "name": "stderr",
     "output_type": "stream",
     "text": [
      "[nltk_data] Downloading package punkt to\n",
      "[nltk_data]     C:\\Users\\LENOVO\\AppData\\Roaming\\nltk_data...\n",
      "[nltk_data]   Package punkt is already up-to-date!\n",
      "[nltk_data] Downloading package stopwords to\n",
      "[nltk_data]     C:\\Users\\LENOVO\\AppData\\Roaming\\nltk_data...\n",
      "[nltk_data]   Package stopwords is already up-to-date!\n"
     ]
    }
   ],
   "source": [
    "nltk.download('punkt')\n",
    "nltk.download('stopwords')\n",
    "sw=nltk.corpus.stopwords.words(\"english\")"
   ]
  },
  {
   "cell_type": "code",
   "execution_count": 139,
   "id": "38b3953d",
   "metadata": {},
   "outputs": [
    {
     "name": "stderr",
     "output_type": "stream",
     "text": [
      "C:\\Users\\LENOVO\\anaconda3\\lib\\site-packages\\IPython\\core\\interactiveshell.py:3552: FutureWarning: The error_bad_lines argument has been deprecated and will be removed in a future version.\n",
      "\n",
      "\n",
      "  exec(code_obj, self.user_global_ns, self.user_ns)\n"
     ]
    }
   ],
   "source": [
    "# df = pd.read_csv(\"New_Dropped_Uscomments.csv\",error_bad_lines=False)\n",
    "# df = pd.read_csv(\"New_DF_Positive_Negative_Netural_dropna.csv\",error_bad_lines=False)\n",
    "df = pd.read_csv(\"Random_same_sample_ALL_3_Category.csv\",error_bad_lines=False)"
   ]
  },
  {
   "cell_type": "code",
   "execution_count": 142,
   "id": "ccd68533",
   "metadata": {},
   "outputs": [
    {
     "data": {
      "text/html": [
       "<div>\n",
       "<style scoped>\n",
       "    .dataframe tbody tr th:only-of-type {\n",
       "        vertical-align: middle;\n",
       "    }\n",
       "\n",
       "    .dataframe tbody tr th {\n",
       "        vertical-align: top;\n",
       "    }\n",
       "\n",
       "    .dataframe thead th {\n",
       "        text-align: right;\n",
       "    }\n",
       "</style>\n",
       "<table border=\"1\" class=\"dataframe\">\n",
       "  <thead>\n",
       "    <tr style=\"text-align: right;\">\n",
       "      <th></th>\n",
       "      <th>video_id</th>\n",
       "      <th>comment_text</th>\n",
       "      <th>likes</th>\n",
       "      <th>replies</th>\n",
       "      <th>Polarity</th>\n",
       "      <th>Target</th>\n",
       "    </tr>\n",
       "  </thead>\n",
       "  <tbody>\n",
       "    <tr>\n",
       "      <th>0</th>\n",
       "      <td>7YAAyUFL1GQ</td>\n",
       "      <td>K back to good music I was on autoplay and it ...</td>\n",
       "      <td>0</td>\n",
       "      <td>0</td>\n",
       "      <td>0.333333</td>\n",
       "      <td>Positive</td>\n",
       "    </tr>\n",
       "    <tr>\n",
       "      <th>1</th>\n",
       "      <td>fiEYKSMcHAI</td>\n",
       "      <td>Love your vids keep up with the good work</td>\n",
       "      <td>0</td>\n",
       "      <td>0</td>\n",
       "      <td>0.600000</td>\n",
       "      <td>Positive</td>\n",
       "    </tr>\n",
       "    <tr>\n",
       "      <th>2</th>\n",
       "      <td>368_ovPsJk8</td>\n",
       "      <td>Lmao what is she saying?! \\nShe said fuck you 😂</td>\n",
       "      <td>0</td>\n",
       "      <td>0</td>\n",
       "      <td>0.175000</td>\n",
       "      <td>Positive</td>\n",
       "    </tr>\n",
       "    <tr>\n",
       "      <th>3</th>\n",
       "      <td>-Jdc7FXupWQ</td>\n",
       "      <td>This cover is fantastic! Her voice is perfect ...</td>\n",
       "      <td>4</td>\n",
       "      <td>0</td>\n",
       "      <td>0.750000</td>\n",
       "      <td>Positive</td>\n",
       "    </tr>\n",
       "    <tr>\n",
       "      <th>4</th>\n",
       "      <td>bvomHFZO0mk</td>\n",
       "      <td>Cool! Just come to the US legally and we will ...</td>\n",
       "      <td>0</td>\n",
       "      <td>0</td>\n",
       "      <td>0.379167</td>\n",
       "      <td>Positive</td>\n",
       "    </tr>\n",
       "  </tbody>\n",
       "</table>\n",
       "</div>"
      ],
      "text/plain": [
       "      video_id                                       comment_text  likes  \\\n",
       "0  7YAAyUFL1GQ  K back to good music I was on autoplay and it ...      0   \n",
       "1  fiEYKSMcHAI          Love your vids keep up with the good work      0   \n",
       "2  368_ovPsJk8    Lmao what is she saying?! \\nShe said fuck you 😂      0   \n",
       "3  -Jdc7FXupWQ  This cover is fantastic! Her voice is perfect ...      4   \n",
       "4  bvomHFZO0mk  Cool! Just come to the US legally and we will ...      0   \n",
       "\n",
       "   replies  Polarity    Target  \n",
       "0        0  0.333333  Positive  \n",
       "1        0  0.600000  Positive  \n",
       "2        0  0.175000  Positive  \n",
       "3        0  0.750000  Positive  \n",
       "4        0  0.379167  Positive  "
      ]
     },
     "execution_count": 142,
     "metadata": {},
     "output_type": "execute_result"
    }
   ],
   "source": [
    "df.head()\n",
    "# len(df)"
   ]
  },
  {
   "cell_type": "code",
   "execution_count": 143,
   "id": "29b1891f",
   "metadata": {},
   "outputs": [
    {
     "data": {
      "text/plain": [
       "Positive    70000\n",
       "Negative    70000\n",
       "Neutral     70000\n",
       "Name: Target, dtype: int64"
      ]
     },
     "execution_count": 143,
     "metadata": {},
     "output_type": "execute_result"
    }
   ],
   "source": [
    "df['Target'].value_counts()"
   ]
  },
  {
   "cell_type": "code",
   "execution_count": 144,
   "id": "8176c089",
   "metadata": {},
   "outputs": [],
   "source": [
    "df['Final_Target'] = df['Target'].map({'Positive':1,'Negative':-1,'Neutral':0})"
   ]
  },
  {
   "cell_type": "code",
   "execution_count": 145,
   "id": "2b2ed56e",
   "metadata": {},
   "outputs": [
    {
     "data": {
      "text/html": [
       "<div>\n",
       "<style scoped>\n",
       "    .dataframe tbody tr th:only-of-type {\n",
       "        vertical-align: middle;\n",
       "    }\n",
       "\n",
       "    .dataframe tbody tr th {\n",
       "        vertical-align: top;\n",
       "    }\n",
       "\n",
       "    .dataframe thead th {\n",
       "        text-align: right;\n",
       "    }\n",
       "</style>\n",
       "<table border=\"1\" class=\"dataframe\">\n",
       "  <thead>\n",
       "    <tr style=\"text-align: right;\">\n",
       "      <th></th>\n",
       "      <th>video_id</th>\n",
       "      <th>comment_text</th>\n",
       "      <th>likes</th>\n",
       "      <th>replies</th>\n",
       "      <th>Polarity</th>\n",
       "      <th>Target</th>\n",
       "      <th>Final_Target</th>\n",
       "    </tr>\n",
       "  </thead>\n",
       "  <tbody>\n",
       "    <tr>\n",
       "      <th>0</th>\n",
       "      <td>7YAAyUFL1GQ</td>\n",
       "      <td>K back to good music I was on autoplay and it ...</td>\n",
       "      <td>0</td>\n",
       "      <td>0</td>\n",
       "      <td>0.333333</td>\n",
       "      <td>Positive</td>\n",
       "      <td>1</td>\n",
       "    </tr>\n",
       "    <tr>\n",
       "      <th>1</th>\n",
       "      <td>fiEYKSMcHAI</td>\n",
       "      <td>Love your vids keep up with the good work</td>\n",
       "      <td>0</td>\n",
       "      <td>0</td>\n",
       "      <td>0.600000</td>\n",
       "      <td>Positive</td>\n",
       "      <td>1</td>\n",
       "    </tr>\n",
       "    <tr>\n",
       "      <th>2</th>\n",
       "      <td>368_ovPsJk8</td>\n",
       "      <td>Lmao what is she saying?! \\nShe said fuck you 😂</td>\n",
       "      <td>0</td>\n",
       "      <td>0</td>\n",
       "      <td>0.175000</td>\n",
       "      <td>Positive</td>\n",
       "      <td>1</td>\n",
       "    </tr>\n",
       "    <tr>\n",
       "      <th>3</th>\n",
       "      <td>-Jdc7FXupWQ</td>\n",
       "      <td>This cover is fantastic! Her voice is perfect ...</td>\n",
       "      <td>4</td>\n",
       "      <td>0</td>\n",
       "      <td>0.750000</td>\n",
       "      <td>Positive</td>\n",
       "      <td>1</td>\n",
       "    </tr>\n",
       "    <tr>\n",
       "      <th>4</th>\n",
       "      <td>bvomHFZO0mk</td>\n",
       "      <td>Cool! Just come to the US legally and we will ...</td>\n",
       "      <td>0</td>\n",
       "      <td>0</td>\n",
       "      <td>0.379167</td>\n",
       "      <td>Positive</td>\n",
       "      <td>1</td>\n",
       "    </tr>\n",
       "  </tbody>\n",
       "</table>\n",
       "</div>"
      ],
      "text/plain": [
       "      video_id                                       comment_text  likes  \\\n",
       "0  7YAAyUFL1GQ  K back to good music I was on autoplay and it ...      0   \n",
       "1  fiEYKSMcHAI          Love your vids keep up with the good work      0   \n",
       "2  368_ovPsJk8    Lmao what is she saying?! \\nShe said fuck you 😂      0   \n",
       "3  -Jdc7FXupWQ  This cover is fantastic! Her voice is perfect ...      4   \n",
       "4  bvomHFZO0mk  Cool! Just come to the US legally and we will ...      0   \n",
       "\n",
       "   replies  Polarity    Target  Final_Target  \n",
       "0        0  0.333333  Positive             1  \n",
       "1        0  0.600000  Positive             1  \n",
       "2        0  0.175000  Positive             1  \n",
       "3        0  0.750000  Positive             1  \n",
       "4        0  0.379167  Positive             1  "
      ]
     },
     "execution_count": 145,
     "metadata": {},
     "output_type": "execute_result"
    }
   ],
   "source": [
    "# df.drop(['Target'],axis=1,inplace=True)\n",
    "df.head()"
   ]
  },
  {
   "cell_type": "code",
   "execution_count": 146,
   "id": "e5427daa",
   "metadata": {},
   "outputs": [],
   "source": [
    "df.dropna(inplace=True)"
   ]
  },
  {
   "cell_type": "code",
   "execution_count": 147,
   "id": "6859e0cf",
   "metadata": {},
   "outputs": [
    {
     "data": {
      "text/plain": [
       "video_id        0\n",
       "comment_text    0\n",
       "likes           0\n",
       "replies         0\n",
       "Polarity        0\n",
       "Target          0\n",
       "Final_Target    0\n",
       "dtype: int64"
      ]
     },
     "execution_count": 147,
     "metadata": {},
     "output_type": "execute_result"
    }
   ],
   "source": [
    "df.isnull().sum()"
   ]
  },
  {
   "cell_type": "code",
   "execution_count": 148,
   "id": "e2757b4c",
   "metadata": {},
   "outputs": [],
   "source": [
    "# df.drop(41587, inplace=True)"
   ]
  },
  {
   "cell_type": "code",
   "execution_count": 149,
   "id": "f5d0d211",
   "metadata": {},
   "outputs": [],
   "source": [
    "# df = df.reset_index().drop('index',axis=1)"
   ]
  },
  {
   "cell_type": "code",
   "execution_count": 150,
   "id": "a3b56fbf",
   "metadata": {},
   "outputs": [],
   "source": [
    "df.likes = df.likes.astype(int)\n",
    "df.replies = df.replies.astype(int)"
   ]
  },
  {
   "cell_type": "code",
   "execution_count": 151,
   "id": "e253eb5a",
   "metadata": {},
   "outputs": [
    {
     "data": {
      "text/html": [
       "<div>\n",
       "<style scoped>\n",
       "    .dataframe tbody tr th:only-of-type {\n",
       "        vertical-align: middle;\n",
       "    }\n",
       "\n",
       "    .dataframe tbody tr th {\n",
       "        vertical-align: top;\n",
       "    }\n",
       "\n",
       "    .dataframe thead th {\n",
       "        text-align: right;\n",
       "    }\n",
       "</style>\n",
       "<table border=\"1\" class=\"dataframe\">\n",
       "  <thead>\n",
       "    <tr style=\"text-align: right;\">\n",
       "      <th></th>\n",
       "      <th>video_id</th>\n",
       "      <th>comment_text</th>\n",
       "      <th>likes</th>\n",
       "      <th>replies</th>\n",
       "      <th>Polarity</th>\n",
       "      <th>Target</th>\n",
       "      <th>Final_Target</th>\n",
       "    </tr>\n",
       "  </thead>\n",
       "  <tbody>\n",
       "    <tr>\n",
       "      <th>0</th>\n",
       "      <td>7YAAyUFL1GQ</td>\n",
       "      <td>K back to good music I was on autoplay and it ...</td>\n",
       "      <td>0</td>\n",
       "      <td>0</td>\n",
       "      <td>0.333333</td>\n",
       "      <td>Positive</td>\n",
       "      <td>1</td>\n",
       "    </tr>\n",
       "    <tr>\n",
       "      <th>1</th>\n",
       "      <td>fiEYKSMcHAI</td>\n",
       "      <td>Love your vids keep up with the good work</td>\n",
       "      <td>0</td>\n",
       "      <td>0</td>\n",
       "      <td>0.600000</td>\n",
       "      <td>Positive</td>\n",
       "      <td>1</td>\n",
       "    </tr>\n",
       "    <tr>\n",
       "      <th>2</th>\n",
       "      <td>368_ovPsJk8</td>\n",
       "      <td>Lmao what is she saying?! \\nShe said fuck you 😂</td>\n",
       "      <td>0</td>\n",
       "      <td>0</td>\n",
       "      <td>0.175000</td>\n",
       "      <td>Positive</td>\n",
       "      <td>1</td>\n",
       "    </tr>\n",
       "    <tr>\n",
       "      <th>3</th>\n",
       "      <td>-Jdc7FXupWQ</td>\n",
       "      <td>This cover is fantastic! Her voice is perfect ...</td>\n",
       "      <td>4</td>\n",
       "      <td>0</td>\n",
       "      <td>0.750000</td>\n",
       "      <td>Positive</td>\n",
       "      <td>1</td>\n",
       "    </tr>\n",
       "    <tr>\n",
       "      <th>4</th>\n",
       "      <td>bvomHFZO0mk</td>\n",
       "      <td>Cool! Just come to the US legally and we will ...</td>\n",
       "      <td>0</td>\n",
       "      <td>0</td>\n",
       "      <td>0.379167</td>\n",
       "      <td>Positive</td>\n",
       "      <td>1</td>\n",
       "    </tr>\n",
       "  </tbody>\n",
       "</table>\n",
       "</div>"
      ],
      "text/plain": [
       "      video_id                                       comment_text  likes  \\\n",
       "0  7YAAyUFL1GQ  K back to good music I was on autoplay and it ...      0   \n",
       "1  fiEYKSMcHAI          Love your vids keep up with the good work      0   \n",
       "2  368_ovPsJk8    Lmao what is she saying?! \\nShe said fuck you 😂      0   \n",
       "3  -Jdc7FXupWQ  This cover is fantastic! Her voice is perfect ...      4   \n",
       "4  bvomHFZO0mk  Cool! Just come to the US legally and we will ...      0   \n",
       "\n",
       "   replies  Polarity    Target  Final_Target  \n",
       "0        0  0.333333  Positive             1  \n",
       "1        0  0.600000  Positive             1  \n",
       "2        0  0.175000  Positive             1  \n",
       "3        0  0.750000  Positive             1  \n",
       "4        0  0.379167  Positive             1  "
      ]
     },
     "execution_count": 151,
     "metadata": {},
     "output_type": "execute_result"
    }
   ],
   "source": [
    "df.head()"
   ]
  },
  {
   "cell_type": "code",
   "execution_count": 152,
   "id": "42689604",
   "metadata": {},
   "outputs": [
    {
     "name": "stdout",
     "output_type": "stream",
     "text": [
      "<class 'pandas.core.frame.DataFrame'>\n",
      "Int64Index: 210000 entries, 0 to 209999\n",
      "Data columns (total 7 columns):\n",
      " #   Column        Non-Null Count   Dtype  \n",
      "---  ------        --------------   -----  \n",
      " 0   video_id      210000 non-null  object \n",
      " 1   comment_text  210000 non-null  object \n",
      " 2   likes         210000 non-null  int32  \n",
      " 3   replies       210000 non-null  int32  \n",
      " 4   Polarity      210000 non-null  float64\n",
      " 5   Target        210000 non-null  object \n",
      " 6   Final_Target  210000 non-null  int64  \n",
      "dtypes: float64(1), int32(2), int64(1), object(3)\n",
      "memory usage: 11.2+ MB\n"
     ]
    }
   ],
   "source": [
    "df.info()"
   ]
  },
  {
   "cell_type": "code",
   "execution_count": null,
   "id": "708c2bb5",
   "metadata": {},
   "outputs": [],
   "source": []
  },
  {
   "cell_type": "code",
   "execution_count": 153,
   "id": "fddb6a6e",
   "metadata": {},
   "outputs": [
    {
     "data": {
      "text/plain": [
       "0"
      ]
     },
     "execution_count": 153,
     "metadata": {},
     "output_type": "execute_result"
    }
   ],
   "source": [
    "df.duplicated().sum()"
   ]
  },
  {
   "cell_type": "code",
   "execution_count": 154,
   "id": "f95d8922",
   "metadata": {},
   "outputs": [],
   "source": [
    "# drop_df = df.drop_duplicates(keep='first')"
   ]
  },
  {
   "cell_type": "code",
   "execution_count": 155,
   "id": "adc1bdce",
   "metadata": {},
   "outputs": [],
   "source": [
    "# len(drop_df)"
   ]
  },
  {
   "cell_type": "code",
   "execution_count": 156,
   "id": "48690e92",
   "metadata": {},
   "outputs": [],
   "source": [
    "# drop_df.to_csv('New_Dropped_Uscomments.csv',index=False)"
   ]
  },
  {
   "cell_type": "code",
   "execution_count": 157,
   "id": "e3cb8edd",
   "metadata": {},
   "outputs": [],
   "source": [
    "from textblob import TextBlob"
   ]
  },
  {
   "cell_type": "code",
   "execution_count": 18,
   "id": "cd87f90e",
   "metadata": {},
   "outputs": [],
   "source": [
    "# polarity = []\n",
    "# for comment in df['comment_text']:\n",
    "#     try:\n",
    "#         polarity.append(TextBlob(comment).sentiment.polarity)\n",
    "#     except:\n",
    "#         polarity.append(0)"
   ]
  },
  {
   "cell_type": "code",
   "execution_count": 19,
   "id": "437eb513",
   "metadata": {},
   "outputs": [],
   "source": [
    "# df['Polarity'] = polarity"
   ]
  },
  {
   "cell_type": "code",
   "execution_count": 41,
   "id": "ec6aa6ac",
   "metadata": {},
   "outputs": [],
   "source": [
    "# df.head()"
   ]
  },
  {
   "cell_type": "code",
   "execution_count": 22,
   "id": "d43f7492",
   "metadata": {},
   "outputs": [],
   "source": [
    "# x=[]\n",
    "# for i in df.Polarity:\n",
    "#     if i>0:\n",
    "#         x.append('Positive')\n",
    "#     elif i<0:\n",
    "#         x.append('Negative')\n",
    "#     else:\n",
    "#         x.append('Neutral')\n",
    "        "
   ]
  },
  {
   "cell_type": "code",
   "execution_count": 23,
   "id": "b0c6a232",
   "metadata": {},
   "outputs": [],
   "source": [
    "# df['Target'] = x"
   ]
  },
  {
   "cell_type": "code",
   "execution_count": 158,
   "id": "7121a18f",
   "metadata": {},
   "outputs": [
    {
     "data": {
      "text/plain": [
       " 1    70000\n",
       "-1    70000\n",
       " 0    70000\n",
       "Name: Final_Target, dtype: int64"
      ]
     },
     "execution_count": 158,
     "metadata": {},
     "output_type": "execute_result"
    }
   ],
   "source": [
    "df['Final_Target'].value_counts()"
   ]
  },
  {
   "cell_type": "code",
   "execution_count": 25,
   "id": "2e43c523",
   "metadata": {},
   "outputs": [
    {
     "data": {
      "text/plain": [
       "471631"
      ]
     },
     "execution_count": 25,
     "metadata": {},
     "output_type": "execute_result"
    }
   ],
   "source": [
    "# # dropna\n",
    "# tmp = df.drop_duplicates(keep='first')\n",
    "# len(tmp)"
   ]
  },
  {
   "cell_type": "code",
   "execution_count": 43,
   "id": "efd4c7dc",
   "metadata": {},
   "outputs": [],
   "source": [
    "# tmp['Target'].value_counts()"
   ]
  },
  {
   "cell_type": "code",
   "execution_count": 45,
   "id": "a6fd04c9",
   "metadata": {},
   "outputs": [],
   "source": [
    "# df.drop_duplicates(keep='first')"
   ]
  },
  {
   "cell_type": "code",
   "execution_count": 27,
   "id": "c3d1fb8e",
   "metadata": {},
   "outputs": [],
   "source": [
    "# tmp.to_csv(\"New_DF_Positive_Negative_Netural_dropna.csv\",index=False)"
   ]
  },
  {
   "cell_type": "code",
   "execution_count": null,
   "id": "12bcca44",
   "metadata": {},
   "outputs": [],
   "source": []
  },
  {
   "cell_type": "code",
   "execution_count": 22,
   "id": "a3145db1",
   "metadata": {},
   "outputs": [],
   "source": [
    "# tmp_positive = df[df['Target']=='Positive'].sample(70000)\n",
    "# tmp_negative = df[df['Target']=='Negative'].sample(70000)\n",
    "# tmp_netural = df[df['Target']=='Neutral'].sample(70000)"
   ]
  },
  {
   "cell_type": "code",
   "execution_count": 23,
   "id": "4a5e8049",
   "metadata": {},
   "outputs": [],
   "source": [
    "# df1 = pd.concat([tmp_positive,tmp_negative,tmp_netural],ignore_index=True)"
   ]
  },
  {
   "cell_type": "code",
   "execution_count": 24,
   "id": "aff27cfc",
   "metadata": {},
   "outputs": [
    {
     "data": {
      "text/html": [
       "<div>\n",
       "<style scoped>\n",
       "    .dataframe tbody tr th:only-of-type {\n",
       "        vertical-align: middle;\n",
       "    }\n",
       "\n",
       "    .dataframe tbody tr th {\n",
       "        vertical-align: top;\n",
       "    }\n",
       "\n",
       "    .dataframe thead th {\n",
       "        text-align: right;\n",
       "    }\n",
       "</style>\n",
       "<table border=\"1\" class=\"dataframe\">\n",
       "  <thead>\n",
       "    <tr style=\"text-align: right;\">\n",
       "      <th></th>\n",
       "      <th>video_id</th>\n",
       "      <th>comment_text</th>\n",
       "      <th>likes</th>\n",
       "      <th>replies</th>\n",
       "      <th>Polarity</th>\n",
       "      <th>Target</th>\n",
       "    </tr>\n",
       "  </thead>\n",
       "  <tbody>\n",
       "    <tr>\n",
       "      <th>0</th>\n",
       "      <td>7YAAyUFL1GQ</td>\n",
       "      <td>K back to good music I was on autoplay and it ...</td>\n",
       "      <td>0</td>\n",
       "      <td>0</td>\n",
       "      <td>0.333333</td>\n",
       "      <td>Positive</td>\n",
       "    </tr>\n",
       "    <tr>\n",
       "      <th>1</th>\n",
       "      <td>fiEYKSMcHAI</td>\n",
       "      <td>Love your vids keep up with the good work</td>\n",
       "      <td>0</td>\n",
       "      <td>0</td>\n",
       "      <td>0.600000</td>\n",
       "      <td>Positive</td>\n",
       "    </tr>\n",
       "    <tr>\n",
       "      <th>2</th>\n",
       "      <td>368_ovPsJk8</td>\n",
       "      <td>Lmao what is she saying?! \\nShe said fuck you 😂</td>\n",
       "      <td>0</td>\n",
       "      <td>0</td>\n",
       "      <td>0.175000</td>\n",
       "      <td>Positive</td>\n",
       "    </tr>\n",
       "    <tr>\n",
       "      <th>3</th>\n",
       "      <td>-Jdc7FXupWQ</td>\n",
       "      <td>This cover is fantastic! Her voice is perfect ...</td>\n",
       "      <td>4</td>\n",
       "      <td>0</td>\n",
       "      <td>0.750000</td>\n",
       "      <td>Positive</td>\n",
       "    </tr>\n",
       "    <tr>\n",
       "      <th>4</th>\n",
       "      <td>bvomHFZO0mk</td>\n",
       "      <td>Cool! Just come to the US legally and we will ...</td>\n",
       "      <td>0</td>\n",
       "      <td>0</td>\n",
       "      <td>0.379167</td>\n",
       "      <td>Positive</td>\n",
       "    </tr>\n",
       "  </tbody>\n",
       "</table>\n",
       "</div>"
      ],
      "text/plain": [
       "      video_id                                       comment_text  likes  \\\n",
       "0  7YAAyUFL1GQ  K back to good music I was on autoplay and it ...      0   \n",
       "1  fiEYKSMcHAI          Love your vids keep up with the good work      0   \n",
       "2  368_ovPsJk8    Lmao what is she saying?! \\nShe said fuck you 😂      0   \n",
       "3  -Jdc7FXupWQ  This cover is fantastic! Her voice is perfect ...      4   \n",
       "4  bvomHFZO0mk  Cool! Just come to the US legally and we will ...      0   \n",
       "\n",
       "   replies  Polarity    Target  \n",
       "0        0  0.333333  Positive  \n",
       "1        0  0.600000  Positive  \n",
       "2        0  0.175000  Positive  \n",
       "3        0  0.750000  Positive  \n",
       "4        0  0.379167  Positive  "
      ]
     },
     "execution_count": 24,
     "metadata": {},
     "output_type": "execute_result"
    }
   ],
   "source": [
    "# df1.head()"
   ]
  },
  {
   "cell_type": "code",
   "execution_count": 25,
   "id": "962106f2",
   "metadata": {},
   "outputs": [
    {
     "data": {
      "text/plain": [
       "Positive    70000\n",
       "Negative    70000\n",
       "Neutral     70000\n",
       "Name: Target, dtype: int64"
      ]
     },
     "execution_count": 25,
     "metadata": {},
     "output_type": "execute_result"
    }
   ],
   "source": [
    "# df1['Target'].value_counts()"
   ]
  },
  {
   "cell_type": "code",
   "execution_count": 27,
   "id": "692d3832",
   "metadata": {},
   "outputs": [],
   "source": [
    "# df1.to_csv(\"Random_same_sample_ALL_3_Category.csv\",index=False)"
   ]
  },
  {
   "cell_type": "code",
   "execution_count": null,
   "id": "a66c6f90",
   "metadata": {},
   "outputs": [],
   "source": []
  },
  {
   "cell_type": "code",
   "execution_count": null,
   "id": "567e9c5f",
   "metadata": {},
   "outputs": [],
   "source": []
  },
  {
   "cell_type": "code",
   "execution_count": null,
   "id": "bfbd059c",
   "metadata": {},
   "outputs": [],
   "source": []
  },
  {
   "cell_type": "code",
   "execution_count": null,
   "id": "06086b1f",
   "metadata": {},
   "outputs": [],
   "source": []
  },
  {
   "cell_type": "code",
   "execution_count": 159,
   "id": "cd3ec022",
   "metadata": {},
   "outputs": [],
   "source": [
    "import nltk\n",
    "from nltk.tokenize import sent_tokenize, word_tokenize\n",
    "from nltk.corpus import stopwords\n",
    "from nltk.stem.porter import *\n",
    "from nltk.stem import PorterStemmer\n",
    "from sklearn.feature_extraction.text import TfidfVectorizer\n",
    "from sklearn.feature_extraction.text import CountVectorizer"
   ]
  },
  {
   "cell_type": "code",
   "execution_count": 160,
   "id": "cf6258f3",
   "metadata": {},
   "outputs": [],
   "source": [
    "sw = stopwords.words('english')\n",
    "ps = PorterStemmer()\n",
    "lemmatizer = nltk.stem.WordNetLemmatizer()"
   ]
  },
  {
   "cell_type": "code",
   "execution_count": null,
   "id": "91192410",
   "metadata": {},
   "outputs": [],
   "source": []
  },
  {
   "cell_type": "code",
   "execution_count": 161,
   "id": "024f368d",
   "metadata": {},
   "outputs": [
    {
     "data": {
      "text/html": [
       "<div>\n",
       "<style scoped>\n",
       "    .dataframe tbody tr th:only-of-type {\n",
       "        vertical-align: middle;\n",
       "    }\n",
       "\n",
       "    .dataframe tbody tr th {\n",
       "        vertical-align: top;\n",
       "    }\n",
       "\n",
       "    .dataframe thead th {\n",
       "        text-align: right;\n",
       "    }\n",
       "</style>\n",
       "<table border=\"1\" class=\"dataframe\">\n",
       "  <thead>\n",
       "    <tr style=\"text-align: right;\">\n",
       "      <th></th>\n",
       "      <th>video_id</th>\n",
       "      <th>comment_text</th>\n",
       "      <th>likes</th>\n",
       "      <th>replies</th>\n",
       "      <th>Polarity</th>\n",
       "      <th>Target</th>\n",
       "      <th>Final_Target</th>\n",
       "    </tr>\n",
       "  </thead>\n",
       "  <tbody>\n",
       "    <tr>\n",
       "      <th>0</th>\n",
       "      <td>7YAAyUFL1GQ</td>\n",
       "      <td>K back to good music I was on autoplay and it ...</td>\n",
       "      <td>0</td>\n",
       "      <td>0</td>\n",
       "      <td>0.333333</td>\n",
       "      <td>Positive</td>\n",
       "      <td>1</td>\n",
       "    </tr>\n",
       "    <tr>\n",
       "      <th>1</th>\n",
       "      <td>fiEYKSMcHAI</td>\n",
       "      <td>Love your vids keep up with the good work</td>\n",
       "      <td>0</td>\n",
       "      <td>0</td>\n",
       "      <td>0.600000</td>\n",
       "      <td>Positive</td>\n",
       "      <td>1</td>\n",
       "    </tr>\n",
       "    <tr>\n",
       "      <th>2</th>\n",
       "      <td>368_ovPsJk8</td>\n",
       "      <td>Lmao what is she saying?! \\nShe said fuck you 😂</td>\n",
       "      <td>0</td>\n",
       "      <td>0</td>\n",
       "      <td>0.175000</td>\n",
       "      <td>Positive</td>\n",
       "      <td>1</td>\n",
       "    </tr>\n",
       "    <tr>\n",
       "      <th>3</th>\n",
       "      <td>-Jdc7FXupWQ</td>\n",
       "      <td>This cover is fantastic! Her voice is perfect ...</td>\n",
       "      <td>4</td>\n",
       "      <td>0</td>\n",
       "      <td>0.750000</td>\n",
       "      <td>Positive</td>\n",
       "      <td>1</td>\n",
       "    </tr>\n",
       "    <tr>\n",
       "      <th>4</th>\n",
       "      <td>bvomHFZO0mk</td>\n",
       "      <td>Cool! Just come to the US legally and we will ...</td>\n",
       "      <td>0</td>\n",
       "      <td>0</td>\n",
       "      <td>0.379167</td>\n",
       "      <td>Positive</td>\n",
       "      <td>1</td>\n",
       "    </tr>\n",
       "  </tbody>\n",
       "</table>\n",
       "</div>"
      ],
      "text/plain": [
       "      video_id                                       comment_text  likes  \\\n",
       "0  7YAAyUFL1GQ  K back to good music I was on autoplay and it ...      0   \n",
       "1  fiEYKSMcHAI          Love your vids keep up with the good work      0   \n",
       "2  368_ovPsJk8    Lmao what is she saying?! \\nShe said fuck you 😂      0   \n",
       "3  -Jdc7FXupWQ  This cover is fantastic! Her voice is perfect ...      4   \n",
       "4  bvomHFZO0mk  Cool! Just come to the US legally and we will ...      0   \n",
       "\n",
       "   replies  Polarity    Target  Final_Target  \n",
       "0        0  0.333333  Positive             1  \n",
       "1        0  0.600000  Positive             1  \n",
       "2        0  0.175000  Positive             1  \n",
       "3        0  0.750000  Positive             1  \n",
       "4        0  0.379167  Positive             1  "
      ]
     },
     "execution_count": 161,
     "metadata": {},
     "output_type": "execute_result"
    }
   ],
   "source": [
    "df.head()"
   ]
  },
  {
   "cell_type": "code",
   "execution_count": 90,
   "id": "99d5bdeb",
   "metadata": {},
   "outputs": [
    {
     "name": "stdout",
     "output_type": "stream",
     "text": [
      "<class 'list'>\n",
      "lmao what is she saying?! \\nshe said fuck you 😂\n"
     ]
    }
   ],
   "source": [
    "# print(type(df['com_token'][0]))\n",
    "# print(df['com_token'][2])"
   ]
  },
  {
   "cell_type": "code",
   "execution_count": null,
   "id": "cc3907d1",
   "metadata": {},
   "outputs": [],
   "source": []
  },
  {
   "cell_type": "code",
   "execution_count": null,
   "id": "676c7bb2",
   "metadata": {},
   "outputs": [],
   "source": []
  },
  {
   "cell_type": "code",
   "execution_count": null,
   "id": "ffaf4744",
   "metadata": {},
   "outputs": [],
   "source": []
  },
  {
   "cell_type": "code",
   "execution_count": 160,
   "id": "fcb86b48",
   "metadata": {},
   "outputs": [],
   "source": [
    "# def transform_text(text):\n",
    "# #     text1 = convert_emojis_to_word(text)\n",
    "# #     text.encode('utf-8')\n",
    "#     text1=text.lower()\n",
    "# #     text1 = [y for y in text1 if y not in sw]\n",
    "# #     text1 = \" \".join(text1)\n",
    "# #     print(text1)\n",
    "#     text1=nltk.word_tokenize(text1)\n",
    "# #     text1 = [lemmatizer.lemmatize(y) for y in text1]\n",
    "# #     text1 = \" \".join(text1)\n",
    "#     print(text1)\n",
    "    \n",
    "#     y=[]\n",
    "#     for i in text1:\n",
    "#         if i not in string.punctuation:\n",
    "#             y.append(i)\n",
    "# #         if i.isalnum() or i==\" \":\n",
    "# # #         if i.islower() or i.encode('utf-8'):\n",
    "# # #         if i.islower():\n",
    "# #             y.append(i)\n",
    "#     text1=y[:]\n",
    "    \n",
    "#     y.clear()\n",
    "# #     text1 = \"\".join(text1)\n",
    "#     print(text1)\n",
    "#     tmp=\"\"\n",
    "#     for i in text1:\n",
    "#         tmp+=i+\" \"\n",
    "#     tmp = tmp.strip()\n",
    "    \n",
    "#     text1 = tmp.split()\n",
    "#     print(tmp.split())\n",
    "#     for i in text1:\n",
    "#         y.append(lemmatizer.lemmatize(y))\n",
    "# #         if i not in stopwords.words('english') and i not in string.punctuation:\n",
    "# #             y.append(i)\n",
    "# # #         if i in emoji.distinct_emoji_list(i):\n",
    "# # #             y.append(i)\n",
    "#     text1=y[:]\n",
    "#     print(text1)\n",
    "# # #     y.clear()\n",
    "# # #     ps=PorterStemmer()\n",
    "# # #     for i in text1:\n",
    "# # #         y.append(ps.stem(i))\n",
    "# # #     print(text1)\n",
    "# #     return \" \".join(y)"
   ]
  },
  {
   "cell_type": "code",
   "execution_count": 162,
   "id": "d6d5ef7d",
   "metadata": {},
   "outputs": [],
   "source": [
    "def transform_text_2(df):\n",
    "    df['com_token'] = df['comment'].str.lower()\n",
    "    txt = df['com_token'][0]\n",
    "    txt = nltk.word_tokenize(txt)\n",
    "#     print(txt)\n",
    "    df['com_token'][0] = txt\n",
    "    df['com_remv'] = df['com_token'].apply(lambda x: [y for y in x if y not in sw and y not in string.punctuation])\n",
    "    df[\"com_lemma\"] = df['com_remv'].apply(lambda x : [lemmatizer.lemmatize(y) for y in x]) # lemmatization\n",
    "        \n",
    "#     print(df['com_token'][0])\n",
    "#     print(df['com_remv'][0])\n",
    "#     print(df['com_lemma'][0])\n",
    "    \n",
    "    final_str = ' '.join(df['com_lemma'][0])\n",
    "    \n",
    "#     print(final_str)\n",
    "#     print(type(final_str))\n",
    "    return final_str\n",
    "    "
   ]
  },
  {
   "cell_type": "code",
   "execution_count": 48,
   "id": "5a2983ba",
   "metadata": {},
   "outputs": [
    {
     "data": {
      "text/html": [
       "<div>\n",
       "<style scoped>\n",
       "    .dataframe tbody tr th:only-of-type {\n",
       "        vertical-align: middle;\n",
       "    }\n",
       "\n",
       "    .dataframe tbody tr th {\n",
       "        vertical-align: top;\n",
       "    }\n",
       "\n",
       "    .dataframe thead th {\n",
       "        text-align: right;\n",
       "    }\n",
       "</style>\n",
       "<table border=\"1\" class=\"dataframe\">\n",
       "  <thead>\n",
       "    <tr style=\"text-align: right;\">\n",
       "      <th></th>\n",
       "      <th>comment</th>\n",
       "    </tr>\n",
       "  </thead>\n",
       "  <tbody>\n",
       "    <tr>\n",
       "      <th>0</th>\n",
       "      <td>The end though happy😭👍</td>\n",
       "    </tr>\n",
       "  </tbody>\n",
       "</table>\n",
       "</div>"
      ],
      "text/plain": [
       "                  comment\n",
       "0  The end though happy😭👍"
      ]
     },
     "execution_count": 48,
     "metadata": {},
     "output_type": "execute_result"
    }
   ],
   "source": [
    "# transform_text('Lost on you ! 😍\\nOH My God I love this song !😭')\n",
    "# str='I ??? m being you knows and!!! happy you'\n",
    "# str = 'Lost on you ! 😍\\nOH My God I love this song !😭'\n",
    "str='The end though happy😭👍'\n",
    "df = pd.DataFrame({'comment':str},index=[0])\n",
    "df"
   ]
  },
  {
   "cell_type": "code",
   "execution_count": 49,
   "id": "eb0f613d",
   "metadata": {},
   "outputs": [
    {
     "data": {
      "text/plain": [
       "'end though happy😭👍'"
      ]
     },
     "execution_count": 49,
     "metadata": {},
     "output_type": "execute_result"
    }
   ],
   "source": [
    "transform_text_2(df)"
   ]
  },
  {
   "cell_type": "code",
   "execution_count": 50,
   "id": "cd909b02",
   "metadata": {},
   "outputs": [
    {
     "name": "stdout",
     "output_type": "stream",
     "text": [
      "<class 'str'>\n"
     ]
    }
   ],
   "source": [
    "tm = df['comment'][0]\n",
    "print(type(tm))"
   ]
  },
  {
   "cell_type": "code",
   "execution_count": null,
   "id": "70d5c40c",
   "metadata": {},
   "outputs": [],
   "source": [
    "def clean(str):\n",
    "    txt=str\n",
    "    txt = txt.replace('\\\\n','')\n",
    "    txt = txt.replace('\\\\','')\n",
    "    \n",
    "    return txt"
   ]
  },
  {
   "cell_type": "code",
   "execution_count": 218,
   "id": "9bb03466",
   "metadata": {},
   "outputs": [],
   "source": [
    "# df['clean_comment'] = df['clean_comment'].apply(clean)"
   ]
  },
  {
   "cell_type": "code",
   "execution_count": 219,
   "id": "4eeea52e",
   "metadata": {},
   "outputs": [
    {
     "data": {
      "text/html": [
       "<div>\n",
       "<style scoped>\n",
       "    .dataframe tbody tr th:only-of-type {\n",
       "        vertical-align: middle;\n",
       "    }\n",
       "\n",
       "    .dataframe tbody tr th {\n",
       "        vertical-align: top;\n",
       "    }\n",
       "\n",
       "    .dataframe thead th {\n",
       "        text-align: right;\n",
       "    }\n",
       "</style>\n",
       "<table border=\"1\" class=\"dataframe\">\n",
       "  <thead>\n",
       "    <tr style=\"text-align: right;\">\n",
       "      <th></th>\n",
       "      <th>video_id</th>\n",
       "      <th>comment_text</th>\n",
       "      <th>likes</th>\n",
       "      <th>replies</th>\n",
       "      <th>Polarity</th>\n",
       "      <th>Target</th>\n",
       "      <th>Final_Target</th>\n",
       "      <th>clean_comment</th>\n",
       "    </tr>\n",
       "  </thead>\n",
       "  <tbody>\n",
       "    <tr>\n",
       "      <th>0</th>\n",
       "      <td>7YAAyUFL1GQ</td>\n",
       "      <td>K back to good music I was on autoplay and it ...</td>\n",
       "      <td>0</td>\n",
       "      <td>0</td>\n",
       "      <td>0.333333</td>\n",
       "      <td>Positive</td>\n",
       "      <td>1</td>\n",
       "      <td>k back good music autoplay went jacob sartoriu...</td>\n",
       "    </tr>\n",
       "    <tr>\n",
       "      <th>1</th>\n",
       "      <td>fiEYKSMcHAI</td>\n",
       "      <td>Love your vids keep up with the good work</td>\n",
       "      <td>0</td>\n",
       "      <td>0</td>\n",
       "      <td>0.600000</td>\n",
       "      <td>Positive</td>\n",
       "      <td>1</td>\n",
       "      <td>love vids keep good work</td>\n",
       "    </tr>\n",
       "    <tr>\n",
       "      <th>2</th>\n",
       "      <td>368_ovPsJk8</td>\n",
       "      <td>Lmao what is she saying?! \\nShe said fuck you 😂</td>\n",
       "      <td>0</td>\n",
       "      <td>0</td>\n",
       "      <td>0.175000</td>\n",
       "      <td>Positive</td>\n",
       "      <td>1</td>\n",
       "      <td>lmao saying she said fuck</td>\n",
       "    </tr>\n",
       "    <tr>\n",
       "      <th>3</th>\n",
       "      <td>-Jdc7FXupWQ</td>\n",
       "      <td>This cover is fantastic! Her voice is perfect ...</td>\n",
       "      <td>4</td>\n",
       "      <td>0</td>\n",
       "      <td>0.750000</td>\n",
       "      <td>Positive</td>\n",
       "      <td>1</td>\n",
       "      <td>cover fantastic voice perfect</td>\n",
       "    </tr>\n",
       "    <tr>\n",
       "      <th>4</th>\n",
       "      <td>bvomHFZO0mk</td>\n",
       "      <td>Cool! Just come to the US legally and we will ...</td>\n",
       "      <td>0</td>\n",
       "      <td>0</td>\n",
       "      <td>0.379167</td>\n",
       "      <td>Positive</td>\n",
       "      <td>1</td>\n",
       "      <td>cool come u legally problem whatsoever</td>\n",
       "    </tr>\n",
       "  </tbody>\n",
       "</table>\n",
       "</div>"
      ],
      "text/plain": [
       "      video_id                                       comment_text  likes  \\\n",
       "0  7YAAyUFL1GQ  K back to good music I was on autoplay and it ...      0   \n",
       "1  fiEYKSMcHAI          Love your vids keep up with the good work      0   \n",
       "2  368_ovPsJk8    Lmao what is she saying?! \\nShe said fuck you 😂      0   \n",
       "3  -Jdc7FXupWQ  This cover is fantastic! Her voice is perfect ...      4   \n",
       "4  bvomHFZO0mk  Cool! Just come to the US legally and we will ...      0   \n",
       "\n",
       "   replies  Polarity    Target  Final_Target  \\\n",
       "0        0  0.333333  Positive             1   \n",
       "1        0  0.600000  Positive             1   \n",
       "2        0  0.175000  Positive             1   \n",
       "3        0  0.750000  Positive             1   \n",
       "4        0  0.379167  Positive             1   \n",
       "\n",
       "                                       clean_comment  \n",
       "0  k back good music autoplay went jacob sartoriu...  \n",
       "1                           love vids keep good work  \n",
       "2                          lmao saying she said fuck  \n",
       "3                      cover fantastic voice perfect  \n",
       "4             cool come u legally problem whatsoever  "
      ]
     },
     "execution_count": 219,
     "metadata": {},
     "output_type": "execute_result"
    }
   ],
   "source": [
    "df.head()"
   ]
  },
  {
   "cell_type": "code",
   "execution_count": null,
   "id": "49e62567",
   "metadata": {},
   "outputs": [],
   "source": []
  },
  {
   "cell_type": "code",
   "execution_count": 214,
   "id": "cbf40ab1",
   "metadata": {},
   "outputs": [],
   "source": []
  },
  {
   "cell_type": "code",
   "execution_count": null,
   "id": "2fb5fe1e",
   "metadata": {},
   "outputs": [],
   "source": []
  },
  {
   "cell_type": "code",
   "execution_count": null,
   "id": "c3b97333",
   "metadata": {},
   "outputs": [],
   "source": []
  },
  {
   "cell_type": "code",
   "execution_count": 222,
   "id": "cdfe21f8",
   "metadata": {},
   "outputs": [],
   "source": [
    "tfidf1 = TfidfVectorizer(stop_words=sw,max_features=20)\n",
    "def transform1(txt1):\n",
    "    txt2=tfidf1.fit_transform(txt1)\n",
    "    return txt2.toarray()"
   ]
  },
  {
   "cell_type": "code",
   "execution_count": null,
   "id": "f44692d5",
   "metadata": {},
   "outputs": [],
   "source": []
  },
  {
   "cell_type": "code",
   "execution_count": 223,
   "id": "bdc31f6e",
   "metadata": {},
   "outputs": [],
   "source": [
    "x = transform1(df['clean_comment'])\n",
    "y=df[\"Final_Target\"]"
   ]
  },
  {
   "cell_type": "code",
   "execution_count": 224,
   "id": "c75e31a0",
   "metadata": {},
   "outputs": [],
   "source": [
    "x_train1,x_test1,y_train1,y_test1=train_test_split(x,y,test_size=0.3,random_state=101)"
   ]
  },
  {
   "cell_type": "code",
   "execution_count": 225,
   "id": "700d91e5",
   "metadata": {},
   "outputs": [
    {
     "data": {
      "text/plain": [
       "MultinomialNB()"
      ]
     },
     "execution_count": 225,
     "metadata": {},
     "output_type": "execute_result"
    }
   ],
   "source": [
    "model1=MultinomialNB()\n",
    "# model1=RandomForestClassifier()\n",
    "# model1=LogisticRegression()\n",
    "model1.fit(x_train1,y_train1)"
   ]
  },
  {
   "cell_type": "code",
   "execution_count": 226,
   "id": "41de3f11",
   "metadata": {},
   "outputs": [],
   "source": [
    "y_pred = model1.predict(x_test1)"
   ]
  },
  {
   "cell_type": "code",
   "execution_count": 227,
   "id": "4ee94bb1",
   "metadata": {},
   "outputs": [
    {
     "name": "stdout",
     "output_type": "stream",
     "text": [
      "              precision    recall  f1-score   support\n",
      "\n",
      "          -1       0.50      0.15      0.23     21050\n",
      "           0       0.40      0.95      0.56     20973\n",
      "           1       0.83      0.28      0.42     20977\n",
      "\n",
      "    accuracy                           0.46     63000\n",
      "   macro avg       0.58      0.46      0.40     63000\n",
      "weighted avg       0.58      0.46      0.40     63000\n",
      "\n"
     ]
    }
   ],
   "source": [
    "from sklearn.metrics import classification_report\n",
    "print(classification_report(y_test1,y_pred))"
   ]
  },
  {
   "cell_type": "code",
   "execution_count": 229,
   "id": "d1775b67",
   "metadata": {},
   "outputs": [
    {
     "name": "stdout",
     "output_type": "stream",
     "text": [
      "              precision    recall  f1-score   support\n",
      "\n",
      "          -1       0.15      0.50      0.23      6157\n",
      "           0       0.95      0.40      0.56     49872\n",
      "           1       0.28      0.83      0.42      6971\n",
      "\n",
      "    accuracy                           0.46     63000\n",
      "   macro avg       0.46      0.58      0.40     63000\n",
      "weighted avg       0.80      0.46      0.51     63000\n",
      "\n"
     ]
    }
   ],
   "source": [
    "print(classification_report(y_pred,y_test1))"
   ]
  },
  {
   "cell_type": "code",
   "execution_count": 228,
   "id": "a66e4a6c",
   "metadata": {},
   "outputs": [
    {
     "name": "stdout",
     "output_type": "stream",
     "text": [
      "0.4585714285714286\n"
     ]
    }
   ],
   "source": [
    "print(accuracy_score(y_pred,y_test1))"
   ]
  },
  {
   "cell_type": "code",
   "execution_count": null,
   "id": "ba74d32b",
   "metadata": {},
   "outputs": [],
   "source": []
  },
  {
   "cell_type": "code",
   "execution_count": null,
   "id": "e1c939bb",
   "metadata": {},
   "outputs": [],
   "source": []
  },
  {
   "cell_type": "code",
   "execution_count": 97,
   "id": "078fc1c0",
   "metadata": {},
   "outputs": [],
   "source": [
    "new_emoji_df = pd.read_csv(r\"ijstable.csv\")"
   ]
  },
  {
   "cell_type": "code",
   "execution_count": 98,
   "id": "dd300cf4",
   "metadata": {},
   "outputs": [],
   "source": [
    "new_df = new_emoji_df[1:]"
   ]
  },
  {
   "cell_type": "code",
   "execution_count": 99,
   "id": "20b5abd4",
   "metadata": {},
   "outputs": [
    {
     "data": {
      "text/html": [
       "<div>\n",
       "<style scoped>\n",
       "    .dataframe tbody tr th:only-of-type {\n",
       "        vertical-align: middle;\n",
       "    }\n",
       "\n",
       "    .dataframe tbody tr th {\n",
       "        vertical-align: top;\n",
       "    }\n",
       "\n",
       "    .dataframe thead th {\n",
       "        text-align: right;\n",
       "    }\n",
       "</style>\n",
       "<table border=\"1\" class=\"dataframe\">\n",
       "  <thead>\n",
       "    <tr style=\"text-align: right;\">\n",
       "      <th></th>\n",
       "      <th>Char</th>\n",
       "      <th>Unnamed: 1</th>\n",
       "      <th>Unicode</th>\n",
       "      <th>Occurrences</th>\n",
       "      <th>Position</th>\n",
       "      <th>Neg</th>\n",
       "      <th>Neut</th>\n",
       "      <th>Pos</th>\n",
       "      <th>Sentiment score</th>\n",
       "      <th>Sentiment bar</th>\n",
       "      <th>Unicode name</th>\n",
       "      <th>Unicode block</th>\n",
       "    </tr>\n",
       "  </thead>\n",
       "  <tbody>\n",
       "    <tr>\n",
       "      <th>0</th>\n",
       "      <td>😂</td>\n",
       "      <td>NaN</td>\n",
       "      <td>0x1f602</td>\n",
       "      <td>14622</td>\n",
       "      <td>0.805</td>\n",
       "      <td>0.247</td>\n",
       "      <td>0.285</td>\n",
       "      <td>0.468</td>\n",
       "      <td>0.221</td>\n",
       "      <td>NaN</td>\n",
       "      <td>FACE WITH TEARS OF JOY</td>\n",
       "      <td>Emoticons</td>\n",
       "    </tr>\n",
       "    <tr>\n",
       "      <th>1</th>\n",
       "      <td>❤</td>\n",
       "      <td>NaN</td>\n",
       "      <td>0x2764</td>\n",
       "      <td>8050</td>\n",
       "      <td>0.747</td>\n",
       "      <td>0.044</td>\n",
       "      <td>0.166</td>\n",
       "      <td>0.79</td>\n",
       "      <td>0.746</td>\n",
       "      <td>NaN</td>\n",
       "      <td>HEAVY BLACK HEART</td>\n",
       "      <td>Dingbats</td>\n",
       "    </tr>\n",
       "    <tr>\n",
       "      <th>2</th>\n",
       "      <td>♥</td>\n",
       "      <td>NaN</td>\n",
       "      <td>0x2665</td>\n",
       "      <td>7144</td>\n",
       "      <td>0.754</td>\n",
       "      <td>0.035</td>\n",
       "      <td>0.272</td>\n",
       "      <td>0.693</td>\n",
       "      <td>0.657</td>\n",
       "      <td>NaN</td>\n",
       "      <td>BLACK HEART SUIT</td>\n",
       "      <td>Miscellaneous Symbols</td>\n",
       "    </tr>\n",
       "    <tr>\n",
       "      <th>3</th>\n",
       "      <td>😍</td>\n",
       "      <td>NaN</td>\n",
       "      <td>0x1f60d</td>\n",
       "      <td>6359</td>\n",
       "      <td>0.765</td>\n",
       "      <td>0.052</td>\n",
       "      <td>0.219</td>\n",
       "      <td>0.729</td>\n",
       "      <td>0.678</td>\n",
       "      <td>NaN</td>\n",
       "      <td>SMILING FACE WITH HEART-SHAPED EYES</td>\n",
       "      <td>Emoticons</td>\n",
       "    </tr>\n",
       "    <tr>\n",
       "      <th>4</th>\n",
       "      <td>😭</td>\n",
       "      <td>NaN</td>\n",
       "      <td>0x1f62d</td>\n",
       "      <td>5526</td>\n",
       "      <td>0.803</td>\n",
       "      <td>0.436</td>\n",
       "      <td>0.22</td>\n",
       "      <td>0.343</td>\n",
       "      <td>-0.093</td>\n",
       "      <td>NaN</td>\n",
       "      <td>LOUDLY CRYING FACE</td>\n",
       "      <td>Emoticons</td>\n",
       "    </tr>\n",
       "    <tr>\n",
       "      <th>...</th>\n",
       "      <td>...</td>\n",
       "      <td>...</td>\n",
       "      <td>...</td>\n",
       "      <td>...</td>\n",
       "      <td>...</td>\n",
       "      <td>...</td>\n",
       "      <td>...</td>\n",
       "      <td>...</td>\n",
       "      <td>...</td>\n",
       "      <td>...</td>\n",
       "      <td>...</td>\n",
       "      <td>...</td>\n",
       "    </tr>\n",
       "    <tr>\n",
       "      <th>746</th>\n",
       "      <td>♮</td>\n",
       "      <td>NaN</td>\n",
       "      <td>0x266e</td>\n",
       "      <td>5</td>\n",
       "      <td>0.937</td>\n",
       "      <td>0.125</td>\n",
       "      <td>0.625</td>\n",
       "      <td>0.25</td>\n",
       "      <td>0.125</td>\n",
       "      <td>NaN</td>\n",
       "      <td>MUSIC NATURAL SIGN</td>\n",
       "      <td>Miscellaneous Symbols</td>\n",
       "    </tr>\n",
       "    <tr>\n",
       "      <th>747</th>\n",
       "      <td>🅾</td>\n",
       "      <td>NaN</td>\n",
       "      <td>0x1f17e</td>\n",
       "      <td>5</td>\n",
       "      <td>0.977</td>\n",
       "      <td>0.375</td>\n",
       "      <td>0.375</td>\n",
       "      <td>0.25</td>\n",
       "      <td>-0.125</td>\n",
       "      <td>NaN</td>\n",
       "      <td>NEGATIVE SQUARED LATIN CAPITAL LETTER O</td>\n",
       "      <td>Enclosed Alphanumeric Supplement</td>\n",
       "    </tr>\n",
       "    <tr>\n",
       "      <th>748</th>\n",
       "      <td>🔄</td>\n",
       "      <td>NaN</td>\n",
       "      <td>0x1f504</td>\n",
       "      <td>5</td>\n",
       "      <td>0.971</td>\n",
       "      <td>0.125</td>\n",
       "      <td>0.75</td>\n",
       "      <td>0.125</td>\n",
       "      <td>0</td>\n",
       "      <td>NaN</td>\n",
       "      <td>ANTICLOCKWISE DOWNWARDS AND UPWARDS OPEN CIRCL...</td>\n",
       "      <td>Miscellaneous Symbols and Pictographs</td>\n",
       "    </tr>\n",
       "    <tr>\n",
       "      <th>749</th>\n",
       "      <td>☄</td>\n",
       "      <td>NaN</td>\n",
       "      <td>0x2604</td>\n",
       "      <td>5</td>\n",
       "      <td>0.435</td>\n",
       "      <td>0.125</td>\n",
       "      <td>0.75</td>\n",
       "      <td>0.125</td>\n",
       "      <td>0</td>\n",
       "      <td>NaN</td>\n",
       "      <td>COMET</td>\n",
       "      <td>Miscellaneous Symbols</td>\n",
       "    </tr>\n",
       "    <tr>\n",
       "      <th>750</th>\n",
       "      <td>☨</td>\n",
       "      <td>NaN</td>\n",
       "      <td>0x2628</td>\n",
       "      <td>5</td>\n",
       "      <td>0.458</td>\n",
       "      <td>0.125</td>\n",
       "      <td>0.75</td>\n",
       "      <td>0.125</td>\n",
       "      <td>0</td>\n",
       "      <td>NaN</td>\n",
       "      <td>CROSS OF LORRAINE</td>\n",
       "      <td>Miscellaneous Symbols</td>\n",
       "    </tr>\n",
       "  </tbody>\n",
       "</table>\n",
       "<p>751 rows × 12 columns</p>\n",
       "</div>"
      ],
      "text/plain": [
       "    Char  Unnamed: 1  Unicode Occurrences Position    Neg   Neut    Pos  \\\n",
       "0      😂         NaN  0x1f602       14622    0.805  0.247  0.285  0.468   \n",
       "1      ❤         NaN   0x2764        8050    0.747  0.044  0.166   0.79   \n",
       "2      ♥         NaN   0x2665        7144    0.754  0.035  0.272  0.693   \n",
       "3      😍         NaN  0x1f60d        6359    0.765  0.052  0.219  0.729   \n",
       "4      😭         NaN  0x1f62d        5526    0.803  0.436   0.22  0.343   \n",
       "..   ...         ...      ...         ...      ...    ...    ...    ...   \n",
       "746    ♮         NaN   0x266e           5    0.937  0.125  0.625   0.25   \n",
       "747    🅾         NaN  0x1f17e           5    0.977  0.375  0.375   0.25   \n",
       "748    🔄         NaN  0x1f504           5    0.971  0.125   0.75  0.125   \n",
       "749    ☄         NaN   0x2604           5    0.435  0.125   0.75  0.125   \n",
       "750    ☨         NaN   0x2628           5    0.458  0.125   0.75  0.125   \n",
       "\n",
       "    Sentiment score Sentiment bar  \\\n",
       "0             0.221           NaN   \n",
       "1             0.746           NaN   \n",
       "2             0.657           NaN   \n",
       "3             0.678           NaN   \n",
       "4            -0.093           NaN   \n",
       "..              ...           ...   \n",
       "746           0.125           NaN   \n",
       "747          -0.125           NaN   \n",
       "748               0           NaN   \n",
       "749               0           NaN   \n",
       "750               0           NaN   \n",
       "\n",
       "                                          Unicode name  \\\n",
       "0                               FACE WITH TEARS OF JOY   \n",
       "1                                    HEAVY BLACK HEART   \n",
       "2                                     BLACK HEART SUIT   \n",
       "3                  SMILING FACE WITH HEART-SHAPED EYES   \n",
       "4                                   LOUDLY CRYING FACE   \n",
       "..                                                 ...   \n",
       "746                                 MUSIC NATURAL SIGN   \n",
       "747            NEGATIVE SQUARED LATIN CAPITAL LETTER O   \n",
       "748  ANTICLOCKWISE DOWNWARDS AND UPWARDS OPEN CIRCL...   \n",
       "749                                              COMET   \n",
       "750                                  CROSS OF LORRAINE   \n",
       "\n",
       "                             Unicode block  \n",
       "0                                Emoticons  \n",
       "1                                 Dingbats  \n",
       "2                    Miscellaneous Symbols  \n",
       "3                                Emoticons  \n",
       "4                                Emoticons  \n",
       "..                                     ...  \n",
       "746                  Miscellaneous Symbols  \n",
       "747       Enclosed Alphanumeric Supplement  \n",
       "748  Miscellaneous Symbols and Pictographs  \n",
       "749                  Miscellaneous Symbols  \n",
       "750                  Miscellaneous Symbols  \n",
       "\n",
       "[751 rows x 12 columns]"
      ]
     },
     "execution_count": 99,
     "metadata": {},
     "output_type": "execute_result"
    }
   ],
   "source": [
    "new_df.reset_index().drop(['index'],axis=1)"
   ]
  },
  {
   "cell_type": "code",
   "execution_count": 100,
   "id": "9e16808d",
   "metadata": {},
   "outputs": [],
   "source": [
    "new_list_emoji_df = [i for i in new_df['Char']]"
   ]
  },
  {
   "cell_type": "code",
   "execution_count": 101,
   "id": "b2ff5862",
   "metadata": {},
   "outputs": [],
   "source": [
    "# new_list_emoji_df"
   ]
  },
  {
   "cell_type": "code",
   "execution_count": 52,
   "id": "a759d9c5",
   "metadata": {},
   "outputs": [
    {
     "data": {
      "text/html": [
       "<div>\n",
       "<style scoped>\n",
       "    .dataframe tbody tr th:only-of-type {\n",
       "        vertical-align: middle;\n",
       "    }\n",
       "\n",
       "    .dataframe tbody tr th {\n",
       "        vertical-align: top;\n",
       "    }\n",
       "\n",
       "    .dataframe thead th {\n",
       "        text-align: right;\n",
       "    }\n",
       "</style>\n",
       "<table border=\"1\" class=\"dataframe\">\n",
       "  <thead>\n",
       "    <tr style=\"text-align: right;\">\n",
       "      <th></th>\n",
       "      <th>video_id</th>\n",
       "      <th>comment_text</th>\n",
       "      <th>likes</th>\n",
       "      <th>replies</th>\n",
       "      <th>Polarity</th>\n",
       "      <th>Target</th>\n",
       "    </tr>\n",
       "  </thead>\n",
       "  <tbody>\n",
       "    <tr>\n",
       "      <th>9</th>\n",
       "      <td>XpVt6Z1Gjjo</td>\n",
       "      <td>You and your shit brother may have single hand...</td>\n",
       "      <td>0</td>\n",
       "      <td>0</td>\n",
       "      <td>-0.135714</td>\n",
       "      <td>Negative</td>\n",
       "    </tr>\n",
       "    <tr>\n",
       "      <th>12</th>\n",
       "      <td>XpVt6Z1Gjjo</td>\n",
       "      <td>Honestly Evan is so annoying. Like its not fun...</td>\n",
       "      <td>0</td>\n",
       "      <td>0</td>\n",
       "      <td>-0.023333</td>\n",
       "      <td>Negative</td>\n",
       "    </tr>\n",
       "    <tr>\n",
       "      <th>16</th>\n",
       "      <td>XpVt6Z1Gjjo</td>\n",
       "      <td>Ayyyyoooo Logang what up .  This was a hard vl...</td>\n",
       "      <td>1</td>\n",
       "      <td>0</td>\n",
       "      <td>-0.291667</td>\n",
       "      <td>Negative</td>\n",
       "    </tr>\n",
       "    <tr>\n",
       "      <th>19</th>\n",
       "      <td>XpVt6Z1Gjjo</td>\n",
       "      <td>Made a lot of people hate youtube - GJ</td>\n",
       "      <td>0</td>\n",
       "      <td>0</td>\n",
       "      <td>-0.800000</td>\n",
       "      <td>Negative</td>\n",
       "    </tr>\n",
       "    <tr>\n",
       "      <th>28</th>\n",
       "      <td>XpVt6Z1Gjjo</td>\n",
       "      <td>Evan is a horrible human being he also looks s...</td>\n",
       "      <td>0</td>\n",
       "      <td>0</td>\n",
       "      <td>-0.050000</td>\n",
       "      <td>Negative</td>\n",
       "    </tr>\n",
       "    <tr>\n",
       "      <th>...</th>\n",
       "      <td>...</td>\n",
       "      <td>...</td>\n",
       "      <td>...</td>\n",
       "      <td>...</td>\n",
       "      <td>...</td>\n",
       "      <td>...</td>\n",
       "    </tr>\n",
       "    <tr>\n",
       "      <th>471576</th>\n",
       "      <td>Hlt3rA-oDao</td>\n",
       "      <td>That was so stupid and y'all are just giving i...</td>\n",
       "      <td>0</td>\n",
       "      <td>3</td>\n",
       "      <td>-0.266667</td>\n",
       "      <td>Negative</td>\n",
       "    </tr>\n",
       "    <tr>\n",
       "      <th>471577</th>\n",
       "      <td>Ni5Uc-DdMqk</td>\n",
       "      <td>*To those who are freaking out about the spoil...</td>\n",
       "      <td>38</td>\n",
       "      <td>15</td>\n",
       "      <td>-0.070000</td>\n",
       "      <td>Negative</td>\n",
       "    </tr>\n",
       "    <tr>\n",
       "      <th>471581</th>\n",
       "      <td>CN4YL1KPDAA</td>\n",
       "      <td>You can't really prove the dip is because of t...</td>\n",
       "      <td>0</td>\n",
       "      <td>0</td>\n",
       "      <td>-0.037879</td>\n",
       "      <td>Negative</td>\n",
       "    </tr>\n",
       "    <tr>\n",
       "      <th>471582</th>\n",
       "      <td>CN4YL1KPDAA</td>\n",
       "      <td>Regarding the views dip and this uncut live vi...</td>\n",
       "      <td>0</td>\n",
       "      <td>0</td>\n",
       "      <td>-0.115530</td>\n",
       "      <td>Negative</td>\n",
       "    </tr>\n",
       "    <tr>\n",
       "      <th>471594</th>\n",
       "      <td>CN4YL1KPDAA</td>\n",
       "      <td>just casually has an iphone lying around</td>\n",
       "      <td>0</td>\n",
       "      <td>0</td>\n",
       "      <td>-0.500000</td>\n",
       "      <td>Negative</td>\n",
       "    </tr>\n",
       "  </tbody>\n",
       "</table>\n",
       "<p>72609 rows × 6 columns</p>\n",
       "</div>"
      ],
      "text/plain": [
       "           video_id                                       comment_text  likes  \\\n",
       "9       XpVt6Z1Gjjo  You and your shit brother may have single hand...      0   \n",
       "12      XpVt6Z1Gjjo  Honestly Evan is so annoying. Like its not fun...      0   \n",
       "16      XpVt6Z1Gjjo  Ayyyyoooo Logang what up .  This was a hard vl...      1   \n",
       "19      XpVt6Z1Gjjo             Made a lot of people hate youtube - GJ      0   \n",
       "28      XpVt6Z1Gjjo  Evan is a horrible human being he also looks s...      0   \n",
       "...             ...                                                ...    ...   \n",
       "471576  Hlt3rA-oDao  That was so stupid and y'all are just giving i...      0   \n",
       "471577  Ni5Uc-DdMqk  *To those who are freaking out about the spoil...     38   \n",
       "471581  CN4YL1KPDAA  You can't really prove the dip is because of t...      0   \n",
       "471582  CN4YL1KPDAA  Regarding the views dip and this uncut live vi...      0   \n",
       "471594  CN4YL1KPDAA           just casually has an iphone lying around      0   \n",
       "\n",
       "        replies  Polarity    Target  \n",
       "9             0 -0.135714  Negative  \n",
       "12            0 -0.023333  Negative  \n",
       "16            0 -0.291667  Negative  \n",
       "19            0 -0.800000  Negative  \n",
       "28            0 -0.050000  Negative  \n",
       "...         ...       ...       ...  \n",
       "471576        3 -0.266667  Negative  \n",
       "471577       15 -0.070000  Negative  \n",
       "471581        0 -0.037879  Negative  \n",
       "471582        0 -0.115530  Negative  \n",
       "471594        0 -0.500000  Negative  \n",
       "\n",
       "[72609 rows x 6 columns]"
      ]
     },
     "execution_count": 52,
     "metadata": {},
     "output_type": "execute_result"
    }
   ],
   "source": [
    "df[df['Target']=='Negative']"
   ]
  },
  {
   "cell_type": "code",
   "execution_count": 168,
   "id": "a3e35414",
   "metadata": {},
   "outputs": [],
   "source": [
    "def devide_emoji_with_text(str):\n",
    "    new_list_emoji_df = [i for i in new_df['Char']]\n",
    "#     print(new_list_emoji_df)\n",
    "    text_list_extract=[]\n",
    "    emoji_list_extract=[]\n",
    "#     c=0\n",
    "    for i in str:\n",
    "#         print(c)\n",
    "        if i in new_list_emoji_df:\n",
    "            emoji_list_extract.append(i)\n",
    "        else:\n",
    "            text_list_extract.append(i)\n",
    "#         c+=1\n",
    "            \n",
    "    text = \"\".join(text_list_extract)\n",
    "#     print(c)\n",
    "    return len(emoji_list_extract),emoji_list_extract,text"
   ]
  },
  {
   "cell_type": "code",
   "execution_count": 169,
   "id": "f8256407",
   "metadata": {},
   "outputs": [
    {
     "data": {
      "text/html": [
       "<div>\n",
       "<style scoped>\n",
       "    .dataframe tbody tr th:only-of-type {\n",
       "        vertical-align: middle;\n",
       "    }\n",
       "\n",
       "    .dataframe tbody tr th {\n",
       "        vertical-align: top;\n",
       "    }\n",
       "\n",
       "    .dataframe thead th {\n",
       "        text-align: right;\n",
       "    }\n",
       "</style>\n",
       "<table border=\"1\" class=\"dataframe\">\n",
       "  <thead>\n",
       "    <tr style=\"text-align: right;\">\n",
       "      <th></th>\n",
       "      <th>video_id</th>\n",
       "      <th>comment_text</th>\n",
       "      <th>likes</th>\n",
       "      <th>replies</th>\n",
       "      <th>Polarity</th>\n",
       "      <th>Target</th>\n",
       "      <th>Final_Target</th>\n",
       "    </tr>\n",
       "  </thead>\n",
       "  <tbody>\n",
       "    <tr>\n",
       "      <th>0</th>\n",
       "      <td>7YAAyUFL1GQ</td>\n",
       "      <td>K back to good music I was on autoplay and it ...</td>\n",
       "      <td>0</td>\n",
       "      <td>0</td>\n",
       "      <td>0.333333</td>\n",
       "      <td>Positive</td>\n",
       "      <td>1</td>\n",
       "    </tr>\n",
       "    <tr>\n",
       "      <th>1</th>\n",
       "      <td>fiEYKSMcHAI</td>\n",
       "      <td>Love your vids keep up with the good work</td>\n",
       "      <td>0</td>\n",
       "      <td>0</td>\n",
       "      <td>0.600000</td>\n",
       "      <td>Positive</td>\n",
       "      <td>1</td>\n",
       "    </tr>\n",
       "    <tr>\n",
       "      <th>2</th>\n",
       "      <td>368_ovPsJk8</td>\n",
       "      <td>Lmao what is she saying?! \\nShe said fuck you 😂</td>\n",
       "      <td>0</td>\n",
       "      <td>0</td>\n",
       "      <td>0.175000</td>\n",
       "      <td>Positive</td>\n",
       "      <td>1</td>\n",
       "    </tr>\n",
       "    <tr>\n",
       "      <th>3</th>\n",
       "      <td>-Jdc7FXupWQ</td>\n",
       "      <td>This cover is fantastic! Her voice is perfect ...</td>\n",
       "      <td>4</td>\n",
       "      <td>0</td>\n",
       "      <td>0.750000</td>\n",
       "      <td>Positive</td>\n",
       "      <td>1</td>\n",
       "    </tr>\n",
       "    <tr>\n",
       "      <th>4</th>\n",
       "      <td>bvomHFZO0mk</td>\n",
       "      <td>Cool! Just come to the US legally and we will ...</td>\n",
       "      <td>0</td>\n",
       "      <td>0</td>\n",
       "      <td>0.379167</td>\n",
       "      <td>Positive</td>\n",
       "      <td>1</td>\n",
       "    </tr>\n",
       "  </tbody>\n",
       "</table>\n",
       "</div>"
      ],
      "text/plain": [
       "      video_id                                       comment_text  likes  \\\n",
       "0  7YAAyUFL1GQ  K back to good music I was on autoplay and it ...      0   \n",
       "1  fiEYKSMcHAI          Love your vids keep up with the good work      0   \n",
       "2  368_ovPsJk8    Lmao what is she saying?! \\nShe said fuck you 😂      0   \n",
       "3  -Jdc7FXupWQ  This cover is fantastic! Her voice is perfect ...      4   \n",
       "4  bvomHFZO0mk  Cool! Just come to the US legally and we will ...      0   \n",
       "\n",
       "   replies  Polarity    Target  Final_Target  \n",
       "0        0  0.333333  Positive             1  \n",
       "1        0  0.600000  Positive             1  \n",
       "2        0  0.175000  Positive             1  \n",
       "3        0  0.750000  Positive             1  \n",
       "4        0  0.379167  Positive             1  "
      ]
     },
     "execution_count": 169,
     "metadata": {},
     "output_type": "execute_result"
    }
   ],
   "source": [
    "df.head()\n",
    "# type(df['comment_text'][0])"
   ]
  },
  {
   "cell_type": "code",
   "execution_count": 170,
   "id": "e86d2a70",
   "metadata": {},
   "outputs": [],
   "source": [
    "def clean_comment_fun(str):\n",
    "    new_list_emoji_df = [i for i in new_df['Char']]\n",
    "    \n",
    "    text_list_extract=[]\n",
    "    \n",
    "    for i in str:\n",
    "#         print(c)\n",
    "        if i not in new_list_emoji_df:\n",
    "            text_list_extract.append(i)\n",
    "            \n",
    "    text = \"\".join(text_list_extract)\n",
    "    \n",
    "    df = pd.DataFrame({'comment':text},index=[0])\n",
    "    \n",
    "    new_str = transform_text_2(df)\n",
    "    \n",
    "    return new_str"
   ]
  },
  {
   "cell_type": "code",
   "execution_count": 171,
   "id": "f96e8f3b",
   "metadata": {},
   "outputs": [
    {
     "data": {
      "text/html": [
       "<div>\n",
       "<style scoped>\n",
       "    .dataframe tbody tr th:only-of-type {\n",
       "        vertical-align: middle;\n",
       "    }\n",
       "\n",
       "    .dataframe tbody tr th {\n",
       "        vertical-align: top;\n",
       "    }\n",
       "\n",
       "    .dataframe thead th {\n",
       "        text-align: right;\n",
       "    }\n",
       "</style>\n",
       "<table border=\"1\" class=\"dataframe\">\n",
       "  <thead>\n",
       "    <tr style=\"text-align: right;\">\n",
       "      <th></th>\n",
       "      <th>video_id</th>\n",
       "      <th>comment_text</th>\n",
       "      <th>likes</th>\n",
       "      <th>replies</th>\n",
       "      <th>Polarity</th>\n",
       "      <th>Target</th>\n",
       "      <th>Final_Target</th>\n",
       "      <th>clean_comment</th>\n",
       "    </tr>\n",
       "  </thead>\n",
       "  <tbody>\n",
       "    <tr>\n",
       "      <th>0</th>\n",
       "      <td>7YAAyUFL1GQ</td>\n",
       "      <td>K back to good music I was on autoplay and it ...</td>\n",
       "      <td>0</td>\n",
       "      <td>0</td>\n",
       "      <td>0.333333</td>\n",
       "      <td>Positive</td>\n",
       "      <td>1</td>\n",
       "      <td>k back good music autoplay went jacob sartoriu...</td>\n",
       "    </tr>\n",
       "    <tr>\n",
       "      <th>1</th>\n",
       "      <td>fiEYKSMcHAI</td>\n",
       "      <td>Love your vids keep up with the good work</td>\n",
       "      <td>0</td>\n",
       "      <td>0</td>\n",
       "      <td>0.600000</td>\n",
       "      <td>Positive</td>\n",
       "      <td>1</td>\n",
       "      <td>love vids keep good work</td>\n",
       "    </tr>\n",
       "    <tr>\n",
       "      <th>2</th>\n",
       "      <td>368_ovPsJk8</td>\n",
       "      <td>Lmao what is she saying?! \\nShe said fuck you 😂</td>\n",
       "      <td>0</td>\n",
       "      <td>0</td>\n",
       "      <td>0.175000</td>\n",
       "      <td>Positive</td>\n",
       "      <td>1</td>\n",
       "      <td>lmao saying \\nshe said fuck</td>\n",
       "    </tr>\n",
       "    <tr>\n",
       "      <th>3</th>\n",
       "      <td>-Jdc7FXupWQ</td>\n",
       "      <td>This cover is fantastic! Her voice is perfect ...</td>\n",
       "      <td>4</td>\n",
       "      <td>0</td>\n",
       "      <td>0.750000</td>\n",
       "      <td>Positive</td>\n",
       "      <td>1</td>\n",
       "      <td>cover fantastic voice perfect</td>\n",
       "    </tr>\n",
       "    <tr>\n",
       "      <th>4</th>\n",
       "      <td>bvomHFZO0mk</td>\n",
       "      <td>Cool! Just come to the US legally and we will ...</td>\n",
       "      <td>0</td>\n",
       "      <td>0</td>\n",
       "      <td>0.379167</td>\n",
       "      <td>Positive</td>\n",
       "      <td>1</td>\n",
       "      <td>cool come u legally problem whatsoever</td>\n",
       "    </tr>\n",
       "  </tbody>\n",
       "</table>\n",
       "</div>"
      ],
      "text/plain": [
       "      video_id                                       comment_text  likes  \\\n",
       "0  7YAAyUFL1GQ  K back to good music I was on autoplay and it ...      0   \n",
       "1  fiEYKSMcHAI          Love your vids keep up with the good work      0   \n",
       "2  368_ovPsJk8    Lmao what is she saying?! \\nShe said fuck you 😂      0   \n",
       "3  -Jdc7FXupWQ  This cover is fantastic! Her voice is perfect ...      4   \n",
       "4  bvomHFZO0mk  Cool! Just come to the US legally and we will ...      0   \n",
       "\n",
       "   replies  Polarity    Target  Final_Target  \\\n",
       "0        0  0.333333  Positive             1   \n",
       "1        0  0.600000  Positive             1   \n",
       "2        0  0.175000  Positive             1   \n",
       "3        0  0.750000  Positive             1   \n",
       "4        0  0.379167  Positive             1   \n",
       "\n",
       "                                       clean_comment  \n",
       "0  k back good music autoplay went jacob sartoriu...  \n",
       "1                           love vids keep good work  \n",
       "2                        lmao saying \\nshe said fuck  \n",
       "3                      cover fantastic voice perfect  \n",
       "4             cool come u legally problem whatsoever  "
      ]
     },
     "execution_count": 171,
     "metadata": {},
     "output_type": "execute_result"
    }
   ],
   "source": [
    "df['clean_comment'] = df['comment_text'].apply(clean_comment_fun)\n",
    "df.head()"
   ]
  },
  {
   "cell_type": "code",
   "execution_count": null,
   "id": "7c6f1f20",
   "metadata": {},
   "outputs": [],
   "source": []
  },
  {
   "cell_type": "code",
   "execution_count": 187,
   "id": "202fedae",
   "metadata": {},
   "outputs": [],
   "source": [
    "# df.to_csv(\"Random_same_sample_ALL_3_Category.csv\",index=False)"
   ]
  },
  {
   "cell_type": "code",
   "execution_count": null,
   "id": "1c7423a4",
   "metadata": {},
   "outputs": [],
   "source": []
  },
  {
   "cell_type": "code",
   "execution_count": 344,
   "id": "6fb4aaaf",
   "metadata": {},
   "outputs": [],
   "source": [
    "def fun1(str):\n",
    "#     example_str = str\n",
    "#     print(str)\n",
    "    df = pd.DataFrame({'comment':str},index=[0])\n",
    "#     df\n",
    "#     tm = df['comment'][0]\n",
    "\n",
    "    new_str = transform_text_2(df)\n",
    "#     print(new_str)\n",
    "#     print([new_str])\n",
    "    tmp = tfidf1.transform([new_str])\n",
    "    pred = model1.predict(tmp.todense())\n",
    "    \n",
    "    if pred[0]==\"Positive\":\n",
    "        return 1\n",
    "    elif pred[0]==\"Netural\":\n",
    "        return 0\n",
    "    else:\n",
    "        return -1"
   ]
  },
  {
   "cell_type": "code",
   "execution_count": 345,
   "id": "a268825f",
   "metadata": {},
   "outputs": [],
   "source": [
    "def fun2(num,list_of_extract_emoji):\n",
    "#     no,emojis = extract_emojis(str)\n",
    "#     list_emoji_df = [i for i in emoji_df['Emoji_Symbole']]\n",
    "    sent=0\n",
    "    cnt=0\n",
    "    if num==0:\n",
    "        return 0\n",
    "    for i in list_of_extract_emoji:\n",
    "        if i in new_list_emoji_df:\n",
    "            if new_df.iloc[cnt]['Pos']>new_df.iloc[cnt]['Neg']:\n",
    "                sent+=float(new_df.iloc[cnt]['Pos'])\n",
    "            else:\n",
    "                sent+=float(new_df.iloc[cnt]['Neg'])\n",
    "        else:\n",
    "            sent+=0\n",
    "        cnt+=1\n",
    "    sent /= num\n",
    "    \n",
    "    return sent\n",
    " "
   ]
  },
  {
   "cell_type": "code",
   "execution_count": 346,
   "id": "64d085d8",
   "metadata": {},
   "outputs": [],
   "source": [
    "def final_result(str):\n",
    "    \n",
    "    no,list_emoji,text = devide_emoji_with_text(str)\n",
    "#     print(\"No of emoji : \",no)\n",
    "#     print(\"List of emoji : \",list_emoji)\n",
    "#     print(\"Text : \",text)\n",
    "    \n",
    "#     print(\"Result after using Transform Text : \",transform_text(text))\n",
    "    \n",
    "    final_sentiment=(fun1(text)+fun2(no,list_emoji)/2)\n",
    "    a=''\n",
    "    if (final_sentiment>0):\n",
    "        a = 'Positive'\n",
    "    elif final_sentiment<0:\n",
    "        a = 'Negative'\n",
    "    else:\n",
    "        a = 'Netural'\n",
    "#     print(\"Final Sentiment Result : \",a)\n",
    "    return a"
   ]
  },
  {
   "cell_type": "code",
   "execution_count": 348,
   "id": "124c9f19",
   "metadata": {},
   "outputs": [
    {
     "data": {
      "text/plain": [
       "'Positive'"
      ]
     },
     "execution_count": 348,
     "metadata": {},
     "output_type": "execute_result"
    }
   ],
   "source": [
    "# df = pd.DataFrame({'comment':str},index=[0])\n",
    "# df\n",
    "# tm = df['comment'][0]\n",
    "# str = 'Lost on you ! 😍OH My God I love this song !😭'\n",
    "str='I love this people'\n",
    "final_result(str)"
   ]
  },
  {
   "cell_type": "code",
   "execution_count": 338,
   "id": "8c48d079",
   "metadata": {},
   "outputs": [
    {
     "data": {
      "text/plain": [
       "0"
      ]
     },
     "execution_count": 338,
     "metadata": {},
     "output_type": "execute_result"
    }
   ],
   "source": [
    "fun1(\"Nice song bro\")"
   ]
  },
  {
   "cell_type": "code",
   "execution_count": 349,
   "id": "11556728",
   "metadata": {},
   "outputs": [],
   "source": [
    "# TextBlob('I am happy to see you here').sentiment.polarity"
   ]
  },
  {
   "cell_type": "code",
   "execution_count": null,
   "id": "df01e9df",
   "metadata": {},
   "outputs": [],
   "source": []
  }
 ],
 "metadata": {
  "kernelspec": {
   "display_name": "Python 3 (ipykernel)",
   "language": "python",
   "name": "python3"
  },
  "language_info": {
   "codemirror_mode": {
    "name": "ipython",
    "version": 3
   },
   "file_extension": ".py",
   "mimetype": "text/x-python",
   "name": "python",
   "nbconvert_exporter": "python",
   "pygments_lexer": "ipython3",
   "version": "3.9.7"
  }
 },
 "nbformat": 4,
 "nbformat_minor": 5
}
