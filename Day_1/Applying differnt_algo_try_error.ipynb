{
 "cells": [
  {
   "cell_type": "code",
   "execution_count": 1,
   "id": "a34d6abb",
   "metadata": {},
   "outputs": [
    {
     "name": "stdout",
     "output_type": "stream",
     "text": [
      "Requirement already satisfied: emoji in c:\\users\\lenovo\\anaconda3\\lib\\site-packages (2.2.0)\n"
     ]
    },
    {
     "name": "stderr",
     "output_type": "stream",
     "text": [
      "WARNING: Ignoring invalid distribution -pencv-python-headless (c:\\users\\lenovo\\appdata\\roaming\\python\\python39\\site-packages)\n",
      "WARNING: Ignoring invalid distribution -pencv-python-headless (c:\\users\\lenovo\\appdata\\roaming\\python\\python39\\site-packages)\n",
      "WARNING: Ignoring invalid distribution -pencv-python-headless (c:\\users\\lenovo\\appdata\\roaming\\python\\python39\\site-packages)\n",
      "WARNING: Error parsing requirements for pyqt5: [Errno 2] No such file or directory: 'c:\\\\users\\\\lenovo\\\\anaconda3\\\\lib\\\\site-packages\\\\PyQt5-5.15.7.dist-info\\\\METADATA'\n",
      "WARNING: Ignoring invalid distribution -pencv-python-headless (c:\\users\\lenovo\\appdata\\roaming\\python\\python39\\site-packages)\n",
      "WARNING: Ignoring invalid distribution -pencv-python-headless (c:\\users\\lenovo\\appdata\\roaming\\python\\python39\\site-packages)\n",
      "WARNING: Ignoring invalid distribution -pencv-python-headless (c:\\users\\lenovo\\appdata\\roaming\\python\\python39\\site-packages)\n",
      "\n",
      "[notice] A new release of pip available: 22.2.2 -> 23.1.2\n",
      "[notice] To update, run: python.exe -m pip install --upgrade pip\n"
     ]
    }
   ],
   "source": [
    "!pip install emoji"
   ]
  },
  {
   "cell_type": "code",
   "execution_count": 2,
   "id": "bdc476ff",
   "metadata": {},
   "outputs": [],
   "source": [
    "from tracemalloc import stop\n",
    "import numpy as np\n",
    "import pandas as pd\n",
    "import re\n",
    "import seaborn as sns\n",
    "import string\n",
    "import nltk\n",
    "import emoji\n",
    "import string\n",
    "import re\n",
    "from nltk.corpus import stopwords\n",
    "from nltk.tokenize import word_tokenize\n",
    "from nltk.stem.porter import PorterStemmer\n",
    "from sklearn.feature_extraction.text import TfidfVectorizer\n",
    "from sklearn.model_selection import train_test_split\n",
    "from sklearn.linear_model import LogisticRegression\n",
    "from sklearn.tree import DecisionTreeRegressor\n",
    "from sklearn.ensemble import RandomForestClassifier\n",
    "import string"
   ]
  },
  {
   "cell_type": "code",
   "execution_count": 3,
   "id": "8c91062f",
   "metadata": {},
   "outputs": [],
   "source": [
    "from sklearn.naive_bayes import GaussianNB,MultinomialNB,BernoulliNB\n",
    "from sklearn.metrics import accuracy_score,confusion_matrix,precision_score"
   ]
  },
  {
   "cell_type": "code",
   "execution_count": 4,
   "id": "b946a5ac",
   "metadata": {},
   "outputs": [
    {
     "name": "stderr",
     "output_type": "stream",
     "text": [
      "[nltk_data] Downloading package punkt to\n",
      "[nltk_data]     C:\\Users\\LENOVO\\AppData\\Roaming\\nltk_data...\n",
      "[nltk_data]   Package punkt is already up-to-date!\n",
      "[nltk_data] Downloading package stopwords to\n",
      "[nltk_data]     C:\\Users\\LENOVO\\AppData\\Roaming\\nltk_data...\n",
      "[nltk_data]   Package stopwords is already up-to-date!\n"
     ]
    }
   ],
   "source": [
    "nltk.download('punkt')\n",
    "nltk.download('stopwords')\n",
    "sw=nltk.corpus.stopwords.words(\"english\")"
   ]
  },
  {
   "cell_type": "code",
   "execution_count": 5,
   "id": "1808edd4",
   "metadata": {},
   "outputs": [
    {
     "name": "stderr",
     "output_type": "stream",
     "text": [
      "C:\\Users\\LENOVO\\anaconda3\\lib\\site-packages\\IPython\\core\\interactiveshell.py:3552: FutureWarning: The error_bad_lines argument has been deprecated and will be removed in a future version.\n",
      "\n",
      "\n",
      "  exec(code_obj, self.user_global_ns, self.user_ns)\n"
     ]
    }
   ],
   "source": [
    "# df = pd.read_csv(\"New_Dropped_Uscomments.csv\",error_bad_lines=False)\n",
    "df = pd.read_csv(\"New_DF_Positive_Negative_Netural_dropna.csv\",error_bad_lines=False)\n",
    "# df = pd.read_csv(\"Random_same_sample_ALL_3_Category.csv\",error_bad_lines=False)"
   ]
  },
  {
   "cell_type": "code",
   "execution_count": 6,
   "id": "02d517a0",
   "metadata": {},
   "outputs": [
    {
     "data": {
      "text/html": [
       "<div>\n",
       "<style scoped>\n",
       "    .dataframe tbody tr th:only-of-type {\n",
       "        vertical-align: middle;\n",
       "    }\n",
       "\n",
       "    .dataframe tbody tr th {\n",
       "        vertical-align: top;\n",
       "    }\n",
       "\n",
       "    .dataframe thead th {\n",
       "        text-align: right;\n",
       "    }\n",
       "</style>\n",
       "<table border=\"1\" class=\"dataframe\">\n",
       "  <thead>\n",
       "    <tr style=\"text-align: right;\">\n",
       "      <th></th>\n",
       "      <th>video_id</th>\n",
       "      <th>comment_text</th>\n",
       "      <th>likes</th>\n",
       "      <th>replies</th>\n",
       "      <th>Polarity</th>\n",
       "      <th>Target</th>\n",
       "    </tr>\n",
       "  </thead>\n",
       "  <tbody>\n",
       "    <tr>\n",
       "      <th>0</th>\n",
       "      <td>XpVt6Z1Gjjo</td>\n",
       "      <td>Logan Paul it's yo big day ‼️‼️‼️</td>\n",
       "      <td>4</td>\n",
       "      <td>0</td>\n",
       "      <td>0.0</td>\n",
       "      <td>Neutral</td>\n",
       "    </tr>\n",
       "    <tr>\n",
       "      <th>1</th>\n",
       "      <td>XpVt6Z1Gjjo</td>\n",
       "      <td>I've been following you from the start of your...</td>\n",
       "      <td>3</td>\n",
       "      <td>0</td>\n",
       "      <td>0.0</td>\n",
       "      <td>Neutral</td>\n",
       "    </tr>\n",
       "    <tr>\n",
       "      <th>2</th>\n",
       "      <td>XpVt6Z1Gjjo</td>\n",
       "      <td>Say hi to Kong and maverick for me</td>\n",
       "      <td>3</td>\n",
       "      <td>0</td>\n",
       "      <td>0.0</td>\n",
       "      <td>Neutral</td>\n",
       "    </tr>\n",
       "    <tr>\n",
       "      <th>3</th>\n",
       "      <td>XpVt6Z1Gjjo</td>\n",
       "      <td>MY FAN . attendance</td>\n",
       "      <td>3</td>\n",
       "      <td>0</td>\n",
       "      <td>0.0</td>\n",
       "      <td>Neutral</td>\n",
       "    </tr>\n",
       "    <tr>\n",
       "      <th>4</th>\n",
       "      <td>XpVt6Z1Gjjo</td>\n",
       "      <td>trending 😉</td>\n",
       "      <td>3</td>\n",
       "      <td>0</td>\n",
       "      <td>0.0</td>\n",
       "      <td>Neutral</td>\n",
       "    </tr>\n",
       "  </tbody>\n",
       "</table>\n",
       "</div>"
      ],
      "text/plain": [
       "      video_id                                       comment_text  likes  \\\n",
       "0  XpVt6Z1Gjjo                  Logan Paul it's yo big day ‼️‼️‼️      4   \n",
       "1  XpVt6Z1Gjjo  I've been following you from the start of your...      3   \n",
       "2  XpVt6Z1Gjjo                 Say hi to Kong and maverick for me      3   \n",
       "3  XpVt6Z1Gjjo                                MY FAN . attendance      3   \n",
       "4  XpVt6Z1Gjjo                                         trending 😉      3   \n",
       "\n",
       "   replies  Polarity   Target  \n",
       "0        0       0.0  Neutral  \n",
       "1        0       0.0  Neutral  \n",
       "2        0       0.0  Neutral  \n",
       "3        0       0.0  Neutral  \n",
       "4        0       0.0  Neutral  "
      ]
     },
     "execution_count": 6,
     "metadata": {},
     "output_type": "execute_result"
    }
   ],
   "source": [
    "df.head()\n"
   ]
  },
  {
   "cell_type": "code",
   "execution_count": 7,
   "id": "e5c97433",
   "metadata": {},
   "outputs": [
    {
     "data": {
      "text/plain": [
       "471631"
      ]
     },
     "execution_count": 7,
     "metadata": {},
     "output_type": "execute_result"
    }
   ],
   "source": [
    "len(df)"
   ]
  },
  {
   "cell_type": "code",
   "execution_count": 8,
   "id": "46c765c3",
   "metadata": {},
   "outputs": [
    {
     "data": {
      "text/plain": [
       "Positive    203102\n",
       "Neutral     195920\n",
       "Negative     72609\n",
       "Name: Target, dtype: int64"
      ]
     },
     "execution_count": 8,
     "metadata": {},
     "output_type": "execute_result"
    }
   ],
   "source": [
    "df['Target'].value_counts()"
   ]
  },
  {
   "cell_type": "markdown",
   "id": "a5c3752d",
   "metadata": {},
   "source": [
    "# Trying Only Positive and Negative Netural"
   ]
  },
  {
   "cell_type": "code",
   "execution_count": 9,
   "id": "ac30055f",
   "metadata": {},
   "outputs": [],
   "source": [
    "from textblob import TextBlob"
   ]
  },
  {
   "cell_type": "code",
   "execution_count": 10,
   "id": "d1aa0e29",
   "metadata": {},
   "outputs": [],
   "source": [
    "polarity = []\n",
    "for comment in df['comment_text']:\n",
    "    try:\n",
    "        polarity.append(TextBlob(comment).sentiment.polarity)\n",
    "    except:\n",
    "        polarity.append(0)"
   ]
  },
  {
   "cell_type": "code",
   "execution_count": 11,
   "id": "1326aa1c",
   "metadata": {},
   "outputs": [],
   "source": [
    "x=[]\n",
    "for i in df.Polarity:\n",
    "    if i>0:\n",
    "        x.append('Positive')\n",
    "    elif i<0:\n",
    "        x.append('Negative')\n",
    "    else:\n",
    "        x.append('Neutral')\n",
    "        "
   ]
  },
  {
   "cell_type": "code",
   "execution_count": 12,
   "id": "a3867ae6",
   "metadata": {},
   "outputs": [],
   "source": [
    "df['Target'] = x"
   ]
  },
  {
   "cell_type": "code",
   "execution_count": 13,
   "id": "134469e1",
   "metadata": {},
   "outputs": [
    {
     "data": {
      "text/html": [
       "<div>\n",
       "<style scoped>\n",
       "    .dataframe tbody tr th:only-of-type {\n",
       "        vertical-align: middle;\n",
       "    }\n",
       "\n",
       "    .dataframe tbody tr th {\n",
       "        vertical-align: top;\n",
       "    }\n",
       "\n",
       "    .dataframe thead th {\n",
       "        text-align: right;\n",
       "    }\n",
       "</style>\n",
       "<table border=\"1\" class=\"dataframe\">\n",
       "  <thead>\n",
       "    <tr style=\"text-align: right;\">\n",
       "      <th></th>\n",
       "      <th>video_id</th>\n",
       "      <th>comment_text</th>\n",
       "      <th>likes</th>\n",
       "      <th>replies</th>\n",
       "      <th>Polarity</th>\n",
       "      <th>Target</th>\n",
       "    </tr>\n",
       "  </thead>\n",
       "  <tbody>\n",
       "    <tr>\n",
       "      <th>0</th>\n",
       "      <td>XpVt6Z1Gjjo</td>\n",
       "      <td>Logan Paul it's yo big day ‼️‼️‼️</td>\n",
       "      <td>4</td>\n",
       "      <td>0</td>\n",
       "      <td>0.0</td>\n",
       "      <td>Neutral</td>\n",
       "    </tr>\n",
       "    <tr>\n",
       "      <th>1</th>\n",
       "      <td>XpVt6Z1Gjjo</td>\n",
       "      <td>I've been following you from the start of your...</td>\n",
       "      <td>3</td>\n",
       "      <td>0</td>\n",
       "      <td>0.0</td>\n",
       "      <td>Neutral</td>\n",
       "    </tr>\n",
       "    <tr>\n",
       "      <th>2</th>\n",
       "      <td>XpVt6Z1Gjjo</td>\n",
       "      <td>Say hi to Kong and maverick for me</td>\n",
       "      <td>3</td>\n",
       "      <td>0</td>\n",
       "      <td>0.0</td>\n",
       "      <td>Neutral</td>\n",
       "    </tr>\n",
       "    <tr>\n",
       "      <th>3</th>\n",
       "      <td>XpVt6Z1Gjjo</td>\n",
       "      <td>MY FAN . attendance</td>\n",
       "      <td>3</td>\n",
       "      <td>0</td>\n",
       "      <td>0.0</td>\n",
       "      <td>Neutral</td>\n",
       "    </tr>\n",
       "    <tr>\n",
       "      <th>4</th>\n",
       "      <td>XpVt6Z1Gjjo</td>\n",
       "      <td>trending 😉</td>\n",
       "      <td>3</td>\n",
       "      <td>0</td>\n",
       "      <td>0.0</td>\n",
       "      <td>Neutral</td>\n",
       "    </tr>\n",
       "  </tbody>\n",
       "</table>\n",
       "</div>"
      ],
      "text/plain": [
       "      video_id                                       comment_text  likes  \\\n",
       "0  XpVt6Z1Gjjo                  Logan Paul it's yo big day ‼️‼️‼️      4   \n",
       "1  XpVt6Z1Gjjo  I've been following you from the start of your...      3   \n",
       "2  XpVt6Z1Gjjo                 Say hi to Kong and maverick for me      3   \n",
       "3  XpVt6Z1Gjjo                                MY FAN . attendance      3   \n",
       "4  XpVt6Z1Gjjo                                         trending 😉      3   \n",
       "\n",
       "   replies  Polarity   Target  \n",
       "0        0       0.0  Neutral  \n",
       "1        0       0.0  Neutral  \n",
       "2        0       0.0  Neutral  \n",
       "3        0       0.0  Neutral  \n",
       "4        0       0.0  Neutral  "
      ]
     },
     "execution_count": 13,
     "metadata": {},
     "output_type": "execute_result"
    }
   ],
   "source": [
    "df.head()"
   ]
  },
  {
   "cell_type": "code",
   "execution_count": 14,
   "id": "295f8fca",
   "metadata": {},
   "outputs": [
    {
     "data": {
      "text/plain": [
       "Positive    203102\n",
       "Neutral     195920\n",
       "Negative     72609\n",
       "Name: Target, dtype: int64"
      ]
     },
     "execution_count": 14,
     "metadata": {},
     "output_type": "execute_result"
    }
   ],
   "source": [
    "df['Target'].value_counts()"
   ]
  },
  {
   "cell_type": "code",
   "execution_count": 83,
   "id": "6f8175e2",
   "metadata": {},
   "outputs": [],
   "source": [
    "tmp_positive = df[df['Target']=='Positive'].sample(10000)\n",
    "tmp_negative = df[df['Target']=='Negative'].sample(10000)\n",
    "tmp_netural = df[df['Target']=='Neutral'].sample(10000)"
   ]
  },
  {
   "cell_type": "code",
   "execution_count": 84,
   "id": "23b9a1d3",
   "metadata": {},
   "outputs": [],
   "source": [
    "df1 = pd.concat([tmp_positive,tmp_negative,tmp_netural],ignore_index=True)"
   ]
  },
  {
   "cell_type": "code",
   "execution_count": 85,
   "id": "140907fc",
   "metadata": {},
   "outputs": [
    {
     "data": {
      "text/html": [
       "<div>\n",
       "<style scoped>\n",
       "    .dataframe tbody tr th:only-of-type {\n",
       "        vertical-align: middle;\n",
       "    }\n",
       "\n",
       "    .dataframe tbody tr th {\n",
       "        vertical-align: top;\n",
       "    }\n",
       "\n",
       "    .dataframe thead th {\n",
       "        text-align: right;\n",
       "    }\n",
       "</style>\n",
       "<table border=\"1\" class=\"dataframe\">\n",
       "  <thead>\n",
       "    <tr style=\"text-align: right;\">\n",
       "      <th></th>\n",
       "      <th>video_id</th>\n",
       "      <th>comment_text</th>\n",
       "      <th>likes</th>\n",
       "      <th>replies</th>\n",
       "      <th>Polarity</th>\n",
       "      <th>Target</th>\n",
       "    </tr>\n",
       "  </thead>\n",
       "  <tbody>\n",
       "    <tr>\n",
       "      <th>0</th>\n",
       "      <td>IqLi6Pn_rVo</td>\n",
       "      <td>Oh my god this is so gorgeous</td>\n",
       "      <td>0</td>\n",
       "      <td>0</td>\n",
       "      <td>0.700000</td>\n",
       "      <td>Positive</td>\n",
       "    </tr>\n",
       "    <tr>\n",
       "      <th>1</th>\n",
       "      <td>EmlH7yRKmSY</td>\n",
       "      <td>I wonder how many people took home the wrong d...</td>\n",
       "      <td>0</td>\n",
       "      <td>0</td>\n",
       "      <td>0.266667</td>\n",
       "      <td>Positive</td>\n",
       "    </tr>\n",
       "    <tr>\n",
       "      <th>2</th>\n",
       "      <td>FfRGxN2zeWU</td>\n",
       "      <td>Not that good but very good for age of 10. Cheers</td>\n",
       "      <td>0</td>\n",
       "      <td>0</td>\n",
       "      <td>0.805000</td>\n",
       "      <td>Positive</td>\n",
       "    </tr>\n",
       "    <tr>\n",
       "      <th>3</th>\n",
       "      <td>EbthMC6spAE</td>\n",
       "      <td>Why am I watching a video on Norm Macdonald wh...</td>\n",
       "      <td>1</td>\n",
       "      <td>0</td>\n",
       "      <td>0.550000</td>\n",
       "      <td>Positive</td>\n",
       "    </tr>\n",
       "    <tr>\n",
       "      <th>4</th>\n",
       "      <td>_cu4FHyCcT8</td>\n",
       "      <td>Daxid hax ur the best</td>\n",
       "      <td>0</td>\n",
       "      <td>0</td>\n",
       "      <td>1.000000</td>\n",
       "      <td>Positive</td>\n",
       "    </tr>\n",
       "  </tbody>\n",
       "</table>\n",
       "</div>"
      ],
      "text/plain": [
       "      video_id                                       comment_text  likes  \\\n",
       "0  IqLi6Pn_rVo                      Oh my god this is so gorgeous      0   \n",
       "1  EmlH7yRKmSY  I wonder how many people took home the wrong d...      0   \n",
       "2  FfRGxN2zeWU  Not that good but very good for age of 10. Cheers      0   \n",
       "3  EbthMC6spAE  Why am I watching a video on Norm Macdonald wh...      1   \n",
       "4  _cu4FHyCcT8                              Daxid hax ur the best      0   \n",
       "\n",
       "   replies  Polarity    Target  \n",
       "0        0  0.700000  Positive  \n",
       "1        0  0.266667  Positive  \n",
       "2        0  0.805000  Positive  \n",
       "3        0  0.550000  Positive  \n",
       "4        0  1.000000  Positive  "
      ]
     },
     "execution_count": 85,
     "metadata": {},
     "output_type": "execute_result"
    }
   ],
   "source": [
    "df1.head()"
   ]
  },
  {
   "cell_type": "code",
   "execution_count": 86,
   "id": "60872a42",
   "metadata": {},
   "outputs": [],
   "source": [
    "np.random.seed(42)  # Set a seed for reproducibility (optional)\n",
    "df1['random'] = np.random.rand(len(df1))  # Add a random column\n",
    "df1 = df1.sort_values(by=['random'])  # Sort the DataFrame by 'category' and 'random'\n",
    "df1 = df1.drop('random', axis=1)  # Remove the 'random' column"
   ]
  },
  {
   "cell_type": "code",
   "execution_count": 87,
   "id": "d6f4cdb0",
   "metadata": {},
   "outputs": [
    {
     "data": {
      "text/html": [
       "<div>\n",
       "<style scoped>\n",
       "    .dataframe tbody tr th:only-of-type {\n",
       "        vertical-align: middle;\n",
       "    }\n",
       "\n",
       "    .dataframe tbody tr th {\n",
       "        vertical-align: top;\n",
       "    }\n",
       "\n",
       "    .dataframe thead th {\n",
       "        text-align: right;\n",
       "    }\n",
       "</style>\n",
       "<table border=\"1\" class=\"dataframe\">\n",
       "  <thead>\n",
       "    <tr style=\"text-align: right;\">\n",
       "      <th></th>\n",
       "      <th>video_id</th>\n",
       "      <th>comment_text</th>\n",
       "      <th>likes</th>\n",
       "      <th>replies</th>\n",
       "      <th>Polarity</th>\n",
       "      <th>Target</th>\n",
       "    </tr>\n",
       "  </thead>\n",
       "  <tbody>\n",
       "    <tr>\n",
       "      <th>2902</th>\n",
       "      <td>NCFO5eifDtg</td>\n",
       "      <td>Don't put these to shows together stick to the...</td>\n",
       "      <td>0</td>\n",
       "      <td>0</td>\n",
       "      <td>0.600000</td>\n",
       "      <td>Positive</td>\n",
       "    </tr>\n",
       "    <tr>\n",
       "      <th>4151</th>\n",
       "      <td>FfRGxN2zeWU</td>\n",
       "      <td>I cant live without you angelica hale</td>\n",
       "      <td>1</td>\n",
       "      <td>0</td>\n",
       "      <td>0.136364</td>\n",
       "      <td>Positive</td>\n",
       "    </tr>\n",
       "    <tr>\n",
       "      <th>21945</th>\n",
       "      <td>oUb-TwzDnk8</td>\n",
       "      <td>JP LamBakes</td>\n",
       "      <td>0</td>\n",
       "      <td>0</td>\n",
       "      <td>0.000000</td>\n",
       "      <td>Neutral</td>\n",
       "    </tr>\n",
       "    <tr>\n",
       "      <th>9187</th>\n",
       "      <td>3QtHD3-N5nI</td>\n",
       "      <td>I absolutely love riverdale and you're giving ...</td>\n",
       "      <td>0</td>\n",
       "      <td>0</td>\n",
       "      <td>0.400000</td>\n",
       "      <td>Positive</td>\n",
       "    </tr>\n",
       "    <tr>\n",
       "      <th>26008</th>\n",
       "      <td>5IP8jQNXDOo</td>\n",
       "      <td>wheres the 100k at</td>\n",
       "      <td>0</td>\n",
       "      <td>0</td>\n",
       "      <td>0.000000</td>\n",
       "      <td>Neutral</td>\n",
       "    </tr>\n",
       "    <tr>\n",
       "      <th>27240</th>\n",
       "      <td>4WNHB8vROg4</td>\n",
       "      <td>OMG I never heard that Tom had passed,🌹1 of th...</td>\n",
       "      <td>0</td>\n",
       "      <td>0</td>\n",
       "      <td>0.000000</td>\n",
       "      <td>Neutral</td>\n",
       "    </tr>\n",
       "    <tr>\n",
       "      <th>2604</th>\n",
       "      <td>0pwttmAYCTw</td>\n",
       "      <td>Kygo is magic</td>\n",
       "      <td>0</td>\n",
       "      <td>0</td>\n",
       "      <td>0.500000</td>\n",
       "      <td>Positive</td>\n",
       "    </tr>\n",
       "    <tr>\n",
       "      <th>11883</th>\n",
       "      <td>H1YGg8nYkv0</td>\n",
       "      <td>Sucks to be her, what's new?</td>\n",
       "      <td>1</td>\n",
       "      <td>0</td>\n",
       "      <td>-0.081818</td>\n",
       "      <td>Negative</td>\n",
       "    </tr>\n",
       "    <tr>\n",
       "      <th>25861</th>\n",
       "      <td>lg0ldbwZhPQ</td>\n",
       "      <td>The meat juice!!</td>\n",
       "      <td>0</td>\n",
       "      <td>0</td>\n",
       "      <td>0.000000</td>\n",
       "      <td>Neutral</td>\n",
       "    </tr>\n",
       "    <tr>\n",
       "      <th>4725</th>\n",
       "      <td>RsCsBqIlnHw</td>\n",
       "      <td>Casey do you subscribed to any boxes? If so wh...</td>\n",
       "      <td>0</td>\n",
       "      <td>0</td>\n",
       "      <td>0.350000</td>\n",
       "      <td>Positive</td>\n",
       "    </tr>\n",
       "  </tbody>\n",
       "</table>\n",
       "</div>"
      ],
      "text/plain": [
       "          video_id                                       comment_text  likes  \\\n",
       "2902   NCFO5eifDtg  Don't put these to shows together stick to the...      0   \n",
       "4151   FfRGxN2zeWU              I cant live without you angelica hale      1   \n",
       "21945  oUb-TwzDnk8                                        JP LamBakes      0   \n",
       "9187   3QtHD3-N5nI  I absolutely love riverdale and you're giving ...      0   \n",
       "26008  5IP8jQNXDOo                                 wheres the 100k at      0   \n",
       "27240  4WNHB8vROg4  OMG I never heard that Tom had passed,🌹1 of th...      0   \n",
       "2604   0pwttmAYCTw                                      Kygo is magic      0   \n",
       "11883  H1YGg8nYkv0                       Sucks to be her, what's new?      1   \n",
       "25861  lg0ldbwZhPQ                                   The meat juice!!      0   \n",
       "4725   RsCsBqIlnHw  Casey do you subscribed to any boxes? If so wh...      0   \n",
       "\n",
       "       replies  Polarity    Target  \n",
       "2902         0  0.600000  Positive  \n",
       "4151         0  0.136364  Positive  \n",
       "21945        0  0.000000   Neutral  \n",
       "9187         0  0.400000  Positive  \n",
       "26008        0  0.000000   Neutral  \n",
       "27240        0  0.000000   Neutral  \n",
       "2604         0  0.500000  Positive  \n",
       "11883        0 -0.081818  Negative  \n",
       "25861        0  0.000000   Neutral  \n",
       "4725         0  0.350000  Positive  "
      ]
     },
     "execution_count": 87,
     "metadata": {},
     "output_type": "execute_result"
    }
   ],
   "source": [
    "df1.head(10)"
   ]
  },
  {
   "cell_type": "code",
   "execution_count": 90,
   "id": "c3d96101",
   "metadata": {},
   "outputs": [],
   "source": [
    "df1 = df1.drop(['video_id'],axis=1)"
   ]
  },
  {
   "cell_type": "code",
   "execution_count": 91,
   "id": "fa01f74c",
   "metadata": {},
   "outputs": [
    {
     "data": {
      "text/html": [
       "<div>\n",
       "<style scoped>\n",
       "    .dataframe tbody tr th:only-of-type {\n",
       "        vertical-align: middle;\n",
       "    }\n",
       "\n",
       "    .dataframe tbody tr th {\n",
       "        vertical-align: top;\n",
       "    }\n",
       "\n",
       "    .dataframe thead th {\n",
       "        text-align: right;\n",
       "    }\n",
       "</style>\n",
       "<table border=\"1\" class=\"dataframe\">\n",
       "  <thead>\n",
       "    <tr style=\"text-align: right;\">\n",
       "      <th></th>\n",
       "      <th>comment_text</th>\n",
       "      <th>Polarity</th>\n",
       "      <th>Target</th>\n",
       "    </tr>\n",
       "  </thead>\n",
       "  <tbody>\n",
       "    <tr>\n",
       "      <th>2902</th>\n",
       "      <td>Don't put these to shows together stick to the...</td>\n",
       "      <td>0.600000</td>\n",
       "      <td>Positive</td>\n",
       "    </tr>\n",
       "    <tr>\n",
       "      <th>4151</th>\n",
       "      <td>I cant live without you angelica hale</td>\n",
       "      <td>0.136364</td>\n",
       "      <td>Positive</td>\n",
       "    </tr>\n",
       "    <tr>\n",
       "      <th>21945</th>\n",
       "      <td>JP LamBakes</td>\n",
       "      <td>0.000000</td>\n",
       "      <td>Neutral</td>\n",
       "    </tr>\n",
       "    <tr>\n",
       "      <th>9187</th>\n",
       "      <td>I absolutely love riverdale and you're giving ...</td>\n",
       "      <td>0.400000</td>\n",
       "      <td>Positive</td>\n",
       "    </tr>\n",
       "    <tr>\n",
       "      <th>26008</th>\n",
       "      <td>wheres the 100k at</td>\n",
       "      <td>0.000000</td>\n",
       "      <td>Neutral</td>\n",
       "    </tr>\n",
       "  </tbody>\n",
       "</table>\n",
       "</div>"
      ],
      "text/plain": [
       "                                            comment_text  Polarity    Target\n",
       "2902   Don't put these to shows together stick to the...  0.600000  Positive\n",
       "4151               I cant live without you angelica hale  0.136364  Positive\n",
       "21945                                        JP LamBakes  0.000000   Neutral\n",
       "9187   I absolutely love riverdale and you're giving ...  0.400000  Positive\n",
       "26008                                 wheres the 100k at  0.000000   Neutral"
      ]
     },
     "execution_count": 91,
     "metadata": {},
     "output_type": "execute_result"
    }
   ],
   "source": [
    "df1.head()"
   ]
  },
  {
   "cell_type": "code",
   "execution_count": 92,
   "id": "1dbb2497",
   "metadata": {},
   "outputs": [],
   "source": [
    "# TextBlob(\"\").polarity"
   ]
  },
  {
   "cell_type": "code",
   "execution_count": null,
   "id": "85f2f55e",
   "metadata": {},
   "outputs": [],
   "source": []
  },
  {
   "cell_type": "code",
   "execution_count": 29,
   "id": "b585d599",
   "metadata": {},
   "outputs": [
    {
     "name": "stdout",
     "output_type": "stream",
     "text": [
      "You\n",
      "have\n",
      "great\n",
      "lips😊\n"
     ]
    },
    {
     "data": {
      "text/plain": [
       "0.8"
      ]
     },
     "execution_count": 29,
     "metadata": {},
     "output_type": "execute_result"
    }
   ],
   "source": [
    "# ans=0\n",
    "# for i in list(TextBlob(df1['comment_text'][3]).words):\n",
    "#     print(i)\n",
    "#     ans+=TextBlob(i).polarity\n",
    "    \n",
    "# ans"
   ]
  },
  {
   "cell_type": "code",
   "execution_count": 93,
   "id": "e922d480",
   "metadata": {},
   "outputs": [
    {
     "data": {
      "text/plain": [
       "Positive    10000\n",
       "Neutral     10000\n",
       "Negative    10000\n",
       "Name: Target, dtype: int64"
      ]
     },
     "execution_count": 93,
     "metadata": {},
     "output_type": "execute_result"
    }
   ],
   "source": [
    "df1['Target'].value_counts()"
   ]
  },
  {
   "cell_type": "code",
   "execution_count": 94,
   "id": "e8f9b0bb",
   "metadata": {},
   "outputs": [],
   "source": [
    "import nltk\n",
    "from nltk.tokenize import sent_tokenize, word_tokenize\n",
    "from nltk.corpus import stopwords\n",
    "from nltk.stem.porter import *\n",
    "from nltk.stem import PorterStemmer\n",
    "from sklearn.feature_extraction.text import TfidfVectorizer\n",
    "from sklearn.feature_extraction.text import CountVectorizer"
   ]
  },
  {
   "cell_type": "code",
   "execution_count": 95,
   "id": "f16293db",
   "metadata": {},
   "outputs": [],
   "source": [
    "sw = stopwords.words('english')\n",
    "ps = PorterStemmer()\n",
    "lemmatizer = nltk.stem.WordNetLemmatizer()"
   ]
  },
  {
   "cell_type": "code",
   "execution_count": 96,
   "id": "cf8798b7",
   "metadata": {},
   "outputs": [],
   "source": [
    "# df['tokenize'] = df['comment_text'].apply()"
   ]
  },
  {
   "cell_type": "code",
   "execution_count": 97,
   "id": "f229a735",
   "metadata": {},
   "outputs": [
    {
     "data": {
      "text/plain": [
       "'OMG I never heard that Tom had passed,🌹1 of the Greats when I was in HS.Very sad.🎵🎶🎶'"
      ]
     },
     "execution_count": 97,
     "metadata": {},
     "output_type": "execute_result"
    }
   ],
   "source": [
    "df1['comment_text'][27240]"
   ]
  },
  {
   "cell_type": "code",
   "execution_count": 98,
   "id": "d76ab7ef",
   "metadata": {},
   "outputs": [],
   "source": [
    "str=df1['comment_text'][27240]"
   ]
  },
  {
   "cell_type": "code",
   "execution_count": 99,
   "id": "74cce6b5",
   "metadata": {},
   "outputs": [],
   "source": [
    "tb = TextBlob(str)\n"
   ]
  },
  {
   "cell_type": "code",
   "execution_count": 100,
   "id": "ae2c48db",
   "metadata": {},
   "outputs": [
    {
     "data": {
      "text/plain": [
       "0.0"
      ]
     },
     "execution_count": 100,
     "metadata": {},
     "output_type": "execute_result"
    }
   ],
   "source": [
    "tb.polarity"
   ]
  },
  {
   "cell_type": "code",
   "execution_count": 101,
   "id": "dc48fb36",
   "metadata": {},
   "outputs": [],
   "source": [
    "lst = tb.words"
   ]
  },
  {
   "cell_type": "code",
   "execution_count": 102,
   "id": "6d9d3575",
   "metadata": {},
   "outputs": [
    {
     "data": {
      "text/plain": [
       "WordList(['OMG', 'I', 'never', 'heard', 'that', 'Tom', 'had', 'passed', '🌹1', 'of', 'the', 'Greats', 'when', 'I', 'was', 'in', 'HS.Very', 'sad.🎵🎶🎶'])"
      ]
     },
     "execution_count": 102,
     "metadata": {},
     "output_type": "execute_result"
    }
   ],
   "source": [
    "lst"
   ]
  },
  {
   "cell_type": "code",
   "execution_count": 34,
   "id": "2859c8a4",
   "metadata": {},
   "outputs": [],
   "source": [
    "# ans=0\n",
    "# for i in lst:\n",
    "#     print(i)\n",
    "#     new_tb = TextBlob(i)\n",
    "#     ans += new_tb.polarity\n",
    "#     print(ans)\n",
    "# #     print(new_tb.polarity)\n",
    "# ans"
   ]
  },
  {
   "cell_type": "code",
   "execution_count": 103,
   "id": "eb05cfb6",
   "metadata": {},
   "outputs": [
    {
     "data": {
      "text/html": [
       "<div>\n",
       "<style scoped>\n",
       "    .dataframe tbody tr th:only-of-type {\n",
       "        vertical-align: middle;\n",
       "    }\n",
       "\n",
       "    .dataframe tbody tr th {\n",
       "        vertical-align: top;\n",
       "    }\n",
       "\n",
       "    .dataframe thead th {\n",
       "        text-align: right;\n",
       "    }\n",
       "</style>\n",
       "<table border=\"1\" class=\"dataframe\">\n",
       "  <thead>\n",
       "    <tr style=\"text-align: right;\">\n",
       "      <th></th>\n",
       "      <th>comment_text</th>\n",
       "      <th>Polarity</th>\n",
       "      <th>Target</th>\n",
       "    </tr>\n",
       "  </thead>\n",
       "  <tbody>\n",
       "    <tr>\n",
       "      <th>2902</th>\n",
       "      <td>Don't put these to shows together stick to the...</td>\n",
       "      <td>0.600000</td>\n",
       "      <td>Positive</td>\n",
       "    </tr>\n",
       "    <tr>\n",
       "      <th>4151</th>\n",
       "      <td>I cant live without you angelica hale</td>\n",
       "      <td>0.136364</td>\n",
       "      <td>Positive</td>\n",
       "    </tr>\n",
       "    <tr>\n",
       "      <th>21945</th>\n",
       "      <td>JP LamBakes</td>\n",
       "      <td>0.000000</td>\n",
       "      <td>Neutral</td>\n",
       "    </tr>\n",
       "    <tr>\n",
       "      <th>9187</th>\n",
       "      <td>I absolutely love riverdale and you're giving ...</td>\n",
       "      <td>0.400000</td>\n",
       "      <td>Positive</td>\n",
       "    </tr>\n",
       "    <tr>\n",
       "      <th>26008</th>\n",
       "      <td>wheres the 100k at</td>\n",
       "      <td>0.000000</td>\n",
       "      <td>Neutral</td>\n",
       "    </tr>\n",
       "  </tbody>\n",
       "</table>\n",
       "</div>"
      ],
      "text/plain": [
       "                                            comment_text  Polarity    Target\n",
       "2902   Don't put these to shows together stick to the...  0.600000  Positive\n",
       "4151               I cant live without you angelica hale  0.136364  Positive\n",
       "21945                                        JP LamBakes  0.000000   Neutral\n",
       "9187   I absolutely love riverdale and you're giving ...  0.400000  Positive\n",
       "26008                                 wheres the 100k at  0.000000   Neutral"
      ]
     },
     "execution_count": 103,
     "metadata": {},
     "output_type": "execute_result"
    }
   ],
   "source": [
    "df1.head()"
   ]
  },
  {
   "cell_type": "code",
   "execution_count": 104,
   "id": "d0bece87",
   "metadata": {},
   "outputs": [],
   "source": [
    "df1['comment_text'] = df1['comment_text'].str.lower()"
   ]
  },
  {
   "cell_type": "code",
   "execution_count": 105,
   "id": "9c758e4e",
   "metadata": {},
   "outputs": [],
   "source": [
    "# df1 = df1.drop(['video_id','likes','replies'],axis=1)"
   ]
  },
  {
   "cell_type": "code",
   "execution_count": 106,
   "id": "1c996d41",
   "metadata": {},
   "outputs": [
    {
     "data": {
      "text/html": [
       "<div>\n",
       "<style scoped>\n",
       "    .dataframe tbody tr th:only-of-type {\n",
       "        vertical-align: middle;\n",
       "    }\n",
       "\n",
       "    .dataframe tbody tr th {\n",
       "        vertical-align: top;\n",
       "    }\n",
       "\n",
       "    .dataframe thead th {\n",
       "        text-align: right;\n",
       "    }\n",
       "</style>\n",
       "<table border=\"1\" class=\"dataframe\">\n",
       "  <thead>\n",
       "    <tr style=\"text-align: right;\">\n",
       "      <th></th>\n",
       "      <th>comment_text</th>\n",
       "      <th>Polarity</th>\n",
       "      <th>Target</th>\n",
       "    </tr>\n",
       "  </thead>\n",
       "  <tbody>\n",
       "    <tr>\n",
       "      <th>2902</th>\n",
       "      <td>don't put these to shows together stick to the...</td>\n",
       "      <td>0.600000</td>\n",
       "      <td>Positive</td>\n",
       "    </tr>\n",
       "    <tr>\n",
       "      <th>4151</th>\n",
       "      <td>i cant live without you angelica hale</td>\n",
       "      <td>0.136364</td>\n",
       "      <td>Positive</td>\n",
       "    </tr>\n",
       "    <tr>\n",
       "      <th>21945</th>\n",
       "      <td>jp lambakes</td>\n",
       "      <td>0.000000</td>\n",
       "      <td>Neutral</td>\n",
       "    </tr>\n",
       "    <tr>\n",
       "      <th>9187</th>\n",
       "      <td>i absolutely love riverdale and you're giving ...</td>\n",
       "      <td>0.400000</td>\n",
       "      <td>Positive</td>\n",
       "    </tr>\n",
       "    <tr>\n",
       "      <th>26008</th>\n",
       "      <td>wheres the 100k at</td>\n",
       "      <td>0.000000</td>\n",
       "      <td>Neutral</td>\n",
       "    </tr>\n",
       "  </tbody>\n",
       "</table>\n",
       "</div>"
      ],
      "text/plain": [
       "                                            comment_text  Polarity    Target\n",
       "2902   don't put these to shows together stick to the...  0.600000  Positive\n",
       "4151               i cant live without you angelica hale  0.136364  Positive\n",
       "21945                                        jp lambakes  0.000000   Neutral\n",
       "9187   i absolutely love riverdale and you're giving ...  0.400000  Positive\n",
       "26008                                 wheres the 100k at  0.000000   Neutral"
      ]
     },
     "execution_count": 106,
     "metadata": {},
     "output_type": "execute_result"
    }
   ],
   "source": [
    "df1.head()"
   ]
  },
  {
   "cell_type": "code",
   "execution_count": 107,
   "id": "8e1df477",
   "metadata": {},
   "outputs": [],
   "source": [
    "def remove_sw_punc(str):\n",
    "    new_str=[]\n",
    "    for i in list(TextBlob(str).words):\n",
    "        if i not in stopwords.words('english') and i not in string.punctuation:\n",
    "#             print(i)\n",
    "            new_str.append(i)\n",
    "    text = ' '.join(new_str)\n",
    "    return text"
   ]
  },
  {
   "cell_type": "code",
   "execution_count": 108,
   "id": "865843c9",
   "metadata": {},
   "outputs": [],
   "source": [
    "str=\"Best thing ever seen yet. 1:00 wants to play with the toy too. No  cat goes ohh...\"\n",
    "def tokenize(str):\n",
    "    tb = TextBlob(str).words\n",
    "    \n",
    "    return list(tb)\n",
    "    \n",
    "#     print(tb)\n",
    "#     print(type(tb))"
   ]
  },
  {
   "cell_type": "code",
   "execution_count": 47,
   "id": "a84e467a",
   "metadata": {},
   "outputs": [],
   "source": [
    "# df1['comment_text'] = df1['comment_text'].apply(remove_sw_punc)"
   ]
  },
  {
   "cell_type": "code",
   "execution_count": 109,
   "id": "d0b812ee",
   "metadata": {},
   "outputs": [],
   "source": [
    "import emoji\n",
    "\n",
    "def remove_emoji(text):\n",
    "    return ''.join(char for char in text if not emoji.is_emoji(char))\n"
   ]
  },
  {
   "cell_type": "code",
   "execution_count": 75,
   "id": "b14b359f",
   "metadata": {},
   "outputs": [],
   "source": [
    "text=\"Hello, 😊 how are you?\"\n",
    "# text='awesome💕💕🌸🌌'"
   ]
  },
  {
   "cell_type": "code",
   "execution_count": 76,
   "id": "39dc6396",
   "metadata": {},
   "outputs": [
    {
     "data": {
      "text/plain": [
       "'Hello,  how are you?'"
      ]
     },
     "execution_count": 76,
     "metadata": {},
     "output_type": "execute_result"
    }
   ],
   "source": [
    "remove_emoji(text)"
   ]
  },
  {
   "cell_type": "code",
   "execution_count": 77,
   "id": "46763d37",
   "metadata": {},
   "outputs": [
    {
     "data": {
      "text/plain": [
       "WordList(['Hello', 'how', 'are', 'you'])"
      ]
     },
     "execution_count": 77,
     "metadata": {},
     "output_type": "execute_result"
    }
   ],
   "source": [
    "TextBlob(remove_emoji(text)).words"
   ]
  },
  {
   "cell_type": "code",
   "execution_count": 110,
   "id": "464c5466",
   "metadata": {},
   "outputs": [],
   "source": [
    "df1['comment_text'] = df1['comment_text'].apply(remove_emoji)"
   ]
  },
  {
   "cell_type": "code",
   "execution_count": 112,
   "id": "ca936182",
   "metadata": {},
   "outputs": [
    {
     "data": {
      "text/plain": [
       "'omg i never heard that tom had passed,1 of the greats when i was in hs.very sad.'"
      ]
     },
     "execution_count": 112,
     "metadata": {},
     "output_type": "execute_result"
    }
   ],
   "source": [
    "df1['comment_text'][27240]"
   ]
  },
  {
   "cell_type": "code",
   "execution_count": 113,
   "id": "68a998df",
   "metadata": {},
   "outputs": [],
   "source": [
    "df1['comment_to_token'] = df1['comment_text'].apply(tokenize)"
   ]
  },
  {
   "cell_type": "code",
   "execution_count": 114,
   "id": "8f6e6d08",
   "metadata": {},
   "outputs": [
    {
     "data": {
      "text/html": [
       "<div>\n",
       "<style scoped>\n",
       "    .dataframe tbody tr th:only-of-type {\n",
       "        vertical-align: middle;\n",
       "    }\n",
       "\n",
       "    .dataframe tbody tr th {\n",
       "        vertical-align: top;\n",
       "    }\n",
       "\n",
       "    .dataframe thead th {\n",
       "        text-align: right;\n",
       "    }\n",
       "</style>\n",
       "<table border=\"1\" class=\"dataframe\">\n",
       "  <thead>\n",
       "    <tr style=\"text-align: right;\">\n",
       "      <th></th>\n",
       "      <th>comment_text</th>\n",
       "      <th>Polarity</th>\n",
       "      <th>Target</th>\n",
       "      <th>comment_to_token</th>\n",
       "    </tr>\n",
       "  </thead>\n",
       "  <tbody>\n",
       "    <tr>\n",
       "      <th>2902</th>\n",
       "      <td>don't put these to shows together stick to the...</td>\n",
       "      <td>0.600000</td>\n",
       "      <td>Positive</td>\n",
       "      <td>[do, n't, put, these, to, shows, together, sti...</td>\n",
       "    </tr>\n",
       "    <tr>\n",
       "      <th>4151</th>\n",
       "      <td>i cant live without you angelica hale</td>\n",
       "      <td>0.136364</td>\n",
       "      <td>Positive</td>\n",
       "      <td>[i, cant, live, without, you, angelica, hale]</td>\n",
       "    </tr>\n",
       "    <tr>\n",
       "      <th>21945</th>\n",
       "      <td>jp lambakes</td>\n",
       "      <td>0.000000</td>\n",
       "      <td>Neutral</td>\n",
       "      <td>[jp, lambakes]</td>\n",
       "    </tr>\n",
       "    <tr>\n",
       "      <th>9187</th>\n",
       "      <td>i absolutely love riverdale and you're giving ...</td>\n",
       "      <td>0.400000</td>\n",
       "      <td>Positive</td>\n",
       "      <td>[i, absolutely, love, riverdale, and, you, 're...</td>\n",
       "    </tr>\n",
       "    <tr>\n",
       "      <th>26008</th>\n",
       "      <td>wheres the 100k at</td>\n",
       "      <td>0.000000</td>\n",
       "      <td>Neutral</td>\n",
       "      <td>[wheres, the, 100k, at]</td>\n",
       "    </tr>\n",
       "  </tbody>\n",
       "</table>\n",
       "</div>"
      ],
      "text/plain": [
       "                                            comment_text  Polarity    Target  \\\n",
       "2902   don't put these to shows together stick to the...  0.600000  Positive   \n",
       "4151               i cant live without you angelica hale  0.136364  Positive   \n",
       "21945                                        jp lambakes  0.000000   Neutral   \n",
       "9187   i absolutely love riverdale and you're giving ...  0.400000  Positive   \n",
       "26008                                 wheres the 100k at  0.000000   Neutral   \n",
       "\n",
       "                                        comment_to_token  \n",
       "2902   [do, n't, put, these, to, shows, together, sti...  \n",
       "4151       [i, cant, live, without, you, angelica, hale]  \n",
       "21945                                     [jp, lambakes]  \n",
       "9187   [i, absolutely, love, riverdale, and, you, 're...  \n",
       "26008                            [wheres, the, 100k, at]  "
      ]
     },
     "execution_count": 114,
     "metadata": {},
     "output_type": "execute_result"
    }
   ],
   "source": [
    "df1.head()"
   ]
  },
  {
   "cell_type": "code",
   "execution_count": 119,
   "id": "ea45e706",
   "metadata": {},
   "outputs": [],
   "source": [
    "def find_polarity_from_token(lst):\n",
    "    ans=0\n",
    "    for i in lst:\n",
    "        ans+=TextBlob(i).polarity\n",
    "    return ans"
   ]
  },
  {
   "cell_type": "code",
   "execution_count": 123,
   "id": "6e8b8c4a",
   "metadata": {},
   "outputs": [
    {
     "data": {
      "text/plain": [
       "1.5999999999999999"
      ]
     },
     "execution_count": 123,
     "metadata": {},
     "output_type": "execute_result"
    }
   ],
   "source": [
    "find_polarity_from_token(df1['comment_to_token'][9187])"
   ]
  },
  {
   "cell_type": "code",
   "execution_count": 116,
   "id": "a29756cd",
   "metadata": {},
   "outputs": [
    {
     "data": {
      "text/plain": [
       "list"
      ]
     },
     "execution_count": 116,
     "metadata": {},
     "output_type": "execute_result"
    }
   ],
   "source": [
    "type(df1['comment_to_token'][2902])"
   ]
  },
  {
   "cell_type": "code",
   "execution_count": 139,
   "id": "dc8068fe",
   "metadata": {},
   "outputs": [],
   "source": [
    "# lst = df1['comment_to_token'][9187]\n",
    "# ans=0\n",
    "# for i in lst:\n",
    "#     print(i,ans)\n",
    "#     ans+=TextBlob(i).polarity\n",
    "# ans"
   ]
  },
  {
   "cell_type": "code",
   "execution_count": 138,
   "id": "36e8c86b",
   "metadata": {},
   "outputs": [
    {
     "data": {
      "text/plain": [
       "0.0"
      ]
     },
     "execution_count": 138,
     "metadata": {},
     "output_type": "execute_result"
    }
   ],
   "source": [
    "# TextBlob('spice').polarity"
   ]
  },
  {
   "cell_type": "code",
   "execution_count": 140,
   "id": "964c410b",
   "metadata": {},
   "outputs": [],
   "source": [
    "# st=\"awesome💕💕🌸🌌\"\n",
    "# list(TextBlob(st).words)"
   ]
  },
  {
   "cell_type": "code",
   "execution_count": 141,
   "id": "62469336",
   "metadata": {},
   "outputs": [],
   "source": [
    "df1['New_Polarity'] = df1['comment_to_token'].apply(find_polarity_from_token)"
   ]
  },
  {
   "cell_type": "code",
   "execution_count": 142,
   "id": "f1441374",
   "metadata": {},
   "outputs": [
    {
     "data": {
      "text/html": [
       "<div>\n",
       "<style scoped>\n",
       "    .dataframe tbody tr th:only-of-type {\n",
       "        vertical-align: middle;\n",
       "    }\n",
       "\n",
       "    .dataframe tbody tr th {\n",
       "        vertical-align: top;\n",
       "    }\n",
       "\n",
       "    .dataframe thead th {\n",
       "        text-align: right;\n",
       "    }\n",
       "</style>\n",
       "<table border=\"1\" class=\"dataframe\">\n",
       "  <thead>\n",
       "    <tr style=\"text-align: right;\">\n",
       "      <th></th>\n",
       "      <th>comment_text</th>\n",
       "      <th>Polarity</th>\n",
       "      <th>Target</th>\n",
       "      <th>comment_to_token</th>\n",
       "      <th>New_Polarity</th>\n",
       "    </tr>\n",
       "  </thead>\n",
       "  <tbody>\n",
       "    <tr>\n",
       "      <th>2902</th>\n",
       "      <td>don't put these to shows together stick to the...</td>\n",
       "      <td>0.600000</td>\n",
       "      <td>Positive</td>\n",
       "      <td>[do, n't, put, these, to, shows, together, sti...</td>\n",
       "      <td>0.600000</td>\n",
       "    </tr>\n",
       "    <tr>\n",
       "      <th>4151</th>\n",
       "      <td>i cant live without you angelica hale</td>\n",
       "      <td>0.136364</td>\n",
       "      <td>Positive</td>\n",
       "      <td>[i, cant, live, without, you, angelica, hale]</td>\n",
       "      <td>0.136364</td>\n",
       "    </tr>\n",
       "    <tr>\n",
       "      <th>21945</th>\n",
       "      <td>jp lambakes</td>\n",
       "      <td>0.000000</td>\n",
       "      <td>Neutral</td>\n",
       "      <td>[jp, lambakes]</td>\n",
       "      <td>0.000000</td>\n",
       "    </tr>\n",
       "    <tr>\n",
       "      <th>9187</th>\n",
       "      <td>i absolutely love riverdale and you're giving ...</td>\n",
       "      <td>0.400000</td>\n",
       "      <td>Positive</td>\n",
       "      <td>[i, absolutely, love, riverdale, and, you, 're...</td>\n",
       "      <td>1.600000</td>\n",
       "    </tr>\n",
       "    <tr>\n",
       "      <th>26008</th>\n",
       "      <td>wheres the 100k at</td>\n",
       "      <td>0.000000</td>\n",
       "      <td>Neutral</td>\n",
       "      <td>[wheres, the, 100k, at]</td>\n",
       "      <td>0.000000</td>\n",
       "    </tr>\n",
       "  </tbody>\n",
       "</table>\n",
       "</div>"
      ],
      "text/plain": [
       "                                            comment_text  Polarity    Target  \\\n",
       "2902   don't put these to shows together stick to the...  0.600000  Positive   \n",
       "4151               i cant live without you angelica hale  0.136364  Positive   \n",
       "21945                                        jp lambakes  0.000000   Neutral   \n",
       "9187   i absolutely love riverdale and you're giving ...  0.400000  Positive   \n",
       "26008                                 wheres the 100k at  0.000000   Neutral   \n",
       "\n",
       "                                        comment_to_token  New_Polarity  \n",
       "2902   [do, n't, put, these, to, shows, together, sti...      0.600000  \n",
       "4151       [i, cant, live, without, you, angelica, hale]      0.136364  \n",
       "21945                                     [jp, lambakes]      0.000000  \n",
       "9187   [i, absolutely, love, riverdale, and, you, 're...      1.600000  \n",
       "26008                            [wheres, the, 100k, at]      0.000000  "
      ]
     },
     "execution_count": 142,
     "metadata": {},
     "output_type": "execute_result"
    }
   ],
   "source": [
    "df1.head()"
   ]
  },
  {
   "cell_type": "code",
   "execution_count": 146,
   "id": "306dd2b7",
   "metadata": {},
   "outputs": [],
   "source": [
    "# TextBlob(df1['comment_text'][9187]).polarity"
   ]
  },
  {
   "cell_type": "code",
   "execution_count": 147,
   "id": "a212e97b",
   "metadata": {},
   "outputs": [],
   "source": [
    "def Create_new_target(no):\n",
    "    if no>0:\n",
    "        return 1\n",
    "    elif no<0:\n",
    "        return -1;\n",
    "    else:\n",
    "        return 0"
   ]
  },
  {
   "cell_type": "code",
   "execution_count": 148,
   "id": "84ae32ab",
   "metadata": {},
   "outputs": [],
   "source": [
    "df1['New_Target'] = df1['New_Polarity'].apply(Create_new_target)"
   ]
  },
  {
   "cell_type": "code",
   "execution_count": 149,
   "id": "d2363f3b",
   "metadata": {},
   "outputs": [
    {
     "data": {
      "text/html": [
       "<div>\n",
       "<style scoped>\n",
       "    .dataframe tbody tr th:only-of-type {\n",
       "        vertical-align: middle;\n",
       "    }\n",
       "\n",
       "    .dataframe tbody tr th {\n",
       "        vertical-align: top;\n",
       "    }\n",
       "\n",
       "    .dataframe thead th {\n",
       "        text-align: right;\n",
       "    }\n",
       "</style>\n",
       "<table border=\"1\" class=\"dataframe\">\n",
       "  <thead>\n",
       "    <tr style=\"text-align: right;\">\n",
       "      <th></th>\n",
       "      <th>comment_text</th>\n",
       "      <th>Polarity</th>\n",
       "      <th>Target</th>\n",
       "      <th>comment_to_token</th>\n",
       "      <th>New_Polarity</th>\n",
       "      <th>New_Target</th>\n",
       "    </tr>\n",
       "  </thead>\n",
       "  <tbody>\n",
       "    <tr>\n",
       "      <th>2902</th>\n",
       "      <td>don't put these to shows together stick to the...</td>\n",
       "      <td>0.600000</td>\n",
       "      <td>Positive</td>\n",
       "      <td>[do, n't, put, these, to, shows, together, sti...</td>\n",
       "      <td>0.600000</td>\n",
       "      <td>1</td>\n",
       "    </tr>\n",
       "    <tr>\n",
       "      <th>4151</th>\n",
       "      <td>i cant live without you angelica hale</td>\n",
       "      <td>0.136364</td>\n",
       "      <td>Positive</td>\n",
       "      <td>[i, cant, live, without, you, angelica, hale]</td>\n",
       "      <td>0.136364</td>\n",
       "      <td>1</td>\n",
       "    </tr>\n",
       "    <tr>\n",
       "      <th>21945</th>\n",
       "      <td>jp lambakes</td>\n",
       "      <td>0.000000</td>\n",
       "      <td>Neutral</td>\n",
       "      <td>[jp, lambakes]</td>\n",
       "      <td>0.000000</td>\n",
       "      <td>0</td>\n",
       "    </tr>\n",
       "    <tr>\n",
       "      <th>9187</th>\n",
       "      <td>i absolutely love riverdale and you're giving ...</td>\n",
       "      <td>0.400000</td>\n",
       "      <td>Positive</td>\n",
       "      <td>[i, absolutely, love, riverdale, and, you, 're...</td>\n",
       "      <td>1.600000</td>\n",
       "      <td>1</td>\n",
       "    </tr>\n",
       "    <tr>\n",
       "      <th>26008</th>\n",
       "      <td>wheres the 100k at</td>\n",
       "      <td>0.000000</td>\n",
       "      <td>Neutral</td>\n",
       "      <td>[wheres, the, 100k, at]</td>\n",
       "      <td>0.000000</td>\n",
       "      <td>0</td>\n",
       "    </tr>\n",
       "  </tbody>\n",
       "</table>\n",
       "</div>"
      ],
      "text/plain": [
       "                                            comment_text  Polarity    Target  \\\n",
       "2902   don't put these to shows together stick to the...  0.600000  Positive   \n",
       "4151               i cant live without you angelica hale  0.136364  Positive   \n",
       "21945                                        jp lambakes  0.000000   Neutral   \n",
       "9187   i absolutely love riverdale and you're giving ...  0.400000  Positive   \n",
       "26008                                 wheres the 100k at  0.000000   Neutral   \n",
       "\n",
       "                                        comment_to_token  New_Polarity  \\\n",
       "2902   [do, n't, put, these, to, shows, together, sti...      0.600000   \n",
       "4151       [i, cant, live, without, you, angelica, hale]      0.136364   \n",
       "21945                                     [jp, lambakes]      0.000000   \n",
       "9187   [i, absolutely, love, riverdale, and, you, 're...      1.600000   \n",
       "26008                            [wheres, the, 100k, at]      0.000000   \n",
       "\n",
       "       New_Target  \n",
       "2902            1  \n",
       "4151            1  \n",
       "21945           0  \n",
       "9187            1  \n",
       "26008           0  "
      ]
     },
     "execution_count": 149,
     "metadata": {},
     "output_type": "execute_result"
    }
   ],
   "source": [
    "df1.head()"
   ]
  },
  {
   "cell_type": "code",
   "execution_count": 150,
   "id": "0a257984",
   "metadata": {},
   "outputs": [
    {
     "data": {
      "text/plain": [
       " 1    10335\n",
       " 0    10115\n",
       "-1     9550\n",
       "Name: New_Target, dtype: int64"
      ]
     },
     "execution_count": 150,
     "metadata": {},
     "output_type": "execute_result"
    }
   ],
   "source": [
    "df1['New_Target'].value_counts()"
   ]
  },
  {
   "cell_type": "code",
   "execution_count": 151,
   "id": "007e864d",
   "metadata": {},
   "outputs": [],
   "source": [
    "df1.to_csv(\"Try_Error_Comment_Data_(Random 10000 each sample).csv\",index=False)"
   ]
  },
  {
   "cell_type": "code",
   "execution_count": 152,
   "id": "75528dcb",
   "metadata": {},
   "outputs": [
    {
     "name": "stderr",
     "output_type": "stream",
     "text": [
      "C:\\Users\\LENOVO\\anaconda3\\lib\\site-packages\\IPython\\core\\interactiveshell.py:3552: FutureWarning: The error_bad_lines argument has been deprecated and will be removed in a future version.\n",
      "\n",
      "\n",
      "  exec(code_obj, self.user_global_ns, self.user_ns)\n"
     ]
    }
   ],
   "source": [
    "new_df = pd.read_csv(\"Try_Error_Comment_Data_(Random 10000 each sample).csv\",error_bad_lines=False)"
   ]
  },
  {
   "cell_type": "code",
   "execution_count": 153,
   "id": "ecdbb91c",
   "metadata": {},
   "outputs": [
    {
     "data": {
      "text/html": [
       "<div>\n",
       "<style scoped>\n",
       "    .dataframe tbody tr th:only-of-type {\n",
       "        vertical-align: middle;\n",
       "    }\n",
       "\n",
       "    .dataframe tbody tr th {\n",
       "        vertical-align: top;\n",
       "    }\n",
       "\n",
       "    .dataframe thead th {\n",
       "        text-align: right;\n",
       "    }\n",
       "</style>\n",
       "<table border=\"1\" class=\"dataframe\">\n",
       "  <thead>\n",
       "    <tr style=\"text-align: right;\">\n",
       "      <th></th>\n",
       "      <th>comment_text</th>\n",
       "      <th>Polarity</th>\n",
       "      <th>Target</th>\n",
       "      <th>comment_to_token</th>\n",
       "      <th>New_Polarity</th>\n",
       "      <th>New_Target</th>\n",
       "    </tr>\n",
       "  </thead>\n",
       "  <tbody>\n",
       "    <tr>\n",
       "      <th>0</th>\n",
       "      <td>don't put these to shows together stick to the...</td>\n",
       "      <td>0.600000</td>\n",
       "      <td>Positive</td>\n",
       "      <td>['do', \"n't\", 'put', 'these', 'to', 'shows', '...</td>\n",
       "      <td>0.600000</td>\n",
       "      <td>1</td>\n",
       "    </tr>\n",
       "    <tr>\n",
       "      <th>1</th>\n",
       "      <td>i cant live without you angelica hale</td>\n",
       "      <td>0.136364</td>\n",
       "      <td>Positive</td>\n",
       "      <td>['i', 'cant', 'live', 'without', 'you', 'angel...</td>\n",
       "      <td>0.136364</td>\n",
       "      <td>1</td>\n",
       "    </tr>\n",
       "    <tr>\n",
       "      <th>2</th>\n",
       "      <td>jp lambakes</td>\n",
       "      <td>0.000000</td>\n",
       "      <td>Neutral</td>\n",
       "      <td>['jp', 'lambakes']</td>\n",
       "      <td>0.000000</td>\n",
       "      <td>0</td>\n",
       "    </tr>\n",
       "    <tr>\n",
       "      <th>3</th>\n",
       "      <td>i absolutely love riverdale and you're giving ...</td>\n",
       "      <td>0.400000</td>\n",
       "      <td>Positive</td>\n",
       "      <td>['i', 'absolutely', 'love', 'riverdale', 'and'...</td>\n",
       "      <td>1.600000</td>\n",
       "      <td>1</td>\n",
       "    </tr>\n",
       "    <tr>\n",
       "      <th>4</th>\n",
       "      <td>wheres the 100k at</td>\n",
       "      <td>0.000000</td>\n",
       "      <td>Neutral</td>\n",
       "      <td>['wheres', 'the', '100k', 'at']</td>\n",
       "      <td>0.000000</td>\n",
       "      <td>0</td>\n",
       "    </tr>\n",
       "  </tbody>\n",
       "</table>\n",
       "</div>"
      ],
      "text/plain": [
       "                                        comment_text  Polarity    Target  \\\n",
       "0  don't put these to shows together stick to the...  0.600000  Positive   \n",
       "1              i cant live without you angelica hale  0.136364  Positive   \n",
       "2                                        jp lambakes  0.000000   Neutral   \n",
       "3  i absolutely love riverdale and you're giving ...  0.400000  Positive   \n",
       "4                                 wheres the 100k at  0.000000   Neutral   \n",
       "\n",
       "                                    comment_to_token  New_Polarity  New_Target  \n",
       "0  ['do', \"n't\", 'put', 'these', 'to', 'shows', '...      0.600000           1  \n",
       "1  ['i', 'cant', 'live', 'without', 'you', 'angel...      0.136364           1  \n",
       "2                                 ['jp', 'lambakes']      0.000000           0  \n",
       "3  ['i', 'absolutely', 'love', 'riverdale', 'and'...      1.600000           1  \n",
       "4                    ['wheres', 'the', '100k', 'at']      0.000000           0  "
      ]
     },
     "execution_count": 153,
     "metadata": {},
     "output_type": "execute_result"
    }
   ],
   "source": [
    "new_df.head()"
   ]
  },
  {
   "cell_type": "code",
   "execution_count": null,
   "id": "b0937cb5",
   "metadata": {},
   "outputs": [],
   "source": []
  },
  {
   "cell_type": "code",
   "execution_count": null,
   "id": "c6c1163c",
   "metadata": {},
   "outputs": [],
   "source": []
  },
  {
   "cell_type": "code",
   "execution_count": 78,
   "id": "2571ae09",
   "metadata": {},
   "outputs": [],
   "source": [
    "# tokenize(str)"
   ]
  },
  {
   "cell_type": "code",
   "execution_count": 97,
   "id": "89f7e75a",
   "metadata": {},
   "outputs": [],
   "source": [
    "# from sklearn.feature_extraction.text import CountVectorizer"
   ]
  },
  {
   "cell_type": "code",
   "execution_count": 98,
   "id": "93b0c944",
   "metadata": {},
   "outputs": [],
   "source": [
    "# vectorizer = CountVectorizer()"
   ]
  },
  {
   "cell_type": "code",
   "execution_count": 99,
   "id": "21328504",
   "metadata": {},
   "outputs": [],
   "source": [
    "# X = vectorizer.fit_transform(tb).toarray()"
   ]
  },
  {
   "cell_type": "code",
   "execution_count": 154,
   "id": "78560a6f",
   "metadata": {},
   "outputs": [],
   "source": [
    "# print(X)\n",
    "# X.reshape(1,len(X.shape)).shape"
   ]
  },
  {
   "cell_type": "code",
   "execution_count": 155,
   "id": "fb119066",
   "metadata": {},
   "outputs": [],
   "source": [
    "def polarity(str):\n",
    "    tb = TextBlob(str)\n",
    "    return tb.polarity"
   ]
  },
  {
   "cell_type": "code",
   "execution_count": 156,
   "id": "119fa848",
   "metadata": {},
   "outputs": [],
   "source": [
    "# df1['New_Target'] = df1['comment_text'].apply(polarity)"
   ]
  },
  {
   "cell_type": "code",
   "execution_count": 157,
   "id": "9e316088",
   "metadata": {},
   "outputs": [],
   "source": [
    "def lable_target_no(no):\n",
    "    if no>0:\n",
    "        return 1\n",
    "    elif no<0:\n",
    "        return -1\n",
    "    else:\n",
    "        return 0"
   ]
  },
  {
   "cell_type": "code",
   "execution_count": 158,
   "id": "2186167f",
   "metadata": {},
   "outputs": [
    {
     "data": {
      "text/html": [
       "<div>\n",
       "<style scoped>\n",
       "    .dataframe tbody tr th:only-of-type {\n",
       "        vertical-align: middle;\n",
       "    }\n",
       "\n",
       "    .dataframe tbody tr th {\n",
       "        vertical-align: top;\n",
       "    }\n",
       "\n",
       "    .dataframe thead th {\n",
       "        text-align: right;\n",
       "    }\n",
       "</style>\n",
       "<table border=\"1\" class=\"dataframe\">\n",
       "  <thead>\n",
       "    <tr style=\"text-align: right;\">\n",
       "      <th></th>\n",
       "      <th>comment_text</th>\n",
       "      <th>Polarity</th>\n",
       "      <th>Target</th>\n",
       "      <th>comment_to_token</th>\n",
       "      <th>New_Polarity</th>\n",
       "      <th>New_Target</th>\n",
       "    </tr>\n",
       "  </thead>\n",
       "  <tbody>\n",
       "    <tr>\n",
       "      <th>2902</th>\n",
       "      <td>don't put these to shows together stick to the...</td>\n",
       "      <td>0.600000</td>\n",
       "      <td>Positive</td>\n",
       "      <td>[do, n't, put, these, to, shows, together, sti...</td>\n",
       "      <td>0.600000</td>\n",
       "      <td>1</td>\n",
       "    </tr>\n",
       "    <tr>\n",
       "      <th>4151</th>\n",
       "      <td>i cant live without you angelica hale</td>\n",
       "      <td>0.136364</td>\n",
       "      <td>Positive</td>\n",
       "      <td>[i, cant, live, without, you, angelica, hale]</td>\n",
       "      <td>0.136364</td>\n",
       "      <td>1</td>\n",
       "    </tr>\n",
       "    <tr>\n",
       "      <th>21945</th>\n",
       "      <td>jp lambakes</td>\n",
       "      <td>0.000000</td>\n",
       "      <td>Neutral</td>\n",
       "      <td>[jp, lambakes]</td>\n",
       "      <td>0.000000</td>\n",
       "      <td>0</td>\n",
       "    </tr>\n",
       "    <tr>\n",
       "      <th>9187</th>\n",
       "      <td>i absolutely love riverdale and you're giving ...</td>\n",
       "      <td>0.400000</td>\n",
       "      <td>Positive</td>\n",
       "      <td>[i, absolutely, love, riverdale, and, you, 're...</td>\n",
       "      <td>1.600000</td>\n",
       "      <td>1</td>\n",
       "    </tr>\n",
       "    <tr>\n",
       "      <th>26008</th>\n",
       "      <td>wheres the 100k at</td>\n",
       "      <td>0.000000</td>\n",
       "      <td>Neutral</td>\n",
       "      <td>[wheres, the, 100k, at]</td>\n",
       "      <td>0.000000</td>\n",
       "      <td>0</td>\n",
       "    </tr>\n",
       "  </tbody>\n",
       "</table>\n",
       "</div>"
      ],
      "text/plain": [
       "                                            comment_text  Polarity    Target  \\\n",
       "2902   don't put these to shows together stick to the...  0.600000  Positive   \n",
       "4151               i cant live without you angelica hale  0.136364  Positive   \n",
       "21945                                        jp lambakes  0.000000   Neutral   \n",
       "9187   i absolutely love riverdale and you're giving ...  0.400000  Positive   \n",
       "26008                                 wheres the 100k at  0.000000   Neutral   \n",
       "\n",
       "                                        comment_to_token  New_Polarity  \\\n",
       "2902   [do, n't, put, these, to, shows, together, sti...      0.600000   \n",
       "4151       [i, cant, live, without, you, angelica, hale]      0.136364   \n",
       "21945                                     [jp, lambakes]      0.000000   \n",
       "9187   [i, absolutely, love, riverdale, and, you, 're...      1.600000   \n",
       "26008                            [wheres, the, 100k, at]      0.000000   \n",
       "\n",
       "       New_Target  \n",
       "2902            1  \n",
       "4151            1  \n",
       "21945           0  \n",
       "9187            1  \n",
       "26008           0  "
      ]
     },
     "execution_count": 158,
     "metadata": {},
     "output_type": "execute_result"
    }
   ],
   "source": [
    "df1.head()"
   ]
  },
  {
   "cell_type": "code",
   "execution_count": 36,
   "id": "c9971376",
   "metadata": {},
   "outputs": [],
   "source": [
    "df1['Target_in_no'] = df1['New_Target'].apply(lable_target_no)"
   ]
  },
  {
   "cell_type": "code",
   "execution_count": 37,
   "id": "5ee78e66",
   "metadata": {},
   "outputs": [
    {
     "data": {
      "text/plain": [
       " 1    70000\n",
       "-1    70000\n",
       " 0    70000\n",
       "Name: Target_in_no, dtype: int64"
      ]
     },
     "execution_count": 37,
     "metadata": {},
     "output_type": "execute_result"
    }
   ],
   "source": [
    "df1['Target_in_no'].value_counts()"
   ]
  },
  {
   "cell_type": "code",
   "execution_count": 38,
   "id": "1bc71f12",
   "metadata": {},
   "outputs": [],
   "source": [
    "df1 = df1.drop(['video_id'],axis=1)"
   ]
  },
  {
   "cell_type": "code",
   "execution_count": 39,
   "id": "f607b4c3",
   "metadata": {},
   "outputs": [
    {
     "data": {
      "text/html": [
       "<div>\n",
       "<style scoped>\n",
       "    .dataframe tbody tr th:only-of-type {\n",
       "        vertical-align: middle;\n",
       "    }\n",
       "\n",
       "    .dataframe tbody tr th {\n",
       "        vertical-align: top;\n",
       "    }\n",
       "\n",
       "    .dataframe thead th {\n",
       "        text-align: right;\n",
       "    }\n",
       "</style>\n",
       "<table border=\"1\" class=\"dataframe\">\n",
       "  <thead>\n",
       "    <tr style=\"text-align: right;\">\n",
       "      <th></th>\n",
       "      <th>comment_text</th>\n",
       "      <th>likes</th>\n",
       "      <th>replies</th>\n",
       "      <th>Polarity</th>\n",
       "      <th>Target</th>\n",
       "      <th>New_Target</th>\n",
       "      <th>Target_in_no</th>\n",
       "    </tr>\n",
       "  </thead>\n",
       "  <tbody>\n",
       "    <tr>\n",
       "      <th>0</th>\n",
       "      <td>Hahaha E! News are retarded. Love you Jim!</td>\n",
       "      <td>0</td>\n",
       "      <td>0</td>\n",
       "      <td>0.025000</td>\n",
       "      <td>Positive</td>\n",
       "      <td>0.025000</td>\n",
       "      <td>1</td>\n",
       "    </tr>\n",
       "    <tr>\n",
       "      <th>1</th>\n",
       "      <td>the guy was sooo. cute</td>\n",
       "      <td>0</td>\n",
       "      <td>0</td>\n",
       "      <td>0.500000</td>\n",
       "      <td>Positive</td>\n",
       "      <td>0.500000</td>\n",
       "      <td>1</td>\n",
       "    </tr>\n",
       "    <tr>\n",
       "      <th>2</th>\n",
       "      <td>If you want to turn it up a notch, saute some ...</td>\n",
       "      <td>0</td>\n",
       "      <td>0</td>\n",
       "      <td>1.000000</td>\n",
       "      <td>Positive</td>\n",
       "      <td>1.000000</td>\n",
       "      <td>1</td>\n",
       "    </tr>\n",
       "    <tr>\n",
       "      <th>3</th>\n",
       "      <td>We have Zwitsal here ini Indonesia. It was my ...</td>\n",
       "      <td>0</td>\n",
       "      <td>0</td>\n",
       "      <td>0.750000</td>\n",
       "      <td>Positive</td>\n",
       "      <td>0.750000</td>\n",
       "      <td>1</td>\n",
       "    </tr>\n",
       "    <tr>\n",
       "      <th>4</th>\n",
       "      <td>maybe you can't love someone until you love yo...</td>\n",
       "      <td>0</td>\n",
       "      <td>0</td>\n",
       "      <td>0.441071</td>\n",
       "      <td>Positive</td>\n",
       "      <td>0.441071</td>\n",
       "      <td>1</td>\n",
       "    </tr>\n",
       "  </tbody>\n",
       "</table>\n",
       "</div>"
      ],
      "text/plain": [
       "                                        comment_text  likes  replies  \\\n",
       "0         Hahaha E! News are retarded. Love you Jim!      0        0   \n",
       "1                             the guy was sooo. cute      0        0   \n",
       "2  If you want to turn it up a notch, saute some ...      0        0   \n",
       "3  We have Zwitsal here ini Indonesia. It was my ...      0        0   \n",
       "4  maybe you can't love someone until you love yo...      0        0   \n",
       "\n",
       "   Polarity    Target  New_Target  Target_in_no  \n",
       "0  0.025000  Positive    0.025000             1  \n",
       "1  0.500000  Positive    0.500000             1  \n",
       "2  1.000000  Positive    1.000000             1  \n",
       "3  0.750000  Positive    0.750000             1  \n",
       "4  0.441071  Positive    0.441071             1  "
      ]
     },
     "execution_count": 39,
     "metadata": {},
     "output_type": "execute_result"
    }
   ],
   "source": [
    "df1.head()"
   ]
  },
  {
   "cell_type": "code",
   "execution_count": 41,
   "id": "b8c65096",
   "metadata": {},
   "outputs": [],
   "source": [
    "# df1['Tokenize_word'] = df1['comment_text'].apply(tokenize)"
   ]
  },
  {
   "cell_type": "code",
   "execution_count": 42,
   "id": "fab366a2",
   "metadata": {},
   "outputs": [
    {
     "data": {
      "text/html": [
       "<div>\n",
       "<style scoped>\n",
       "    .dataframe tbody tr th:only-of-type {\n",
       "        vertical-align: middle;\n",
       "    }\n",
       "\n",
       "    .dataframe tbody tr th {\n",
       "        vertical-align: top;\n",
       "    }\n",
       "\n",
       "    .dataframe thead th {\n",
       "        text-align: right;\n",
       "    }\n",
       "</style>\n",
       "<table border=\"1\" class=\"dataframe\">\n",
       "  <thead>\n",
       "    <tr style=\"text-align: right;\">\n",
       "      <th></th>\n",
       "      <th>comment_text</th>\n",
       "      <th>likes</th>\n",
       "      <th>replies</th>\n",
       "      <th>Polarity</th>\n",
       "      <th>Target</th>\n",
       "      <th>New_Target</th>\n",
       "      <th>Target_in_no</th>\n",
       "    </tr>\n",
       "  </thead>\n",
       "  <tbody>\n",
       "    <tr>\n",
       "      <th>0</th>\n",
       "      <td>Hahaha E! News are retarded. Love you Jim!</td>\n",
       "      <td>0</td>\n",
       "      <td>0</td>\n",
       "      <td>0.025000</td>\n",
       "      <td>Positive</td>\n",
       "      <td>0.025000</td>\n",
       "      <td>1</td>\n",
       "    </tr>\n",
       "    <tr>\n",
       "      <th>1</th>\n",
       "      <td>the guy was sooo. cute</td>\n",
       "      <td>0</td>\n",
       "      <td>0</td>\n",
       "      <td>0.500000</td>\n",
       "      <td>Positive</td>\n",
       "      <td>0.500000</td>\n",
       "      <td>1</td>\n",
       "    </tr>\n",
       "    <tr>\n",
       "      <th>2</th>\n",
       "      <td>If you want to turn it up a notch, saute some ...</td>\n",
       "      <td>0</td>\n",
       "      <td>0</td>\n",
       "      <td>1.000000</td>\n",
       "      <td>Positive</td>\n",
       "      <td>1.000000</td>\n",
       "      <td>1</td>\n",
       "    </tr>\n",
       "    <tr>\n",
       "      <th>3</th>\n",
       "      <td>We have Zwitsal here ini Indonesia. It was my ...</td>\n",
       "      <td>0</td>\n",
       "      <td>0</td>\n",
       "      <td>0.750000</td>\n",
       "      <td>Positive</td>\n",
       "      <td>0.750000</td>\n",
       "      <td>1</td>\n",
       "    </tr>\n",
       "    <tr>\n",
       "      <th>4</th>\n",
       "      <td>maybe you can't love someone until you love yo...</td>\n",
       "      <td>0</td>\n",
       "      <td>0</td>\n",
       "      <td>0.441071</td>\n",
       "      <td>Positive</td>\n",
       "      <td>0.441071</td>\n",
       "      <td>1</td>\n",
       "    </tr>\n",
       "  </tbody>\n",
       "</table>\n",
       "</div>"
      ],
      "text/plain": [
       "                                        comment_text  likes  replies  \\\n",
       "0         Hahaha E! News are retarded. Love you Jim!      0        0   \n",
       "1                             the guy was sooo. cute      0        0   \n",
       "2  If you want to turn it up a notch, saute some ...      0        0   \n",
       "3  We have Zwitsal here ini Indonesia. It was my ...      0        0   \n",
       "4  maybe you can't love someone until you love yo...      0        0   \n",
       "\n",
       "   Polarity    Target  New_Target  Target_in_no  \n",
       "0  0.025000  Positive    0.025000             1  \n",
       "1  0.500000  Positive    0.500000             1  \n",
       "2  1.000000  Positive    1.000000             1  \n",
       "3  0.750000  Positive    0.750000             1  \n",
       "4  0.441071  Positive    0.441071             1  "
      ]
     },
     "execution_count": 42,
     "metadata": {},
     "output_type": "execute_result"
    }
   ],
   "source": [
    "df1.head()"
   ]
  },
  {
   "cell_type": "code",
   "execution_count": 43,
   "id": "904eea5a",
   "metadata": {},
   "outputs": [],
   "source": [
    "# df1 = df1.drop(['Tokenize_word'],axis=1)"
   ]
  },
  {
   "cell_type": "code",
   "execution_count": 44,
   "id": "9f89be2e",
   "metadata": {},
   "outputs": [],
   "source": [
    "# df1.head()"
   ]
  },
  {
   "cell_type": "code",
   "execution_count": 45,
   "id": "1867cf7a",
   "metadata": {},
   "outputs": [],
   "source": [
    "# df1['comment_text'] = df1['comment_text'].str.lower()"
   ]
  },
  {
   "cell_type": "code",
   "execution_count": 46,
   "id": "71b1bb89",
   "metadata": {},
   "outputs": [
    {
     "data": {
      "text/html": [
       "<div>\n",
       "<style scoped>\n",
       "    .dataframe tbody tr th:only-of-type {\n",
       "        vertical-align: middle;\n",
       "    }\n",
       "\n",
       "    .dataframe tbody tr th {\n",
       "        vertical-align: top;\n",
       "    }\n",
       "\n",
       "    .dataframe thead th {\n",
       "        text-align: right;\n",
       "    }\n",
       "</style>\n",
       "<table border=\"1\" class=\"dataframe\">\n",
       "  <thead>\n",
       "    <tr style=\"text-align: right;\">\n",
       "      <th></th>\n",
       "      <th>comment_text</th>\n",
       "      <th>likes</th>\n",
       "      <th>replies</th>\n",
       "      <th>Polarity</th>\n",
       "      <th>Target</th>\n",
       "      <th>New_Target</th>\n",
       "      <th>Target_in_no</th>\n",
       "    </tr>\n",
       "  </thead>\n",
       "  <tbody>\n",
       "    <tr>\n",
       "      <th>0</th>\n",
       "      <td>hahaha e! news are retarded. love you jim!</td>\n",
       "      <td>0</td>\n",
       "      <td>0</td>\n",
       "      <td>0.025000</td>\n",
       "      <td>Positive</td>\n",
       "      <td>0.025000</td>\n",
       "      <td>1</td>\n",
       "    </tr>\n",
       "    <tr>\n",
       "      <th>1</th>\n",
       "      <td>the guy was sooo. cute</td>\n",
       "      <td>0</td>\n",
       "      <td>0</td>\n",
       "      <td>0.500000</td>\n",
       "      <td>Positive</td>\n",
       "      <td>0.500000</td>\n",
       "      <td>1</td>\n",
       "    </tr>\n",
       "    <tr>\n",
       "      <th>2</th>\n",
       "      <td>if you want to turn it up a notch, saute some ...</td>\n",
       "      <td>0</td>\n",
       "      <td>0</td>\n",
       "      <td>1.000000</td>\n",
       "      <td>Positive</td>\n",
       "      <td>1.000000</td>\n",
       "      <td>1</td>\n",
       "    </tr>\n",
       "    <tr>\n",
       "      <th>3</th>\n",
       "      <td>we have zwitsal here ini indonesia. it was my ...</td>\n",
       "      <td>0</td>\n",
       "      <td>0</td>\n",
       "      <td>0.750000</td>\n",
       "      <td>Positive</td>\n",
       "      <td>0.750000</td>\n",
       "      <td>1</td>\n",
       "    </tr>\n",
       "    <tr>\n",
       "      <th>4</th>\n",
       "      <td>maybe you can't love someone until you love yo...</td>\n",
       "      <td>0</td>\n",
       "      <td>0</td>\n",
       "      <td>0.441071</td>\n",
       "      <td>Positive</td>\n",
       "      <td>0.441071</td>\n",
       "      <td>1</td>\n",
       "    </tr>\n",
       "  </tbody>\n",
       "</table>\n",
       "</div>"
      ],
      "text/plain": [
       "                                        comment_text  likes  replies  \\\n",
       "0         hahaha e! news are retarded. love you jim!      0        0   \n",
       "1                             the guy was sooo. cute      0        0   \n",
       "2  if you want to turn it up a notch, saute some ...      0        0   \n",
       "3  we have zwitsal here ini indonesia. it was my ...      0        0   \n",
       "4  maybe you can't love someone until you love yo...      0        0   \n",
       "\n",
       "   Polarity    Target  New_Target  Target_in_no  \n",
       "0  0.025000  Positive    0.025000             1  \n",
       "1  0.500000  Positive    0.500000             1  \n",
       "2  1.000000  Positive    1.000000             1  \n",
       "3  0.750000  Positive    0.750000             1  \n",
       "4  0.441071  Positive    0.441071             1  "
      ]
     },
     "execution_count": 46,
     "metadata": {},
     "output_type": "execute_result"
    }
   ],
   "source": [
    "df1.head()"
   ]
  },
  {
   "cell_type": "code",
   "execution_count": 48,
   "id": "77a26687",
   "metadata": {},
   "outputs": [],
   "source": [
    "# df1['Target_in_no'].value_counts()"
   ]
  },
  {
   "cell_type": "code",
   "execution_count": 49,
   "id": "dbf390c7",
   "metadata": {},
   "outputs": [],
   "source": [
    "from sklearn.feature_extraction.text import CountVectorizer\n",
    "from sklearn.ensemble import RandomForestClassifier"
   ]
  },
  {
   "cell_type": "code",
   "execution_count": 50,
   "id": "503526b6",
   "metadata": {},
   "outputs": [],
   "source": [
    "countvector=CountVectorizer(ngram_range=(2,2))\n"
   ]
  },
  {
   "cell_type": "code",
   "execution_count": 51,
   "id": "1d7be739",
   "metadata": {},
   "outputs": [],
   "source": [
    "x=countvector.fit_transform(df1['comment_text'])\n",
    "y = df1['Target_in_no']"
   ]
  },
  {
   "cell_type": "code",
   "execution_count": 52,
   "id": "fd01352d",
   "metadata": {},
   "outputs": [],
   "source": [
    "x_train1,x_test1,y_train1,y_test1=train_test_split(x,y,test_size=0.3,random_state=101)"
   ]
  },
  {
   "cell_type": "code",
   "execution_count": null,
   "id": "b5ce29e8",
   "metadata": {},
   "outputs": [],
   "source": [
    "# model1=MultinomialNB()"
   ]
  },
  {
   "cell_type": "code",
   "execution_count": 53,
   "id": "215b4451",
   "metadata": {},
   "outputs": [
    {
     "data": {
      "text/plain": [
       "(147000, 946655)"
      ]
     },
     "execution_count": 53,
     "metadata": {},
     "output_type": "execute_result"
    }
   ],
   "source": [
    "x_train1.shape"
   ]
  },
  {
   "cell_type": "code",
   "execution_count": 54,
   "id": "3165f3dc",
   "metadata": {},
   "outputs": [
    {
     "data": {
      "text/plain": [
       "(63000, 946655)"
      ]
     },
     "execution_count": 54,
     "metadata": {},
     "output_type": "execute_result"
    }
   ],
   "source": [
    "x_test1.shape"
   ]
  },
  {
   "cell_type": "code",
   "execution_count": null,
   "id": "bd1544f0",
   "metadata": {},
   "outputs": [],
   "source": [
    "# implement RandomForest Classifier\n",
    "randomclassifier=RandomForestClassifier(n_estimators=100,criterion='entropy')\n",
    "randomclassifier.fit(x_train1,y_train1)"
   ]
  },
  {
   "cell_type": "code",
   "execution_count": null,
   "id": "871a3f77",
   "metadata": {},
   "outputs": [],
   "source": [
    "y_pred = randomclassifier.predict(x_test1)"
   ]
  },
  {
   "cell_type": "code",
   "execution_count": null,
   "id": "320f6c8a",
   "metadata": {},
   "outputs": [],
   "source": []
  }
 ],
 "metadata": {
  "kernelspec": {
   "display_name": "Python 3 (ipykernel)",
   "language": "python",
   "name": "python3"
  },
  "language_info": {
   "codemirror_mode": {
    "name": "ipython",
    "version": 3
   },
   "file_extension": ".py",
   "mimetype": "text/x-python",
   "name": "python",
   "nbconvert_exporter": "python",
   "pygments_lexer": "ipython3",
   "version": "3.9.7"
  }
 },
 "nbformat": 4,
 "nbformat_minor": 5
}
