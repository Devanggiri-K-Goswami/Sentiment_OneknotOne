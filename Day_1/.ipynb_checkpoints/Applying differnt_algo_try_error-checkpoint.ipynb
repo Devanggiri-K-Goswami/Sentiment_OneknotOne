{
 "cells": [
  {
   "cell_type": "code",
   "execution_count": 1,
   "id": "a34d6abb",
   "metadata": {},
   "outputs": [
    {
     "name": "stdout",
     "output_type": "stream",
     "text": [
      "Requirement already satisfied: emoji in c:\\users\\lenovo\\anaconda3\\lib\\site-packages (2.2.0)\n"
     ]
    },
    {
     "name": "stderr",
     "output_type": "stream",
     "text": [
      "WARNING: Ignoring invalid distribution -pencv-python-headless (c:\\users\\lenovo\\appdata\\roaming\\python\\python39\\site-packages)\n",
      "WARNING: Ignoring invalid distribution -pencv-python-headless (c:\\users\\lenovo\\appdata\\roaming\\python\\python39\\site-packages)\n",
      "WARNING: Ignoring invalid distribution -pencv-python-headless (c:\\users\\lenovo\\appdata\\roaming\\python\\python39\\site-packages)\n",
      "WARNING: Error parsing requirements for pyqt5: [Errno 2] No such file or directory: 'c:\\\\users\\\\lenovo\\\\anaconda3\\\\lib\\\\site-packages\\\\PyQt5-5.15.7.dist-info\\\\METADATA'\n",
      "WARNING: Ignoring invalid distribution -pencv-python-headless (c:\\users\\lenovo\\appdata\\roaming\\python\\python39\\site-packages)\n",
      "WARNING: Ignoring invalid distribution -pencv-python-headless (c:\\users\\lenovo\\appdata\\roaming\\python\\python39\\site-packages)\n",
      "WARNING: Ignoring invalid distribution -pencv-python-headless (c:\\users\\lenovo\\appdata\\roaming\\python\\python39\\site-packages)\n",
      "\n",
      "[notice] A new release of pip available: 22.2.2 -> 23.1.2\n",
      "[notice] To update, run: python.exe -m pip install --upgrade pip\n"
     ]
    }
   ],
   "source": [
    "!pip install emoji"
   ]
  },
  {
   "cell_type": "code",
   "execution_count": 2,
   "id": "bdc476ff",
   "metadata": {},
   "outputs": [],
   "source": [
    "from tracemalloc import stop\n",
    "import numpy as np\n",
    "import pandas as pd\n",
    "import re\n",
    "import seaborn as sns\n",
    "import string\n",
    "import nltk\n",
    "import emoji\n",
    "import string\n",
    "import re\n",
    "from nltk.corpus import stopwords\n",
    "from nltk.tokenize import word_tokenize\n",
    "from nltk.stem.porter import PorterStemmer\n",
    "from sklearn.feature_extraction.text import TfidfVectorizer\n",
    "from sklearn.model_selection import train_test_split\n",
    "from sklearn.linear_model import LogisticRegression\n",
    "from sklearn.tree import DecisionTreeRegressor\n",
    "from sklearn.ensemble import RandomForestClassifier"
   ]
  },
  {
   "cell_type": "code",
   "execution_count": 3,
   "id": "8c91062f",
   "metadata": {},
   "outputs": [],
   "source": [
    "from sklearn.naive_bayes import GaussianNB,MultinomialNB,BernoulliNB\n",
    "from sklearn.metrics import accuracy_score,confusion_matrix,precision_score"
   ]
  },
  {
   "cell_type": "code",
   "execution_count": 4,
   "id": "b946a5ac",
   "metadata": {},
   "outputs": [
    {
     "name": "stderr",
     "output_type": "stream",
     "text": [
      "[nltk_data] Downloading package punkt to\n",
      "[nltk_data]     C:\\Users\\LENOVO\\AppData\\Roaming\\nltk_data...\n",
      "[nltk_data]   Package punkt is already up-to-date!\n",
      "[nltk_data] Downloading package stopwords to\n",
      "[nltk_data]     C:\\Users\\LENOVO\\AppData\\Roaming\\nltk_data...\n",
      "[nltk_data]   Package stopwords is already up-to-date!\n"
     ]
    }
   ],
   "source": [
    "nltk.download('punkt')\n",
    "nltk.download('stopwords')\n",
    "sw=nltk.corpus.stopwords.words(\"english\")"
   ]
  },
  {
   "cell_type": "code",
   "execution_count": 126,
   "id": "1808edd4",
   "metadata": {},
   "outputs": [
    {
     "name": "stderr",
     "output_type": "stream",
     "text": [
      "C:\\Users\\LENOVO\\anaconda3\\lib\\site-packages\\IPython\\core\\interactiveshell.py:3552: FutureWarning: The error_bad_lines argument has been deprecated and will be removed in a future version.\n",
      "\n",
      "\n",
      "  exec(code_obj, self.user_global_ns, self.user_ns)\n"
     ]
    }
   ],
   "source": [
    "# df = pd.read_csv(\"New_Dropped_Uscomments.csv\",error_bad_lines=False)\n",
    "df = pd.read_csv(\"New_DF_Positive_Negative_Netural_dropna.csv\",error_bad_lines=False)\n",
    "# df = pd.read_csv(\"Random_same_sample_ALL_3_Category.csv\",error_bad_lines=False)"
   ]
  },
  {
   "cell_type": "code",
   "execution_count": 127,
   "id": "02d517a0",
   "metadata": {},
   "outputs": [
    {
     "data": {
      "text/html": [
       "<div>\n",
       "<style scoped>\n",
       "    .dataframe tbody tr th:only-of-type {\n",
       "        vertical-align: middle;\n",
       "    }\n",
       "\n",
       "    .dataframe tbody tr th {\n",
       "        vertical-align: top;\n",
       "    }\n",
       "\n",
       "    .dataframe thead th {\n",
       "        text-align: right;\n",
       "    }\n",
       "</style>\n",
       "<table border=\"1\" class=\"dataframe\">\n",
       "  <thead>\n",
       "    <tr style=\"text-align: right;\">\n",
       "      <th></th>\n",
       "      <th>video_id</th>\n",
       "      <th>comment_text</th>\n",
       "      <th>likes</th>\n",
       "      <th>replies</th>\n",
       "      <th>Polarity</th>\n",
       "      <th>Target</th>\n",
       "    </tr>\n",
       "  </thead>\n",
       "  <tbody>\n",
       "    <tr>\n",
       "      <th>0</th>\n",
       "      <td>XpVt6Z1Gjjo</td>\n",
       "      <td>Logan Paul it's yo big day ‼️‼️‼️</td>\n",
       "      <td>4</td>\n",
       "      <td>0</td>\n",
       "      <td>0.0</td>\n",
       "      <td>Neutral</td>\n",
       "    </tr>\n",
       "    <tr>\n",
       "      <th>1</th>\n",
       "      <td>XpVt6Z1Gjjo</td>\n",
       "      <td>I've been following you from the start of your...</td>\n",
       "      <td>3</td>\n",
       "      <td>0</td>\n",
       "      <td>0.0</td>\n",
       "      <td>Neutral</td>\n",
       "    </tr>\n",
       "    <tr>\n",
       "      <th>2</th>\n",
       "      <td>XpVt6Z1Gjjo</td>\n",
       "      <td>Say hi to Kong and maverick for me</td>\n",
       "      <td>3</td>\n",
       "      <td>0</td>\n",
       "      <td>0.0</td>\n",
       "      <td>Neutral</td>\n",
       "    </tr>\n",
       "    <tr>\n",
       "      <th>3</th>\n",
       "      <td>XpVt6Z1Gjjo</td>\n",
       "      <td>MY FAN . attendance</td>\n",
       "      <td>3</td>\n",
       "      <td>0</td>\n",
       "      <td>0.0</td>\n",
       "      <td>Neutral</td>\n",
       "    </tr>\n",
       "    <tr>\n",
       "      <th>4</th>\n",
       "      <td>XpVt6Z1Gjjo</td>\n",
       "      <td>trending 😉</td>\n",
       "      <td>3</td>\n",
       "      <td>0</td>\n",
       "      <td>0.0</td>\n",
       "      <td>Neutral</td>\n",
       "    </tr>\n",
       "  </tbody>\n",
       "</table>\n",
       "</div>"
      ],
      "text/plain": [
       "      video_id                                       comment_text  likes  \\\n",
       "0  XpVt6Z1Gjjo                  Logan Paul it's yo big day ‼️‼️‼️      4   \n",
       "1  XpVt6Z1Gjjo  I've been following you from the start of your...      3   \n",
       "2  XpVt6Z1Gjjo                 Say hi to Kong and maverick for me      3   \n",
       "3  XpVt6Z1Gjjo                                MY FAN . attendance      3   \n",
       "4  XpVt6Z1Gjjo                                         trending 😉      3   \n",
       "\n",
       "   replies  Polarity   Target  \n",
       "0        0       0.0  Neutral  \n",
       "1        0       0.0  Neutral  \n",
       "2        0       0.0  Neutral  \n",
       "3        0       0.0  Neutral  \n",
       "4        0       0.0  Neutral  "
      ]
     },
     "execution_count": 127,
     "metadata": {},
     "output_type": "execute_result"
    }
   ],
   "source": [
    "df.head()\n"
   ]
  },
  {
   "cell_type": "code",
   "execution_count": 129,
   "id": "e5c97433",
   "metadata": {},
   "outputs": [
    {
     "data": {
      "text/plain": [
       "471631"
      ]
     },
     "execution_count": 129,
     "metadata": {},
     "output_type": "execute_result"
    }
   ],
   "source": [
    "len(df)"
   ]
  },
  {
   "cell_type": "code",
   "execution_count": 130,
   "id": "46c765c3",
   "metadata": {},
   "outputs": [
    {
     "data": {
      "text/plain": [
       "Positive    203102\n",
       "Neutral     195920\n",
       "Negative     72609\n",
       "Name: Target, dtype: int64"
      ]
     },
     "execution_count": 130,
     "metadata": {},
     "output_type": "execute_result"
    }
   ],
   "source": [
    "df['Target'].value_counts()"
   ]
  },
  {
   "cell_type": "markdown",
   "id": "a5c3752d",
   "metadata": {},
   "source": [
    "# Trying Only Positive and Negative"
   ]
  },
  {
   "cell_type": "code",
   "execution_count": 131,
   "id": "ac30055f",
   "metadata": {},
   "outputs": [],
   "source": [
    "from textblob import TextBlob"
   ]
  },
  {
   "cell_type": "code",
   "execution_count": 132,
   "id": "d1aa0e29",
   "metadata": {},
   "outputs": [],
   "source": [
    "polarity = []\n",
    "for comment in df['comment_text']:\n",
    "    try:\n",
    "        polarity.append(TextBlob(comment).sentiment.polarity)\n",
    "    except:\n",
    "        polarity.append(0)"
   ]
  },
  {
   "cell_type": "code",
   "execution_count": 133,
   "id": "1326aa1c",
   "metadata": {},
   "outputs": [],
   "source": [
    "x=[]\n",
    "for i in df.Polarity:\n",
    "    if i>0:\n",
    "        x.append('Positive')\n",
    "    elif i<0:\n",
    "        x.append('Negative')\n",
    "    else:\n",
    "        x.append('Neutral')\n",
    "        "
   ]
  },
  {
   "cell_type": "code",
   "execution_count": 134,
   "id": "a3867ae6",
   "metadata": {},
   "outputs": [],
   "source": [
    "df['Target'] = x"
   ]
  },
  {
   "cell_type": "code",
   "execution_count": 135,
   "id": "134469e1",
   "metadata": {},
   "outputs": [
    {
     "data": {
      "text/html": [
       "<div>\n",
       "<style scoped>\n",
       "    .dataframe tbody tr th:only-of-type {\n",
       "        vertical-align: middle;\n",
       "    }\n",
       "\n",
       "    .dataframe tbody tr th {\n",
       "        vertical-align: top;\n",
       "    }\n",
       "\n",
       "    .dataframe thead th {\n",
       "        text-align: right;\n",
       "    }\n",
       "</style>\n",
       "<table border=\"1\" class=\"dataframe\">\n",
       "  <thead>\n",
       "    <tr style=\"text-align: right;\">\n",
       "      <th></th>\n",
       "      <th>video_id</th>\n",
       "      <th>comment_text</th>\n",
       "      <th>likes</th>\n",
       "      <th>replies</th>\n",
       "      <th>Polarity</th>\n",
       "      <th>Target</th>\n",
       "    </tr>\n",
       "  </thead>\n",
       "  <tbody>\n",
       "    <tr>\n",
       "      <th>0</th>\n",
       "      <td>XpVt6Z1Gjjo</td>\n",
       "      <td>Logan Paul it's yo big day ‼️‼️‼️</td>\n",
       "      <td>4</td>\n",
       "      <td>0</td>\n",
       "      <td>0.0</td>\n",
       "      <td>Neutral</td>\n",
       "    </tr>\n",
       "    <tr>\n",
       "      <th>1</th>\n",
       "      <td>XpVt6Z1Gjjo</td>\n",
       "      <td>I've been following you from the start of your...</td>\n",
       "      <td>3</td>\n",
       "      <td>0</td>\n",
       "      <td>0.0</td>\n",
       "      <td>Neutral</td>\n",
       "    </tr>\n",
       "    <tr>\n",
       "      <th>2</th>\n",
       "      <td>XpVt6Z1Gjjo</td>\n",
       "      <td>Say hi to Kong and maverick for me</td>\n",
       "      <td>3</td>\n",
       "      <td>0</td>\n",
       "      <td>0.0</td>\n",
       "      <td>Neutral</td>\n",
       "    </tr>\n",
       "    <tr>\n",
       "      <th>3</th>\n",
       "      <td>XpVt6Z1Gjjo</td>\n",
       "      <td>MY FAN . attendance</td>\n",
       "      <td>3</td>\n",
       "      <td>0</td>\n",
       "      <td>0.0</td>\n",
       "      <td>Neutral</td>\n",
       "    </tr>\n",
       "    <tr>\n",
       "      <th>4</th>\n",
       "      <td>XpVt6Z1Gjjo</td>\n",
       "      <td>trending 😉</td>\n",
       "      <td>3</td>\n",
       "      <td>0</td>\n",
       "      <td>0.0</td>\n",
       "      <td>Neutral</td>\n",
       "    </tr>\n",
       "  </tbody>\n",
       "</table>\n",
       "</div>"
      ],
      "text/plain": [
       "      video_id                                       comment_text  likes  \\\n",
       "0  XpVt6Z1Gjjo                  Logan Paul it's yo big day ‼️‼️‼️      4   \n",
       "1  XpVt6Z1Gjjo  I've been following you from the start of your...      3   \n",
       "2  XpVt6Z1Gjjo                 Say hi to Kong and maverick for me      3   \n",
       "3  XpVt6Z1Gjjo                                MY FAN . attendance      3   \n",
       "4  XpVt6Z1Gjjo                                         trending 😉      3   \n",
       "\n",
       "   replies  Polarity   Target  \n",
       "0        0       0.0  Neutral  \n",
       "1        0       0.0  Neutral  \n",
       "2        0       0.0  Neutral  \n",
       "3        0       0.0  Neutral  \n",
       "4        0       0.0  Neutral  "
      ]
     },
     "execution_count": 135,
     "metadata": {},
     "output_type": "execute_result"
    }
   ],
   "source": [
    "df.head()"
   ]
  },
  {
   "cell_type": "code",
   "execution_count": null,
   "id": "e0a076c0",
   "metadata": {},
   "outputs": [],
   "source": []
  },
  {
   "cell_type": "code",
   "execution_count": 43,
   "id": "295f8fca",
   "metadata": {},
   "outputs": [
    {
     "data": {
      "text/plain": [
       "Positive    203102\n",
       "Neutral     195920\n",
       "Negative     72609\n",
       "Name: Target, dtype: int64"
      ]
     },
     "execution_count": 43,
     "metadata": {},
     "output_type": "execute_result"
    }
   ],
   "source": [
    "df['Target'].value_counts()"
   ]
  },
  {
   "cell_type": "code",
   "execution_count": 54,
   "id": "6f8175e2",
   "metadata": {},
   "outputs": [],
   "source": [
    "tmp_positive = df[df['Target']=='Positive'].sample(70000)\n",
    "tmp_negative = df[df['Target']=='Negative'].sample(70000)\n",
    "tmp_netural = df[df['Target']=='Neutral'].sample(70000)"
   ]
  },
  {
   "cell_type": "code",
   "execution_count": 55,
   "id": "23b9a1d3",
   "metadata": {},
   "outputs": [],
   "source": [
    "df1 = pd.concat([tmp_positive,tmp_negative,tmp_netural],ignore_index=True)"
   ]
  },
  {
   "cell_type": "code",
   "execution_count": 136,
   "id": "140907fc",
   "metadata": {},
   "outputs": [
    {
     "data": {
      "text/html": [
       "<div>\n",
       "<style scoped>\n",
       "    .dataframe tbody tr th:only-of-type {\n",
       "        vertical-align: middle;\n",
       "    }\n",
       "\n",
       "    .dataframe tbody tr th {\n",
       "        vertical-align: top;\n",
       "    }\n",
       "\n",
       "    .dataframe thead th {\n",
       "        text-align: right;\n",
       "    }\n",
       "</style>\n",
       "<table border=\"1\" class=\"dataframe\">\n",
       "  <thead>\n",
       "    <tr style=\"text-align: right;\">\n",
       "      <th></th>\n",
       "      <th>comment_text</th>\n",
       "      <th>Polarity</th>\n",
       "      <th>Target</th>\n",
       "      <th>New_Target</th>\n",
       "      <th>Target_in_no</th>\n",
       "      <th>Tokenize_word</th>\n",
       "    </tr>\n",
       "  </thead>\n",
       "  <tbody>\n",
       "    <tr>\n",
       "      <th>0</th>\n",
       "      <td>love him so much.</td>\n",
       "      <td>0.350000</td>\n",
       "      <td>Positive</td>\n",
       "      <td>0.350000</td>\n",
       "      <td>1</td>\n",
       "      <td>[love, him, so, much]</td>\n",
       "    </tr>\n",
       "    <tr>\n",
       "      <th>1</th>\n",
       "      <td>*Every Racist Has A Black Friend*  The #1 Musi...</td>\n",
       "      <td>0.059524</td>\n",
       "      <td>Positive</td>\n",
       "      <td>0.059524</td>\n",
       "      <td>1</td>\n",
       "      <td>[Every, Racist, Has, A, Black, Friend, The, 1,...</td>\n",
       "    </tr>\n",
       "    <tr>\n",
       "      <th>2</th>\n",
       "      <td>In love with the French side 😝</td>\n",
       "      <td>0.250000</td>\n",
       "      <td>Positive</td>\n",
       "      <td>0.250000</td>\n",
       "      <td>1</td>\n",
       "      <td>[In, love, with, the, French, side, 😝]</td>\n",
       "    </tr>\n",
       "    <tr>\n",
       "      <th>3</th>\n",
       "      <td>Best thing ever seen yet. 1:00 wants to play w...</td>\n",
       "      <td>0.600000</td>\n",
       "      <td>Positive</td>\n",
       "      <td>0.600000</td>\n",
       "      <td>1</td>\n",
       "      <td>[Best, thing, ever, seen, yet, 1:00, wants, to...</td>\n",
       "    </tr>\n",
       "    <tr>\n",
       "      <th>4</th>\n",
       "      <td>Wow, I was just thinking, why not him.</td>\n",
       "      <td>0.100000</td>\n",
       "      <td>Positive</td>\n",
       "      <td>0.100000</td>\n",
       "      <td>1</td>\n",
       "      <td>[Wow, I, was, just, thinking, why, not, him]</td>\n",
       "    </tr>\n",
       "  </tbody>\n",
       "</table>\n",
       "</div>"
      ],
      "text/plain": [
       "                                        comment_text  Polarity    Target  \\\n",
       "0                                  love him so much.  0.350000  Positive   \n",
       "1  *Every Racist Has A Black Friend*  The #1 Musi...  0.059524  Positive   \n",
       "2                     In love with the French side 😝  0.250000  Positive   \n",
       "3  Best thing ever seen yet. 1:00 wants to play w...  0.600000  Positive   \n",
       "4             Wow, I was just thinking, why not him.  0.100000  Positive   \n",
       "\n",
       "   New_Target  Target_in_no                                      Tokenize_word  \n",
       "0    0.350000             1                              [love, him, so, much]  \n",
       "1    0.059524             1  [Every, Racist, Has, A, Black, Friend, The, 1,...  \n",
       "2    0.250000             1             [In, love, with, the, French, side, 😝]  \n",
       "3    0.600000             1  [Best, thing, ever, seen, yet, 1:00, wants, to...  \n",
       "4    0.100000             1       [Wow, I, was, just, thinking, why, not, him]  "
      ]
     },
     "execution_count": 136,
     "metadata": {},
     "output_type": "execute_result"
    }
   ],
   "source": [
    "df1.head()"
   ]
  },
  {
   "cell_type": "code",
   "execution_count": 137,
   "id": "e922d480",
   "metadata": {},
   "outputs": [
    {
     "data": {
      "text/plain": [
       "Positive    70000\n",
       "Negative    70000\n",
       "Neutral     70000\n",
       "Name: Target, dtype: int64"
      ]
     },
     "execution_count": 137,
     "metadata": {},
     "output_type": "execute_result"
    }
   ],
   "source": [
    "df1['Target'].value_counts()"
   ]
  },
  {
   "cell_type": "code",
   "execution_count": 58,
   "id": "e8f9b0bb",
   "metadata": {},
   "outputs": [],
   "source": [
    "import nltk\n",
    "from nltk.tokenize import sent_tokenize, word_tokenize\n",
    "from nltk.corpus import stopwords\n",
    "from nltk.stem.porter import *\n",
    "from nltk.stem import PorterStemmer\n",
    "from sklearn.feature_extraction.text import TfidfVectorizer\n",
    "from sklearn.feature_extraction.text import CountVectorizer"
   ]
  },
  {
   "cell_type": "code",
   "execution_count": 59,
   "id": "f16293db",
   "metadata": {},
   "outputs": [],
   "source": [
    "sw = stopwords.words('english')\n",
    "ps = PorterStemmer()\n",
    "lemmatizer = nltk.stem.WordNetLemmatizer()"
   ]
  },
  {
   "cell_type": "code",
   "execution_count": null,
   "id": "cf8798b7",
   "metadata": {},
   "outputs": [],
   "source": [
    "# df['tokenize'] = df['comment_text'].apply()"
   ]
  },
  {
   "cell_type": "code",
   "execution_count": 87,
   "id": "f229a735",
   "metadata": {},
   "outputs": [
    {
     "data": {
      "text/plain": [
       "'Best thing ever seen yet. 1:00 wants to play with the toy too. No  cat goes ohh...'"
      ]
     },
     "execution_count": 87,
     "metadata": {},
     "output_type": "execute_result"
    }
   ],
   "source": [
    "df1['comment_text'][3]"
   ]
  },
  {
   "cell_type": "code",
   "execution_count": 88,
   "id": "d76ab7ef",
   "metadata": {},
   "outputs": [],
   "source": [
    "# str=\"Best thing ever seen yet. 1:00 wants to play with the toy too. No  cat goes ohh...\""
   ]
  },
  {
   "cell_type": "code",
   "execution_count": 89,
   "id": "74cce6b5",
   "metadata": {},
   "outputs": [],
   "source": [
    "tb = TextBlob(str)\n"
   ]
  },
  {
   "cell_type": "code",
   "execution_count": 90,
   "id": "ae2c48db",
   "metadata": {},
   "outputs": [
    {
     "data": {
      "text/plain": [
       "0.6"
      ]
     },
     "execution_count": 90,
     "metadata": {},
     "output_type": "execute_result"
    }
   ],
   "source": [
    "tb.polarity"
   ]
  },
  {
   "cell_type": "code",
   "execution_count": 67,
   "id": "dc48fb36",
   "metadata": {},
   "outputs": [],
   "source": [
    "lst = tb.words"
   ]
  },
  {
   "cell_type": "code",
   "execution_count": 69,
   "id": "6d9d3575",
   "metadata": {},
   "outputs": [
    {
     "data": {
      "text/plain": [
       "WordList(['In', 'love', 'with', 'the', 'French', 'side', '😝'])"
      ]
     },
     "execution_count": 69,
     "metadata": {},
     "output_type": "execute_result"
    }
   ],
   "source": [
    "lst"
   ]
  },
  {
   "cell_type": "code",
   "execution_count": 76,
   "id": "2859c8a4",
   "metadata": {},
   "outputs": [
    {
     "name": "stdout",
     "output_type": "stream",
     "text": [
      "In\n",
      "0.0\n",
      "love\n",
      "0.5\n",
      "with\n",
      "0.5\n",
      "the\n",
      "0.5\n",
      "French\n",
      "0.5\n",
      "side\n",
      "0.5\n",
      "😝\n",
      "0.5\n"
     ]
    },
    {
     "data": {
      "text/plain": [
       "0.5"
      ]
     },
     "execution_count": 76,
     "metadata": {},
     "output_type": "execute_result"
    }
   ],
   "source": [
    "ans=0\n",
    "for i in lst:\n",
    "    print(i)\n",
    "    new_tb = TextBlob(i)\n",
    "    ans += new_tb.polarity\n",
    "    print(ans)\n",
    "#     print(new_tb.polarity)\n",
    "ans"
   ]
  },
  {
   "cell_type": "code",
   "execution_count": 91,
   "id": "eb05cfb6",
   "metadata": {},
   "outputs": [
    {
     "data": {
      "text/html": [
       "<div>\n",
       "<style scoped>\n",
       "    .dataframe tbody tr th:only-of-type {\n",
       "        vertical-align: middle;\n",
       "    }\n",
       "\n",
       "    .dataframe tbody tr th {\n",
       "        vertical-align: top;\n",
       "    }\n",
       "\n",
       "    .dataframe thead th {\n",
       "        text-align: right;\n",
       "    }\n",
       "</style>\n",
       "<table border=\"1\" class=\"dataframe\">\n",
       "  <thead>\n",
       "    <tr style=\"text-align: right;\">\n",
       "      <th></th>\n",
       "      <th>video_id</th>\n",
       "      <th>comment_text</th>\n",
       "      <th>likes</th>\n",
       "      <th>replies</th>\n",
       "      <th>Polarity</th>\n",
       "      <th>Target</th>\n",
       "    </tr>\n",
       "  </thead>\n",
       "  <tbody>\n",
       "    <tr>\n",
       "      <th>0</th>\n",
       "      <td>iKzRIweSBLA</td>\n",
       "      <td>love him so much.</td>\n",
       "      <td>0</td>\n",
       "      <td>0</td>\n",
       "      <td>0.350000</td>\n",
       "      <td>Positive</td>\n",
       "    </tr>\n",
       "    <tr>\n",
       "      <th>1</th>\n",
       "      <td>xU5-_EGfcHw</td>\n",
       "      <td>*Every Racist Has A Black Friend*  The #1 Musi...</td>\n",
       "      <td>0</td>\n",
       "      <td>0</td>\n",
       "      <td>0.059524</td>\n",
       "      <td>Positive</td>\n",
       "    </tr>\n",
       "    <tr>\n",
       "      <th>2</th>\n",
       "      <td>Z9svINZiBdU</td>\n",
       "      <td>In love with the French side 😝</td>\n",
       "      <td>0</td>\n",
       "      <td>0</td>\n",
       "      <td>0.250000</td>\n",
       "      <td>Positive</td>\n",
       "    </tr>\n",
       "    <tr>\n",
       "      <th>3</th>\n",
       "      <td>ruTB5jBGXsE</td>\n",
       "      <td>Best thing ever seen yet. 1:00 wants to play w...</td>\n",
       "      <td>0</td>\n",
       "      <td>0</td>\n",
       "      <td>0.600000</td>\n",
       "      <td>Positive</td>\n",
       "    </tr>\n",
       "    <tr>\n",
       "      <th>4</th>\n",
       "      <td>fwDZ8uhqJg0</td>\n",
       "      <td>Wow, I was just thinking, why not him.</td>\n",
       "      <td>0</td>\n",
       "      <td>0</td>\n",
       "      <td>0.100000</td>\n",
       "      <td>Positive</td>\n",
       "    </tr>\n",
       "  </tbody>\n",
       "</table>\n",
       "</div>"
      ],
      "text/plain": [
       "      video_id                                       comment_text  likes  \\\n",
       "0  iKzRIweSBLA                                  love him so much.      0   \n",
       "1  xU5-_EGfcHw  *Every Racist Has A Black Friend*  The #1 Musi...      0   \n",
       "2  Z9svINZiBdU                     In love with the French side 😝      0   \n",
       "3  ruTB5jBGXsE  Best thing ever seen yet. 1:00 wants to play w...      0   \n",
       "4  fwDZ8uhqJg0             Wow, I was just thinking, why not him.      0   \n",
       "\n",
       "   replies  Polarity    Target  \n",
       "0        0  0.350000  Positive  \n",
       "1        0  0.059524  Positive  \n",
       "2        0  0.250000  Positive  \n",
       "3        0  0.600000  Positive  \n",
       "4        0  0.100000  Positive  "
      ]
     },
     "execution_count": 91,
     "metadata": {},
     "output_type": "execute_result"
    }
   ],
   "source": [
    "df1.head()"
   ]
  },
  {
   "cell_type": "code",
   "execution_count": 108,
   "id": "464c5466",
   "metadata": {},
   "outputs": [],
   "source": [
    "str=\"Best thing ever seen yet. 1:00 wants to play with the toy too. No  cat goes ohh...\"\n",
    "def tokenize(str):\n",
    "    tb = TextBlob(str).words\n",
    "    \n",
    "    return list(tb)\n",
    "    \n",
    "#     print(tb)\n",
    "#     print(type(tb))"
   ]
  },
  {
   "cell_type": "code",
   "execution_count": 109,
   "id": "2571ae09",
   "metadata": {},
   "outputs": [
    {
     "data": {
      "text/plain": [
       "['Best',\n",
       " 'thing',\n",
       " 'ever',\n",
       " 'seen',\n",
       " 'yet',\n",
       " '1:00',\n",
       " 'wants',\n",
       " 'to',\n",
       " 'play',\n",
       " 'with',\n",
       " 'the',\n",
       " 'toy',\n",
       " 'too',\n",
       " 'No',\n",
       " 'cat',\n",
       " 'goes',\n",
       " 'ohh']"
      ]
     },
     "execution_count": 109,
     "metadata": {},
     "output_type": "execute_result"
    }
   ],
   "source": [
    "tokenize(str)"
   ]
  },
  {
   "cell_type": "code",
   "execution_count": 97,
   "id": "89f7e75a",
   "metadata": {},
   "outputs": [],
   "source": [
    "from sklearn.feature_extraction.text import CountVectorizer"
   ]
  },
  {
   "cell_type": "code",
   "execution_count": 98,
   "id": "93b0c944",
   "metadata": {},
   "outputs": [],
   "source": [
    "vectorizer = CountVectorizer()"
   ]
  },
  {
   "cell_type": "code",
   "execution_count": 99,
   "id": "21328504",
   "metadata": {},
   "outputs": [],
   "source": [
    "X = vectorizer.fit_transform(tb).toarray()"
   ]
  },
  {
   "cell_type": "code",
   "execution_count": 105,
   "id": "78560a6f",
   "metadata": {},
   "outputs": [
    {
     "name": "stdout",
     "output_type": "stream",
     "text": [
      "[[0 1 0 0 0 0 0 0 0 0 0 0 0 0 0 0 0]\n",
      " [0 0 0 0 0 0 0 0 0 0 1 0 0 0 0 0 0]\n",
      " [0 0 0 1 0 0 0 0 0 0 0 0 0 0 0 0 0]\n",
      " [0 0 0 0 0 0 0 0 1 0 0 0 0 0 0 0 0]\n",
      " [0 0 0 0 0 0 0 0 0 0 0 0 0 0 0 0 1]\n",
      " [1 0 0 0 0 0 0 0 0 0 0 0 0 0 0 0 0]\n",
      " [0 0 0 0 0 0 0 0 0 0 0 0 0 0 1 0 0]\n",
      " [0 0 0 0 0 0 0 0 0 0 0 1 0 0 0 0 0]\n",
      " [0 0 0 0 0 0 0 1 0 0 0 0 0 0 0 0 0]\n",
      " [0 0 0 0 0 0 0 0 0 0 0 0 0 0 0 1 0]\n",
      " [0 0 0 0 0 0 0 0 0 1 0 0 0 0 0 0 0]\n",
      " [0 0 0 0 0 0 0 0 0 0 0 0 0 1 0 0 0]\n",
      " [0 0 0 0 0 0 0 0 0 0 0 0 1 0 0 0 0]\n",
      " [0 0 0 0 0 1 0 0 0 0 0 0 0 0 0 0 0]\n",
      " [0 0 1 0 0 0 0 0 0 0 0 0 0 0 0 0 0]\n",
      " [0 0 0 0 1 0 0 0 0 0 0 0 0 0 0 0 0]\n",
      " [0 0 0 0 0 0 1 0 0 0 0 0 0 0 0 0 0]]\n"
     ]
    },
    {
     "ename": "ValueError",
     "evalue": "cannot reshape array of size 289 into shape (1,2)",
     "output_type": "error",
     "traceback": [
      "\u001b[1;31m---------------------------------------------------------------------------\u001b[0m",
      "\u001b[1;31mValueError\u001b[0m                                Traceback (most recent call last)",
      "\u001b[1;32m~\\AppData\\Local\\Temp\\ipykernel_10948\\600388982.py\u001b[0m in \u001b[0;36m<cell line: 2>\u001b[1;34m()\u001b[0m\n\u001b[0;32m      1\u001b[0m \u001b[0mprint\u001b[0m\u001b[1;33m(\u001b[0m\u001b[0mX\u001b[0m\u001b[1;33m)\u001b[0m\u001b[1;33m\u001b[0m\u001b[1;33m\u001b[0m\u001b[0m\n\u001b[1;32m----> 2\u001b[1;33m \u001b[0mX\u001b[0m\u001b[1;33m.\u001b[0m\u001b[0mreshape\u001b[0m\u001b[1;33m(\u001b[0m\u001b[1;36m1\u001b[0m\u001b[1;33m,\u001b[0m\u001b[0mlen\u001b[0m\u001b[1;33m(\u001b[0m\u001b[0mX\u001b[0m\u001b[1;33m.\u001b[0m\u001b[0mshape\u001b[0m\u001b[1;33m)\u001b[0m\u001b[1;33m)\u001b[0m\u001b[1;33m.\u001b[0m\u001b[0mshape\u001b[0m\u001b[1;33m\u001b[0m\u001b[1;33m\u001b[0m\u001b[0m\n\u001b[0m",
      "\u001b[1;31mValueError\u001b[0m: cannot reshape array of size 289 into shape (1,2)"
     ]
    }
   ],
   "source": [
    "print(X)\n",
    "X.reshape(1,len(X.shape)).shape"
   ]
  },
  {
   "cell_type": "code",
   "execution_count": 110,
   "id": "fb119066",
   "metadata": {},
   "outputs": [],
   "source": [
    "def polarity(str):\n",
    "    tb = TextBlob(str)\n",
    "    return tb.polarity"
   ]
  },
  {
   "cell_type": "code",
   "execution_count": 111,
   "id": "119fa848",
   "metadata": {},
   "outputs": [],
   "source": [
    "df1['New_Target'] = df1['comment_text'].apply(polarity)"
   ]
  },
  {
   "cell_type": "code",
   "execution_count": 115,
   "id": "9e316088",
   "metadata": {},
   "outputs": [],
   "source": [
    "def lable_target_no(no):\n",
    "    if no>0:\n",
    "        return 1\n",
    "    elif no<0:\n",
    "        return -1\n",
    "    else:\n",
    "        return 0"
   ]
  },
  {
   "cell_type": "code",
   "execution_count": 112,
   "id": "2186167f",
   "metadata": {},
   "outputs": [
    {
     "data": {
      "text/html": [
       "<div>\n",
       "<style scoped>\n",
       "    .dataframe tbody tr th:only-of-type {\n",
       "        vertical-align: middle;\n",
       "    }\n",
       "\n",
       "    .dataframe tbody tr th {\n",
       "        vertical-align: top;\n",
       "    }\n",
       "\n",
       "    .dataframe thead th {\n",
       "        text-align: right;\n",
       "    }\n",
       "</style>\n",
       "<table border=\"1\" class=\"dataframe\">\n",
       "  <thead>\n",
       "    <tr style=\"text-align: right;\">\n",
       "      <th></th>\n",
       "      <th>video_id</th>\n",
       "      <th>comment_text</th>\n",
       "      <th>likes</th>\n",
       "      <th>replies</th>\n",
       "      <th>Polarity</th>\n",
       "      <th>Target</th>\n",
       "      <th>New_Target</th>\n",
       "    </tr>\n",
       "  </thead>\n",
       "  <tbody>\n",
       "    <tr>\n",
       "      <th>0</th>\n",
       "      <td>iKzRIweSBLA</td>\n",
       "      <td>love him so much.</td>\n",
       "      <td>0</td>\n",
       "      <td>0</td>\n",
       "      <td>0.350000</td>\n",
       "      <td>Positive</td>\n",
       "      <td>0.350000</td>\n",
       "    </tr>\n",
       "    <tr>\n",
       "      <th>1</th>\n",
       "      <td>xU5-_EGfcHw</td>\n",
       "      <td>*Every Racist Has A Black Friend*  The #1 Musi...</td>\n",
       "      <td>0</td>\n",
       "      <td>0</td>\n",
       "      <td>0.059524</td>\n",
       "      <td>Positive</td>\n",
       "      <td>0.059524</td>\n",
       "    </tr>\n",
       "    <tr>\n",
       "      <th>2</th>\n",
       "      <td>Z9svINZiBdU</td>\n",
       "      <td>In love with the French side 😝</td>\n",
       "      <td>0</td>\n",
       "      <td>0</td>\n",
       "      <td>0.250000</td>\n",
       "      <td>Positive</td>\n",
       "      <td>0.250000</td>\n",
       "    </tr>\n",
       "    <tr>\n",
       "      <th>3</th>\n",
       "      <td>ruTB5jBGXsE</td>\n",
       "      <td>Best thing ever seen yet. 1:00 wants to play w...</td>\n",
       "      <td>0</td>\n",
       "      <td>0</td>\n",
       "      <td>0.600000</td>\n",
       "      <td>Positive</td>\n",
       "      <td>0.600000</td>\n",
       "    </tr>\n",
       "    <tr>\n",
       "      <th>4</th>\n",
       "      <td>fwDZ8uhqJg0</td>\n",
       "      <td>Wow, I was just thinking, why not him.</td>\n",
       "      <td>0</td>\n",
       "      <td>0</td>\n",
       "      <td>0.100000</td>\n",
       "      <td>Positive</td>\n",
       "      <td>0.100000</td>\n",
       "    </tr>\n",
       "  </tbody>\n",
       "</table>\n",
       "</div>"
      ],
      "text/plain": [
       "      video_id                                       comment_text  likes  \\\n",
       "0  iKzRIweSBLA                                  love him so much.      0   \n",
       "1  xU5-_EGfcHw  *Every Racist Has A Black Friend*  The #1 Musi...      0   \n",
       "2  Z9svINZiBdU                     In love with the French side 😝      0   \n",
       "3  ruTB5jBGXsE  Best thing ever seen yet. 1:00 wants to play w...      0   \n",
       "4  fwDZ8uhqJg0             Wow, I was just thinking, why not him.      0   \n",
       "\n",
       "   replies  Polarity    Target  New_Target  \n",
       "0        0  0.350000  Positive    0.350000  \n",
       "1        0  0.059524  Positive    0.059524  \n",
       "2        0  0.250000  Positive    0.250000  \n",
       "3        0  0.600000  Positive    0.600000  \n",
       "4        0  0.100000  Positive    0.100000  "
      ]
     },
     "execution_count": 112,
     "metadata": {},
     "output_type": "execute_result"
    }
   ],
   "source": [
    "df1.head()"
   ]
  },
  {
   "cell_type": "code",
   "execution_count": 117,
   "id": "c9971376",
   "metadata": {},
   "outputs": [],
   "source": [
    "df1['Target_in_no'] = df1['New_Target'].apply(lable_target_no)"
   ]
  },
  {
   "cell_type": "code",
   "execution_count": 119,
   "id": "5ee78e66",
   "metadata": {},
   "outputs": [
    {
     "data": {
      "text/plain": [
       " 1    70000\n",
       "-1    70000\n",
       " 0    70000\n",
       "Name: Target_in_no, dtype: int64"
      ]
     },
     "execution_count": 119,
     "metadata": {},
     "output_type": "execute_result"
    }
   ],
   "source": [
    "df1['Target_in_no'].value_counts()"
   ]
  },
  {
   "cell_type": "code",
   "execution_count": 122,
   "id": "1bc71f12",
   "metadata": {},
   "outputs": [],
   "source": [
    "df1 = df1.drop(['video_id'],axis=1)"
   ]
  },
  {
   "cell_type": "code",
   "execution_count": 123,
   "id": "f607b4c3",
   "metadata": {},
   "outputs": [
    {
     "data": {
      "text/html": [
       "<div>\n",
       "<style scoped>\n",
       "    .dataframe tbody tr th:only-of-type {\n",
       "        vertical-align: middle;\n",
       "    }\n",
       "\n",
       "    .dataframe tbody tr th {\n",
       "        vertical-align: top;\n",
       "    }\n",
       "\n",
       "    .dataframe thead th {\n",
       "        text-align: right;\n",
       "    }\n",
       "</style>\n",
       "<table border=\"1\" class=\"dataframe\">\n",
       "  <thead>\n",
       "    <tr style=\"text-align: right;\">\n",
       "      <th></th>\n",
       "      <th>comment_text</th>\n",
       "      <th>Polarity</th>\n",
       "      <th>Target</th>\n",
       "      <th>New_Target</th>\n",
       "      <th>Target_in_no</th>\n",
       "    </tr>\n",
       "  </thead>\n",
       "  <tbody>\n",
       "    <tr>\n",
       "      <th>0</th>\n",
       "      <td>love him so much.</td>\n",
       "      <td>0.350000</td>\n",
       "      <td>Positive</td>\n",
       "      <td>0.350000</td>\n",
       "      <td>1</td>\n",
       "    </tr>\n",
       "    <tr>\n",
       "      <th>1</th>\n",
       "      <td>*Every Racist Has A Black Friend*  The #1 Musi...</td>\n",
       "      <td>0.059524</td>\n",
       "      <td>Positive</td>\n",
       "      <td>0.059524</td>\n",
       "      <td>1</td>\n",
       "    </tr>\n",
       "    <tr>\n",
       "      <th>2</th>\n",
       "      <td>In love with the French side 😝</td>\n",
       "      <td>0.250000</td>\n",
       "      <td>Positive</td>\n",
       "      <td>0.250000</td>\n",
       "      <td>1</td>\n",
       "    </tr>\n",
       "    <tr>\n",
       "      <th>3</th>\n",
       "      <td>Best thing ever seen yet. 1:00 wants to play w...</td>\n",
       "      <td>0.600000</td>\n",
       "      <td>Positive</td>\n",
       "      <td>0.600000</td>\n",
       "      <td>1</td>\n",
       "    </tr>\n",
       "    <tr>\n",
       "      <th>4</th>\n",
       "      <td>Wow, I was just thinking, why not him.</td>\n",
       "      <td>0.100000</td>\n",
       "      <td>Positive</td>\n",
       "      <td>0.100000</td>\n",
       "      <td>1</td>\n",
       "    </tr>\n",
       "  </tbody>\n",
       "</table>\n",
       "</div>"
      ],
      "text/plain": [
       "                                        comment_text  Polarity    Target  \\\n",
       "0                                  love him so much.  0.350000  Positive   \n",
       "1  *Every Racist Has A Black Friend*  The #1 Musi...  0.059524  Positive   \n",
       "2                     In love with the French side 😝  0.250000  Positive   \n",
       "3  Best thing ever seen yet. 1:00 wants to play w...  0.600000  Positive   \n",
       "4             Wow, I was just thinking, why not him.  0.100000  Positive   \n",
       "\n",
       "   New_Target  Target_in_no  \n",
       "0    0.350000             1  \n",
       "1    0.059524             1  \n",
       "2    0.250000             1  \n",
       "3    0.600000             1  \n",
       "4    0.100000             1  "
      ]
     },
     "execution_count": 123,
     "metadata": {},
     "output_type": "execute_result"
    }
   ],
   "source": [
    "df1.head()"
   ]
  },
  {
   "cell_type": "code",
   "execution_count": 124,
   "id": "b8c65096",
   "metadata": {},
   "outputs": [],
   "source": [
    "df1['Tokenize_word'] = df1['comment_text'].apply(tokenize)"
   ]
  },
  {
   "cell_type": "code",
   "execution_count": 125,
   "id": "fab366a2",
   "metadata": {},
   "outputs": [
    {
     "data": {
      "text/html": [
       "<div>\n",
       "<style scoped>\n",
       "    .dataframe tbody tr th:only-of-type {\n",
       "        vertical-align: middle;\n",
       "    }\n",
       "\n",
       "    .dataframe tbody tr th {\n",
       "        vertical-align: top;\n",
       "    }\n",
       "\n",
       "    .dataframe thead th {\n",
       "        text-align: right;\n",
       "    }\n",
       "</style>\n",
       "<table border=\"1\" class=\"dataframe\">\n",
       "  <thead>\n",
       "    <tr style=\"text-align: right;\">\n",
       "      <th></th>\n",
       "      <th>comment_text</th>\n",
       "      <th>Polarity</th>\n",
       "      <th>Target</th>\n",
       "      <th>New_Target</th>\n",
       "      <th>Target_in_no</th>\n",
       "      <th>Tokenize_word</th>\n",
       "    </tr>\n",
       "  </thead>\n",
       "  <tbody>\n",
       "    <tr>\n",
       "      <th>0</th>\n",
       "      <td>love him so much.</td>\n",
       "      <td>0.350000</td>\n",
       "      <td>Positive</td>\n",
       "      <td>0.350000</td>\n",
       "      <td>1</td>\n",
       "      <td>[love, him, so, much]</td>\n",
       "    </tr>\n",
       "    <tr>\n",
       "      <th>1</th>\n",
       "      <td>*Every Racist Has A Black Friend*  The #1 Musi...</td>\n",
       "      <td>0.059524</td>\n",
       "      <td>Positive</td>\n",
       "      <td>0.059524</td>\n",
       "      <td>1</td>\n",
       "      <td>[Every, Racist, Has, A, Black, Friend, The, 1,...</td>\n",
       "    </tr>\n",
       "    <tr>\n",
       "      <th>2</th>\n",
       "      <td>In love with the French side 😝</td>\n",
       "      <td>0.250000</td>\n",
       "      <td>Positive</td>\n",
       "      <td>0.250000</td>\n",
       "      <td>1</td>\n",
       "      <td>[In, love, with, the, French, side, 😝]</td>\n",
       "    </tr>\n",
       "    <tr>\n",
       "      <th>3</th>\n",
       "      <td>Best thing ever seen yet. 1:00 wants to play w...</td>\n",
       "      <td>0.600000</td>\n",
       "      <td>Positive</td>\n",
       "      <td>0.600000</td>\n",
       "      <td>1</td>\n",
       "      <td>[Best, thing, ever, seen, yet, 1:00, wants, to...</td>\n",
       "    </tr>\n",
       "    <tr>\n",
       "      <th>4</th>\n",
       "      <td>Wow, I was just thinking, why not him.</td>\n",
       "      <td>0.100000</td>\n",
       "      <td>Positive</td>\n",
       "      <td>0.100000</td>\n",
       "      <td>1</td>\n",
       "      <td>[Wow, I, was, just, thinking, why, not, him]</td>\n",
       "    </tr>\n",
       "  </tbody>\n",
       "</table>\n",
       "</div>"
      ],
      "text/plain": [
       "                                        comment_text  Polarity    Target  \\\n",
       "0                                  love him so much.  0.350000  Positive   \n",
       "1  *Every Racist Has A Black Friend*  The #1 Musi...  0.059524  Positive   \n",
       "2                     In love with the French side 😝  0.250000  Positive   \n",
       "3  Best thing ever seen yet. 1:00 wants to play w...  0.600000  Positive   \n",
       "4             Wow, I was just thinking, why not him.  0.100000  Positive   \n",
       "\n",
       "   New_Target  Target_in_no                                      Tokenize_word  \n",
       "0    0.350000             1                              [love, him, so, much]  \n",
       "1    0.059524             1  [Every, Racist, Has, A, Black, Friend, The, 1,...  \n",
       "2    0.250000             1             [In, love, with, the, French, side, 😝]  \n",
       "3    0.600000             1  [Best, thing, ever, seen, yet, 1:00, wants, to...  \n",
       "4    0.100000             1       [Wow, I, was, just, thinking, why, not, him]  "
      ]
     },
     "execution_count": 125,
     "metadata": {},
     "output_type": "execute_result"
    }
   ],
   "source": [
    "df1.head()"
   ]
  },
  {
   "cell_type": "code",
   "execution_count": 139,
   "id": "904eea5a",
   "metadata": {},
   "outputs": [],
   "source": [
    "df1 = df1.drop(['Tokenize_word'],axis=1)"
   ]
  },
  {
   "cell_type": "code",
   "execution_count": 140,
   "id": "9f89be2e",
   "metadata": {},
   "outputs": [
    {
     "data": {
      "text/html": [
       "<div>\n",
       "<style scoped>\n",
       "    .dataframe tbody tr th:only-of-type {\n",
       "        vertical-align: middle;\n",
       "    }\n",
       "\n",
       "    .dataframe tbody tr th {\n",
       "        vertical-align: top;\n",
       "    }\n",
       "\n",
       "    .dataframe thead th {\n",
       "        text-align: right;\n",
       "    }\n",
       "</style>\n",
       "<table border=\"1\" class=\"dataframe\">\n",
       "  <thead>\n",
       "    <tr style=\"text-align: right;\">\n",
       "      <th></th>\n",
       "      <th>comment_text</th>\n",
       "      <th>Polarity</th>\n",
       "      <th>Target</th>\n",
       "      <th>New_Target</th>\n",
       "      <th>Target_in_no</th>\n",
       "    </tr>\n",
       "  </thead>\n",
       "  <tbody>\n",
       "    <tr>\n",
       "      <th>0</th>\n",
       "      <td>love him so much.</td>\n",
       "      <td>0.350000</td>\n",
       "      <td>Positive</td>\n",
       "      <td>0.350000</td>\n",
       "      <td>1</td>\n",
       "    </tr>\n",
       "    <tr>\n",
       "      <th>1</th>\n",
       "      <td>*Every Racist Has A Black Friend*  The #1 Musi...</td>\n",
       "      <td>0.059524</td>\n",
       "      <td>Positive</td>\n",
       "      <td>0.059524</td>\n",
       "      <td>1</td>\n",
       "    </tr>\n",
       "    <tr>\n",
       "      <th>2</th>\n",
       "      <td>In love with the French side 😝</td>\n",
       "      <td>0.250000</td>\n",
       "      <td>Positive</td>\n",
       "      <td>0.250000</td>\n",
       "      <td>1</td>\n",
       "    </tr>\n",
       "    <tr>\n",
       "      <th>3</th>\n",
       "      <td>Best thing ever seen yet. 1:00 wants to play w...</td>\n",
       "      <td>0.600000</td>\n",
       "      <td>Positive</td>\n",
       "      <td>0.600000</td>\n",
       "      <td>1</td>\n",
       "    </tr>\n",
       "    <tr>\n",
       "      <th>4</th>\n",
       "      <td>Wow, I was just thinking, why not him.</td>\n",
       "      <td>0.100000</td>\n",
       "      <td>Positive</td>\n",
       "      <td>0.100000</td>\n",
       "      <td>1</td>\n",
       "    </tr>\n",
       "  </tbody>\n",
       "</table>\n",
       "</div>"
      ],
      "text/plain": [
       "                                        comment_text  Polarity    Target  \\\n",
       "0                                  love him so much.  0.350000  Positive   \n",
       "1  *Every Racist Has A Black Friend*  The #1 Musi...  0.059524  Positive   \n",
       "2                     In love with the French side 😝  0.250000  Positive   \n",
       "3  Best thing ever seen yet. 1:00 wants to play w...  0.600000  Positive   \n",
       "4             Wow, I was just thinking, why not him.  0.100000  Positive   \n",
       "\n",
       "   New_Target  Target_in_no  \n",
       "0    0.350000             1  \n",
       "1    0.059524             1  \n",
       "2    0.250000             1  \n",
       "3    0.600000             1  \n",
       "4    0.100000             1  "
      ]
     },
     "execution_count": 140,
     "metadata": {},
     "output_type": "execute_result"
    }
   ],
   "source": [
    "df1.head()"
   ]
  },
  {
   "cell_type": "code",
   "execution_count": 141,
   "id": "1867cf7a",
   "metadata": {},
   "outputs": [],
   "source": [
    "df1['comment_text'] = df1['comment_text'].str.lower()"
   ]
  },
  {
   "cell_type": "code",
   "execution_count": 142,
   "id": "71b1bb89",
   "metadata": {},
   "outputs": [
    {
     "data": {
      "text/html": [
       "<div>\n",
       "<style scoped>\n",
       "    .dataframe tbody tr th:only-of-type {\n",
       "        vertical-align: middle;\n",
       "    }\n",
       "\n",
       "    .dataframe tbody tr th {\n",
       "        vertical-align: top;\n",
       "    }\n",
       "\n",
       "    .dataframe thead th {\n",
       "        text-align: right;\n",
       "    }\n",
       "</style>\n",
       "<table border=\"1\" class=\"dataframe\">\n",
       "  <thead>\n",
       "    <tr style=\"text-align: right;\">\n",
       "      <th></th>\n",
       "      <th>comment_text</th>\n",
       "      <th>Polarity</th>\n",
       "      <th>Target</th>\n",
       "      <th>New_Target</th>\n",
       "      <th>Target_in_no</th>\n",
       "    </tr>\n",
       "  </thead>\n",
       "  <tbody>\n",
       "    <tr>\n",
       "      <th>0</th>\n",
       "      <td>love him so much.</td>\n",
       "      <td>0.350000</td>\n",
       "      <td>Positive</td>\n",
       "      <td>0.350000</td>\n",
       "      <td>1</td>\n",
       "    </tr>\n",
       "    <tr>\n",
       "      <th>1</th>\n",
       "      <td>*every racist has a black friend*  the #1 musi...</td>\n",
       "      <td>0.059524</td>\n",
       "      <td>Positive</td>\n",
       "      <td>0.059524</td>\n",
       "      <td>1</td>\n",
       "    </tr>\n",
       "    <tr>\n",
       "      <th>2</th>\n",
       "      <td>in love with the french side 😝</td>\n",
       "      <td>0.250000</td>\n",
       "      <td>Positive</td>\n",
       "      <td>0.250000</td>\n",
       "      <td>1</td>\n",
       "    </tr>\n",
       "    <tr>\n",
       "      <th>3</th>\n",
       "      <td>best thing ever seen yet. 1:00 wants to play w...</td>\n",
       "      <td>0.600000</td>\n",
       "      <td>Positive</td>\n",
       "      <td>0.600000</td>\n",
       "      <td>1</td>\n",
       "    </tr>\n",
       "    <tr>\n",
       "      <th>4</th>\n",
       "      <td>wow, i was just thinking, why not him.</td>\n",
       "      <td>0.100000</td>\n",
       "      <td>Positive</td>\n",
       "      <td>0.100000</td>\n",
       "      <td>1</td>\n",
       "    </tr>\n",
       "  </tbody>\n",
       "</table>\n",
       "</div>"
      ],
      "text/plain": [
       "                                        comment_text  Polarity    Target  \\\n",
       "0                                  love him so much.  0.350000  Positive   \n",
       "1  *every racist has a black friend*  the #1 musi...  0.059524  Positive   \n",
       "2                     in love with the french side 😝  0.250000  Positive   \n",
       "3  best thing ever seen yet. 1:00 wants to play w...  0.600000  Positive   \n",
       "4             wow, i was just thinking, why not him.  0.100000  Positive   \n",
       "\n",
       "   New_Target  Target_in_no  \n",
       "0    0.350000             1  \n",
       "1    0.059524             1  \n",
       "2    0.250000             1  \n",
       "3    0.600000             1  \n",
       "4    0.100000             1  "
      ]
     },
     "execution_count": 142,
     "metadata": {},
     "output_type": "execute_result"
    }
   ],
   "source": [
    "df1.head()"
   ]
  },
  {
   "cell_type": "code",
   "execution_count": 143,
   "id": "dbf390c7",
   "metadata": {},
   "outputs": [],
   "source": [
    "from sklearn.feature_extraction.text import CountVectorizer\n",
    "from sklearn.ensemble import RandomForestClassifier"
   ]
  },
  {
   "cell_type": "code",
   "execution_count": 144,
   "id": "503526b6",
   "metadata": {},
   "outputs": [],
   "source": [
    "countvector=CountVectorizer(ngram_range=(2,2))\n"
   ]
  },
  {
   "cell_type": "code",
   "execution_count": null,
   "id": "1d7be739",
   "metadata": {},
   "outputs": [],
   "source": [
    "x=countvector.fit_transform(df1['comment_text'])\n",
    "y = df1['Target']"
   ]
  },
  {
   "cell_type": "code",
   "execution_count": 146,
   "id": "fd01352d",
   "metadata": {},
   "outputs": [],
   "source": [
    "x_train1,x_test1,y_train1,y_test1=train_test_split(x,y,test_size=0.3,random_state=101)"
   ]
  },
  {
   "cell_type": "code",
   "execution_count": null,
   "id": "b5ce29e8",
   "metadata": {},
   "outputs": [],
   "source": [
    "# model1=MultinomialNB()"
   ]
  },
  {
   "cell_type": "code",
   "execution_count": 147,
   "id": "215b4451",
   "metadata": {},
   "outputs": [
    {
     "data": {
      "text/plain": [
       "(330141, 1612984)"
      ]
     },
     "execution_count": 147,
     "metadata": {},
     "output_type": "execute_result"
    }
   ],
   "source": [
    "x_train1.shape"
   ]
  },
  {
   "cell_type": "code",
   "execution_count": 148,
   "id": "3165f3dc",
   "metadata": {},
   "outputs": [
    {
     "data": {
      "text/plain": [
       "(141490, 1612984)"
      ]
     },
     "execution_count": 148,
     "metadata": {},
     "output_type": "execute_result"
    }
   ],
   "source": [
    "x_test1.shape"
   ]
  },
  {
   "cell_type": "code",
   "execution_count": null,
   "id": "bd1544f0",
   "metadata": {},
   "outputs": [],
   "source": [
    "# implement RandomForest Classifier\n",
    "randomclassifier=RandomForestClassifier(n_estimators=200,criterion='entropy')\n",
    "randomclassifier.fit(x_train1,y_train1)"
   ]
  },
  {
   "cell_type": "code",
   "execution_count": null,
   "id": "871a3f77",
   "metadata": {},
   "outputs": [],
   "source": [
    "y_pred = randomclassifier.predict(x_test1)"
   ]
  }
 ],
 "metadata": {
  "kernelspec": {
   "display_name": "Python 3 (ipykernel)",
   "language": "python",
   "name": "python3"
  },
  "language_info": {
   "codemirror_mode": {
    "name": "ipython",
    "version": 3
   },
   "file_extension": ".py",
   "mimetype": "text/x-python",
   "name": "python",
   "nbconvert_exporter": "python",
   "pygments_lexer": "ipython3",
   "version": "3.9.7"
  }
 },
 "nbformat": 4,
 "nbformat_minor": 5
}
