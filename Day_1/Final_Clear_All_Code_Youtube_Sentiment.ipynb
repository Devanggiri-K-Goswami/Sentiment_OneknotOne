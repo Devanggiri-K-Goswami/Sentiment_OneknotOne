{
 "cells": [
  {
   "cell_type": "code",
   "execution_count": 2,
   "id": "bd504315",
   "metadata": {},
   "outputs": [],
   "source": [
    "from tracemalloc import stop\n",
    "import numpy as np\n",
    "import pandas as pd\n",
    "import re\n",
    "import string\n",
    "import nltk\n",
    "from nltk.corpus import stopwords\n",
    "from nltk.tokenize import word_tokenize\n",
    "from nltk.stem.porter import PorterStemmer\n",
    "from sklearn.feature_extraction.text import TfidfVectorizer\n",
    "from sklearn.model_selection import train_test_split\n",
    "from sklearn.linear_model import LogisticRegression\n",
    "from sklearn.tree import DecisionTreeRegressor\n",
    "from sklearn.ensemble import RandomForestClassifier"
   ]
  },
  {
   "cell_type": "code",
   "execution_count": 3,
   "id": "1ec9b10c",
   "metadata": {},
   "outputs": [
    {
     "name": "stdout",
     "output_type": "stream",
     "text": [
      "[nltk_data] Error loading punkt: <urlopen error [WinError 10060] A\n",
      "[nltk_data]     connection attempt failed because the connected party\n",
      "[nltk_data]     did not properly respond after a period of time, or\n",
      "[nltk_data]     established connection failed because connected host\n",
      "[nltk_data]     has failed to respond>\n",
      "[nltk_data] Error loading stopwords: <urlopen error [WinError 10060] A\n",
      "[nltk_data]     connection attempt failed because the connected party\n",
      "[nltk_data]     did not properly respond after a period of time, or\n",
      "[nltk_data]     established connection failed because connected host\n",
      "[nltk_data]     has failed to respond>\n"
     ]
    }
   ],
   "source": [
    "nltk.download('punkt')\n",
    "nltk.download('stopwords')\n",
    "sw=nltk.corpus.stopwords.words(\"english\")"
   ]
  },
  {
   "cell_type": "code",
   "execution_count": 4,
   "id": "7a24e5ad",
   "metadata": {},
   "outputs": [
    {
     "name": "stdout",
     "output_type": "stream",
     "text": [
      "Requirement already satisfied: emoji in c:\\users\\lenovo\\anaconda3\\lib\\site-packages (1.7.0)\n"
     ]
    },
    {
     "name": "stderr",
     "output_type": "stream",
     "text": [
      "WARNING: Ignoring invalid distribution -pencv-python-headless (c:\\users\\lenovo\\appdata\\roaming\\python\\python39\\site-packages)\n",
      "WARNING: Ignoring invalid distribution -pencv-python-headless (c:\\users\\lenovo\\appdata\\roaming\\python\\python39\\site-packages)\n",
      "WARNING: Ignoring invalid distribution -pencv-python-headless (c:\\users\\lenovo\\appdata\\roaming\\python\\python39\\site-packages)\n",
      "WARNING: Error parsing requirements for pyqt5: [Errno 2] No such file or directory: 'c:\\\\users\\\\lenovo\\\\anaconda3\\\\lib\\\\site-packages\\\\PyQt5-5.15.7.dist-info\\\\METADATA'\n",
      "WARNING: Ignoring invalid distribution -pencv-python-headless (c:\\users\\lenovo\\appdata\\roaming\\python\\python39\\site-packages)\n",
      "WARNING: Ignoring invalid distribution -pencv-python-headless (c:\\users\\lenovo\\appdata\\roaming\\python\\python39\\site-packages)\n",
      "WARNING: Ignoring invalid distribution -pencv-python-headless (c:\\users\\lenovo\\appdata\\roaming\\python\\python39\\site-packages)\n",
      "\n",
      "[notice] A new release of pip available: 22.2.2 -> 23.1.2\n",
      "[notice] To update, run: python.exe -m pip install --upgrade pip\n"
     ]
    }
   ],
   "source": [
    "!pip install emoji"
   ]
  },
  {
   "cell_type": "code",
   "execution_count": 5,
   "id": "1a736bc4",
   "metadata": {},
   "outputs": [],
   "source": [
    "import emoji"
   ]
  },
  {
   "cell_type": "code",
   "execution_count": 6,
   "id": "0322a74a",
   "metadata": {},
   "outputs": [
    {
     "name": "stderr",
     "output_type": "stream",
     "text": [
      "C:\\Users\\LENOVO\\anaconda3\\lib\\site-packages\\IPython\\core\\interactiveshell.py:3552: FutureWarning: The error_bad_lines argument has been deprecated and will be removed in a future version.\n",
      "\n",
      "\n",
      "  exec(code_obj, self.user_global_ns, self.user_ns)\n",
      "b'Skipping line 41589: expected 4 fields, saw 11\\nSkipping line 51628: expected 4 fields, saw 7\\nSkipping line 114465: expected 4 fields, saw 5\\n'\n",
      "b'Skipping line 142496: expected 4 fields, saw 8\\nSkipping line 189732: expected 4 fields, saw 6\\nSkipping line 245218: expected 4 fields, saw 7\\n'\n",
      "b'Skipping line 388430: expected 4 fields, saw 5\\n'\n",
      "C:\\Users\\LENOVO\\anaconda3\\lib\\site-packages\\IPython\\core\\interactiveshell.py:3552: DtypeWarning: Columns (2,3) have mixed types.Specify dtype option on import or set low_memory=False.\n",
      "  exec(code_obj, self.user_global_ns, self.user_ns)\n"
     ]
    }
   ],
   "source": [
    "df = pd.read_csv(\"UScomments.csv\",error_bad_lines=False)"
   ]
  },
  {
   "cell_type": "code",
   "execution_count": 7,
   "id": "0e344957",
   "metadata": {},
   "outputs": [
    {
     "data": {
      "text/html": [
       "<div>\n",
       "<style scoped>\n",
       "    .dataframe tbody tr th:only-of-type {\n",
       "        vertical-align: middle;\n",
       "    }\n",
       "\n",
       "    .dataframe tbody tr th {\n",
       "        vertical-align: top;\n",
       "    }\n",
       "\n",
       "    .dataframe thead th {\n",
       "        text-align: right;\n",
       "    }\n",
       "</style>\n",
       "<table border=\"1\" class=\"dataframe\">\n",
       "  <thead>\n",
       "    <tr style=\"text-align: right;\">\n",
       "      <th></th>\n",
       "      <th>video_id</th>\n",
       "      <th>comment_text</th>\n",
       "      <th>likes</th>\n",
       "      <th>replies</th>\n",
       "    </tr>\n",
       "  </thead>\n",
       "  <tbody>\n",
       "    <tr>\n",
       "      <th>433292</th>\n",
       "      <td>I7TSzpDetTY</td>\n",
       "      <td>Who's the nigger?</td>\n",
       "      <td>1</td>\n",
       "      <td>0</td>\n",
       "    </tr>\n",
       "    <tr>\n",
       "      <th>277129</th>\n",
       "      <td>9QZb-659ZfY</td>\n",
       "      <td>Go to Thailand. It's beautiful out there.</td>\n",
       "      <td>0</td>\n",
       "      <td>0</td>\n",
       "    </tr>\n",
       "    <tr>\n",
       "      <th>643675</th>\n",
       "      <td>NVvJ3t5eiTU</td>\n",
       "      <td>NinoOoOo likes it RAW</td>\n",
       "      <td>0</td>\n",
       "      <td>0</td>\n",
       "    </tr>\n",
       "    <tr>\n",
       "      <th>404395</th>\n",
       "      <td>CwLGro-dFWg</td>\n",
       "      <td>Before 1 million views ?</td>\n",
       "      <td>0</td>\n",
       "      <td>0</td>\n",
       "    </tr>\n",
       "    <tr>\n",
       "      <th>577310</th>\n",
       "      <td>tLv3X-aMyWQ</td>\n",
       "      <td>BRs</td>\n",
       "      <td>0</td>\n",
       "      <td>0</td>\n",
       "    </tr>\n",
       "    <tr>\n",
       "      <th>431976</th>\n",
       "      <td>-otJ1LJGzcc</td>\n",
       "      <td>NEW Y/T watch &gt;   Stephen Paddock Las Vegas Sh...</td>\n",
       "      <td>0</td>\n",
       "      <td>0</td>\n",
       "    </tr>\n",
       "    <tr>\n",
       "      <th>428966</th>\n",
       "      <td>3N5WORQxQUo</td>\n",
       "      <td>Korean subs!! Thank you so much😍😍</td>\n",
       "      <td>0</td>\n",
       "      <td>0</td>\n",
       "    </tr>\n",
       "    <tr>\n",
       "      <th>342935</th>\n",
       "      <td>GNTtR6ZpUOo</td>\n",
       "      <td>(Dances)  THIS MEH JAM</td>\n",
       "      <td>0</td>\n",
       "      <td>0</td>\n",
       "    </tr>\n",
       "    <tr>\n",
       "      <th>513212</th>\n",
       "      <td>GmrFu7I-bBE</td>\n",
       "      <td>altidore and bobby wood were also EXTREMELY st...</td>\n",
       "      <td>0</td>\n",
       "      <td>0</td>\n",
       "    </tr>\n",
       "    <tr>\n",
       "      <th>69452</th>\n",
       "      <td>F1DxLQbx_bU</td>\n",
       "      <td>Oh my gosh Nick these are amazing! Keep up the...</td>\n",
       "      <td>0</td>\n",
       "      <td>0</td>\n",
       "    </tr>\n",
       "  </tbody>\n",
       "</table>\n",
       "</div>"
      ],
      "text/plain": [
       "           video_id                                       comment_text likes  \\\n",
       "433292  I7TSzpDetTY                                  Who's the nigger?     1   \n",
       "277129  9QZb-659ZfY          Go to Thailand. It's beautiful out there.     0   \n",
       "643675  NVvJ3t5eiTU                              NinoOoOo likes it RAW     0   \n",
       "404395  CwLGro-dFWg                           Before 1 million views ?     0   \n",
       "577310  tLv3X-aMyWQ                                                BRs     0   \n",
       "431976  -otJ1LJGzcc  NEW Y/T watch >   Stephen Paddock Las Vegas Sh...     0   \n",
       "428966  3N5WORQxQUo                  Korean subs!! Thank you so much😍😍     0   \n",
       "342935  GNTtR6ZpUOo                             (Dances)  THIS MEH JAM     0   \n",
       "513212  GmrFu7I-bBE  altidore and bobby wood were also EXTREMELY st...     0   \n",
       "69452   F1DxLQbx_bU  Oh my gosh Nick these are amazing! Keep up the...     0   \n",
       "\n",
       "       replies  \n",
       "433292       0  \n",
       "277129       0  \n",
       "643675       0  \n",
       "404395       0  \n",
       "577310       0  \n",
       "431976       0  \n",
       "428966       0  \n",
       "342935       0  \n",
       "513212       0  \n",
       "69452        0  "
      ]
     },
     "execution_count": 7,
     "metadata": {},
     "output_type": "execute_result"
    }
   ],
   "source": [
    "df.sample(10)"
   ]
  },
  {
   "cell_type": "code",
   "execution_count": 8,
   "id": "ae80a6ba",
   "metadata": {},
   "outputs": [],
   "source": [
    "# df.isnull().sum()"
   ]
  },
  {
   "cell_type": "code",
   "execution_count": 70,
   "id": "7f1f7417",
   "metadata": {},
   "outputs": [
    {
     "name": "stdout",
     "output_type": "stream",
     "text": [
      "Collecting gensim\n",
      "  Downloading gensim-4.3.1-cp39-cp39-win_amd64.whl (24.0 MB)\n",
      "     -------------------------------------- 24.0/24.0 MB 125.8 kB/s eta 0:00:00\n",
      "Collecting smart-open>=1.8.1\n",
      "  Downloading smart_open-6.3.0-py3-none-any.whl (56 kB)\n",
      "     --------------------------------------- 56.8/56.8 kB 58.4 kB/s eta 0:00:00\n",
      "Requirement already satisfied: numpy>=1.18.5 in c:\\users\\lenovo\\anaconda3\\lib\\site-packages (from gensim) (1.19.5)\n",
      "Requirement already satisfied: scipy>=1.7.0 in c:\\users\\lenovo\\anaconda3\\lib\\site-packages (from gensim) (1.7.1)\n",
      "Installing collected packages: smart-open, gensim\n",
      "Successfully installed gensim-4.3.1 smart-open-6.3.0\n"
     ]
    },
    {
     "name": "stderr",
     "output_type": "stream",
     "text": [
      "WARNING: Ignoring invalid distribution -pencv-python-headless (c:\\users\\lenovo\\appdata\\roaming\\python\\python39\\site-packages)\n",
      "WARNING: Ignoring invalid distribution -pencv-python-headless (c:\\users\\lenovo\\appdata\\roaming\\python\\python39\\site-packages)\n",
      "WARNING: Ignoring invalid distribution -pencv-python-headless (c:\\users\\lenovo\\appdata\\roaming\\python\\python39\\site-packages)\n",
      "WARNING: Error parsing requirements for pyqt5: [Errno 2] No such file or directory: 'c:\\\\users\\\\lenovo\\\\anaconda3\\\\lib\\\\site-packages\\\\PyQt5-5.15.7.dist-info\\\\METADATA'\n",
      "WARNING: Ignoring invalid distribution -pencv-python-headless (c:\\users\\lenovo\\appdata\\roaming\\python\\python39\\site-packages)\n",
      "WARNING: Ignoring invalid distribution -pencv-python-headless (c:\\users\\lenovo\\appdata\\roaming\\python\\python39\\site-packages)\n",
      "WARNING: Ignoring invalid distribution -pencv-python-headless (c:\\users\\lenovo\\appdata\\roaming\\python\\python39\\site-packages)\n",
      "\n",
      "[notice] A new release of pip available: 22.2.2 -> 23.1.2\n",
      "[notice] To update, run: python.exe -m pip install --upgrade pip\n"
     ]
    }
   ],
   "source": [
    "# !pip install gensim"
   ]
  },
  {
   "cell_type": "code",
   "execution_count": 9,
   "id": "a28a46c5",
   "metadata": {},
   "outputs": [],
   "source": [
    "# df.dropna(inplace=True)"
   ]
  },
  {
   "cell_type": "code",
   "execution_count": 10,
   "id": "adb6b82d",
   "metadata": {},
   "outputs": [
    {
     "name": "stdout",
     "output_type": "stream",
     "text": [
      "Requirement already satisfied: textblob in c:\\users\\lenovo\\anaconda3\\lib\\site-packages (0.17.1)\n",
      "Requirement already satisfied: nltk>=3.1 in c:\\users\\lenovo\\anaconda3\\lib\\site-packages (from textblob) (3.2.5)\n",
      "Requirement already satisfied: six in c:\\users\\lenovo\\anaconda3\\lib\\site-packages (from nltk>=3.1->textblob) (1.16.0)\n"
     ]
    },
    {
     "name": "stderr",
     "output_type": "stream",
     "text": [
      "WARNING: Ignoring invalid distribution -pencv-python-headless (c:\\users\\lenovo\\appdata\\roaming\\python\\python39\\site-packages)\n",
      "WARNING: Ignoring invalid distribution -pencv-python-headless (c:\\users\\lenovo\\appdata\\roaming\\python\\python39\\site-packages)\n",
      "WARNING: Ignoring invalid distribution -pencv-python-headless (c:\\users\\lenovo\\appdata\\roaming\\python\\python39\\site-packages)\n",
      "WARNING: Error parsing requirements for pyqt5: [Errno 2] No such file or directory: 'c:\\\\users\\\\lenovo\\\\anaconda3\\\\lib\\\\site-packages\\\\PyQt5-5.15.7.dist-info\\\\METADATA'\n",
      "WARNING: Ignoring invalid distribution -pencv-python-headless (c:\\users\\lenovo\\appdata\\roaming\\python\\python39\\site-packages)\n",
      "WARNING: Ignoring invalid distribution -pencv-python-headless (c:\\users\\lenovo\\appdata\\roaming\\python\\python39\\site-packages)\n",
      "WARNING: Ignoring invalid distribution -pencv-python-headless (c:\\users\\lenovo\\appdata\\roaming\\python\\python39\\site-packages)\n",
      "\n",
      "[notice] A new release of pip available: 22.2.2 -> 23.1.2\n",
      "[notice] To update, run: python.exe -m pip install --upgrade pip\n"
     ]
    }
   ],
   "source": [
    "!pip install textblob"
   ]
  },
  {
   "cell_type": "code",
   "execution_count": 11,
   "id": "cb9c451f",
   "metadata": {},
   "outputs": [],
   "source": [
    "from textblob import TextBlob"
   ]
  },
  {
   "cell_type": "code",
   "execution_count": 12,
   "id": "304527af",
   "metadata": {},
   "outputs": [],
   "source": [
    "polarity = []\n",
    "for comment in df['comment_text']:\n",
    "    try:\n",
    "        polarity.append(TextBlob(comment).sentiment.polarity)\n",
    "    except:\n",
    "        polarity.append(0)"
   ]
  },
  {
   "cell_type": "code",
   "execution_count": 13,
   "id": "71aef808",
   "metadata": {},
   "outputs": [],
   "source": [
    "df['Polarity'] = polarity"
   ]
  },
  {
   "cell_type": "code",
   "execution_count": 14,
   "id": "1c8083f7",
   "metadata": {},
   "outputs": [],
   "source": [
    "# df.head()"
   ]
  },
  {
   "cell_type": "code",
   "execution_count": 15,
   "id": "d4d91fe3",
   "metadata": {},
   "outputs": [],
   "source": [
    "x=[]\n",
    "for i in df.Polarity:\n",
    "    if i>=0:\n",
    "        x.append('Positive')\n",
    "    else:\n",
    "        x.append('Negative')\n",
    "#     else:\n",
    "#         x.append('Neutral')\n",
    "        "
   ]
  },
  {
   "cell_type": "code",
   "execution_count": 16,
   "id": "33bfc0e9",
   "metadata": {},
   "outputs": [],
   "source": [
    "# x"
   ]
  },
  {
   "cell_type": "code",
   "execution_count": 17,
   "id": "9f88fd33",
   "metadata": {},
   "outputs": [
    {
     "data": {
      "text/html": [
       "<div>\n",
       "<style scoped>\n",
       "    .dataframe tbody tr th:only-of-type {\n",
       "        vertical-align: middle;\n",
       "    }\n",
       "\n",
       "    .dataframe tbody tr th {\n",
       "        vertical-align: top;\n",
       "    }\n",
       "\n",
       "    .dataframe thead th {\n",
       "        text-align: right;\n",
       "    }\n",
       "</style>\n",
       "<table border=\"1\" class=\"dataframe\">\n",
       "  <thead>\n",
       "    <tr style=\"text-align: right;\">\n",
       "      <th></th>\n",
       "      <th>video_id</th>\n",
       "      <th>comment_text</th>\n",
       "      <th>likes</th>\n",
       "      <th>replies</th>\n",
       "      <th>Polarity</th>\n",
       "    </tr>\n",
       "  </thead>\n",
       "  <tbody>\n",
       "    <tr>\n",
       "      <th>0</th>\n",
       "      <td>XpVt6Z1Gjjo</td>\n",
       "      <td>Logan Paul it's yo big day ‼️‼️‼️</td>\n",
       "      <td>4</td>\n",
       "      <td>0</td>\n",
       "      <td>0.0</td>\n",
       "    </tr>\n",
       "    <tr>\n",
       "      <th>1</th>\n",
       "      <td>XpVt6Z1Gjjo</td>\n",
       "      <td>I've been following you from the start of your...</td>\n",
       "      <td>3</td>\n",
       "      <td>0</td>\n",
       "      <td>0.0</td>\n",
       "    </tr>\n",
       "    <tr>\n",
       "      <th>2</th>\n",
       "      <td>XpVt6Z1Gjjo</td>\n",
       "      <td>Say hi to Kong and maverick for me</td>\n",
       "      <td>3</td>\n",
       "      <td>0</td>\n",
       "      <td>0.0</td>\n",
       "    </tr>\n",
       "    <tr>\n",
       "      <th>3</th>\n",
       "      <td>XpVt6Z1Gjjo</td>\n",
       "      <td>MY FAN . attendance</td>\n",
       "      <td>3</td>\n",
       "      <td>0</td>\n",
       "      <td>0.0</td>\n",
       "    </tr>\n",
       "    <tr>\n",
       "      <th>4</th>\n",
       "      <td>XpVt6Z1Gjjo</td>\n",
       "      <td>trending 😉</td>\n",
       "      <td>3</td>\n",
       "      <td>0</td>\n",
       "      <td>0.0</td>\n",
       "    </tr>\n",
       "  </tbody>\n",
       "</table>\n",
       "</div>"
      ],
      "text/plain": [
       "      video_id                                       comment_text likes  \\\n",
       "0  XpVt6Z1Gjjo                  Logan Paul it's yo big day ‼️‼️‼️     4   \n",
       "1  XpVt6Z1Gjjo  I've been following you from the start of your...     3   \n",
       "2  XpVt6Z1Gjjo                 Say hi to Kong and maverick for me     3   \n",
       "3  XpVt6Z1Gjjo                                MY FAN . attendance     3   \n",
       "4  XpVt6Z1Gjjo                                         trending 😉     3   \n",
       "\n",
       "  replies  Polarity  \n",
       "0       0       0.0  \n",
       "1       0       0.0  \n",
       "2       0       0.0  \n",
       "3       0       0.0  \n",
       "4       0       0.0  "
      ]
     },
     "execution_count": 17,
     "metadata": {},
     "output_type": "execute_result"
    }
   ],
   "source": [
    "df.head()"
   ]
  },
  {
   "cell_type": "code",
   "execution_count": 18,
   "id": "3559430d",
   "metadata": {},
   "outputs": [],
   "source": [
    "df['Target'] = x"
   ]
  },
  {
   "cell_type": "code",
   "execution_count": 69,
   "id": "a29155b6",
   "metadata": {},
   "outputs": [
    {
     "data": {
      "text/plain": [
       "video_id                                              XpVt6Z1Gjjo\n",
       "comment_text    You and your shit brother may have single hand...\n",
       "likes                                                           0\n",
       "replies                                                         0\n",
       "Polarity                                                -0.135714\n",
       "Target                                                   Negative\n",
       "Name: 9, dtype: object"
      ]
     },
     "execution_count": 69,
     "metadata": {},
     "output_type": "execute_result"
    }
   ],
   "source": [
    "len(df[df['Target']=='Negative'])\n",
    "df.iloc[9]"
   ]
  },
  {
   "cell_type": "code",
   "execution_count": 68,
   "id": "2edc3b37",
   "metadata": {},
   "outputs": [
    {
     "data": {
      "text/html": [
       "<div>\n",
       "<style scoped>\n",
       "    .dataframe tbody tr th:only-of-type {\n",
       "        vertical-align: middle;\n",
       "    }\n",
       "\n",
       "    .dataframe tbody tr th {\n",
       "        vertical-align: top;\n",
       "    }\n",
       "\n",
       "    .dataframe thead th {\n",
       "        text-align: right;\n",
       "    }\n",
       "</style>\n",
       "<table border=\"1\" class=\"dataframe\">\n",
       "  <thead>\n",
       "    <tr style=\"text-align: right;\">\n",
       "      <th></th>\n",
       "      <th>video_id</th>\n",
       "      <th>comment_text</th>\n",
       "      <th>likes</th>\n",
       "      <th>replies</th>\n",
       "      <th>Polarity</th>\n",
       "      <th>Target</th>\n",
       "    </tr>\n",
       "  </thead>\n",
       "  <tbody>\n",
       "    <tr>\n",
       "      <th>9</th>\n",
       "      <td>XpVt6Z1Gjjo</td>\n",
       "      <td>You and your shit brother may have single hand...</td>\n",
       "      <td>0</td>\n",
       "      <td>0</td>\n",
       "      <td>-0.135714</td>\n",
       "      <td>Negative</td>\n",
       "    </tr>\n",
       "    <tr>\n",
       "      <th>12</th>\n",
       "      <td>XpVt6Z1Gjjo</td>\n",
       "      <td>Honestly Evan is so annoying. Like its not fun...</td>\n",
       "      <td>0</td>\n",
       "      <td>0</td>\n",
       "      <td>-0.023333</td>\n",
       "      <td>Negative</td>\n",
       "    </tr>\n",
       "    <tr>\n",
       "      <th>16</th>\n",
       "      <td>XpVt6Z1Gjjo</td>\n",
       "      <td>Ayyyyoooo Logang what up .  This was a hard vl...</td>\n",
       "      <td>1</td>\n",
       "      <td>0</td>\n",
       "      <td>-0.291667</td>\n",
       "      <td>Negative</td>\n",
       "    </tr>\n",
       "    <tr>\n",
       "      <th>19</th>\n",
       "      <td>XpVt6Z1Gjjo</td>\n",
       "      <td>Made a lot of people hate youtube - GJ</td>\n",
       "      <td>0</td>\n",
       "      <td>0</td>\n",
       "      <td>-0.800000</td>\n",
       "      <td>Negative</td>\n",
       "    </tr>\n",
       "    <tr>\n",
       "      <th>28</th>\n",
       "      <td>XpVt6Z1Gjjo</td>\n",
       "      <td>Evan is a horrible human being he also looks s...</td>\n",
       "      <td>0</td>\n",
       "      <td>0</td>\n",
       "      <td>-0.050000</td>\n",
       "      <td>Negative</td>\n",
       "    </tr>\n",
       "    <tr>\n",
       "      <th>...</th>\n",
       "      <td>...</td>\n",
       "      <td>...</td>\n",
       "      <td>...</td>\n",
       "      <td>...</td>\n",
       "      <td>...</td>\n",
       "      <td>...</td>\n",
       "    </tr>\n",
       "    <tr>\n",
       "      <th>691297</th>\n",
       "      <td>qRoVlH1OcI4</td>\n",
       "      <td>Fuck trump hes honestly such a fucking idiot</td>\n",
       "      <td>0</td>\n",
       "      <td>5</td>\n",
       "      <td>-0.400000</td>\n",
       "      <td>Negative</td>\n",
       "    </tr>\n",
       "    <tr>\n",
       "      <th>691298</th>\n",
       "      <td>qRoVlH1OcI4</td>\n",
       "      <td>Fuck Donald trump he is a piece of shit presid...</td>\n",
       "      <td>0</td>\n",
       "      <td>2</td>\n",
       "      <td>-0.085714</td>\n",
       "      <td>Negative</td>\n",
       "    </tr>\n",
       "    <tr>\n",
       "      <th>691316</th>\n",
       "      <td>EoejGgUNmVU</td>\n",
       "      <td>LP, U look exhausted (i think); I was afraid o...</td>\n",
       "      <td>0</td>\n",
       "      <td>0</td>\n",
       "      <td>-0.066667</td>\n",
       "      <td>Negative</td>\n",
       "    </tr>\n",
       "    <tr>\n",
       "      <th>691319</th>\n",
       "      <td>EoejGgUNmVU</td>\n",
       "      <td>What do you do in your past life to end up bet...</td>\n",
       "      <td>0</td>\n",
       "      <td>0</td>\n",
       "      <td>-0.250000</td>\n",
       "      <td>Negative</td>\n",
       "    </tr>\n",
       "    <tr>\n",
       "      <th>691330</th>\n",
       "      <td>EoejGgUNmVU</td>\n",
       "      <td>people hey people leave d fucking mobile phone...</td>\n",
       "      <td>1</td>\n",
       "      <td>0</td>\n",
       "      <td>-0.050000</td>\n",
       "      <td>Negative</td>\n",
       "    </tr>\n",
       "  </tbody>\n",
       "</table>\n",
       "<p>106154 rows × 6 columns</p>\n",
       "</div>"
      ],
      "text/plain": [
       "           video_id                                       comment_text likes  \\\n",
       "9       XpVt6Z1Gjjo  You and your shit brother may have single hand...     0   \n",
       "12      XpVt6Z1Gjjo  Honestly Evan is so annoying. Like its not fun...     0   \n",
       "16      XpVt6Z1Gjjo  Ayyyyoooo Logang what up .  This was a hard vl...     1   \n",
       "19      XpVt6Z1Gjjo             Made a lot of people hate youtube - GJ     0   \n",
       "28      XpVt6Z1Gjjo  Evan is a horrible human being he also looks s...     0   \n",
       "...             ...                                                ...   ...   \n",
       "691297  qRoVlH1OcI4       Fuck trump hes honestly such a fucking idiot     0   \n",
       "691298  qRoVlH1OcI4  Fuck Donald trump he is a piece of shit presid...     0   \n",
       "691316  EoejGgUNmVU  LP, U look exhausted (i think); I was afraid o...     0   \n",
       "691319  EoejGgUNmVU  What do you do in your past life to end up bet...     0   \n",
       "691330  EoejGgUNmVU  people hey people leave d fucking mobile phone...     1   \n",
       "\n",
       "       replies  Polarity    Target  \n",
       "9            0 -0.135714  Negative  \n",
       "12           0 -0.023333  Negative  \n",
       "16           0 -0.291667  Negative  \n",
       "19           0 -0.800000  Negative  \n",
       "28           0 -0.050000  Negative  \n",
       "...        ...       ...       ...  \n",
       "691297       5 -0.400000  Negative  \n",
       "691298       2 -0.085714  Negative  \n",
       "691316       0 -0.066667  Negative  \n",
       "691319       0 -0.250000  Negative  \n",
       "691330       0 -0.050000  Negative  \n",
       "\n",
       "[106154 rows x 6 columns]"
      ]
     },
     "execution_count": 68,
     "metadata": {},
     "output_type": "execute_result"
    }
   ],
   "source": [
    "df[df['Target']=='Negative']"
   ]
  },
  {
   "cell_type": "code",
   "execution_count": 20,
   "id": "8b2af463",
   "metadata": {},
   "outputs": [],
   "source": [
    "import string\n",
    "import re"
   ]
  },
  {
   "cell_type": "code",
   "execution_count": 21,
   "id": "f6e44b2f",
   "metadata": {},
   "outputs": [],
   "source": [
    "from sklearn.naive_bayes import GaussianNB,MultinomialNB,BernoulliNB\n",
    "from sklearn.metrics import accuracy_score,confusion_matrix,precision_score"
   ]
  },
  {
   "cell_type": "code",
   "execution_count": null,
   "id": "ea692db5",
   "metadata": {},
   "outputs": [],
   "source": []
  },
  {
   "cell_type": "code",
   "execution_count": null,
   "id": "24990924",
   "metadata": {},
   "outputs": [],
   "source": []
  },
  {
   "cell_type": "code",
   "execution_count": 22,
   "id": "7c0b7d59",
   "metadata": {},
   "outputs": [],
   "source": [
    "new_emoji_df = pd.read_csv(r\"ijstable.csv\")"
   ]
  },
  {
   "cell_type": "code",
   "execution_count": 23,
   "id": "fe9f8ef0",
   "metadata": {},
   "outputs": [],
   "source": [
    "new_df = new_emoji_df[1:]"
   ]
  },
  {
   "cell_type": "code",
   "execution_count": 24,
   "id": "e07ea7ff",
   "metadata": {},
   "outputs": [
    {
     "data": {
      "text/html": [
       "<div>\n",
       "<style scoped>\n",
       "    .dataframe tbody tr th:only-of-type {\n",
       "        vertical-align: middle;\n",
       "    }\n",
       "\n",
       "    .dataframe tbody tr th {\n",
       "        vertical-align: top;\n",
       "    }\n",
       "\n",
       "    .dataframe thead th {\n",
       "        text-align: right;\n",
       "    }\n",
       "</style>\n",
       "<table border=\"1\" class=\"dataframe\">\n",
       "  <thead>\n",
       "    <tr style=\"text-align: right;\">\n",
       "      <th></th>\n",
       "      <th>Char</th>\n",
       "      <th>Unnamed: 1</th>\n",
       "      <th>Unicode</th>\n",
       "      <th>Occurrences</th>\n",
       "      <th>Position</th>\n",
       "      <th>Neg</th>\n",
       "      <th>Neut</th>\n",
       "      <th>Pos</th>\n",
       "      <th>Sentiment score</th>\n",
       "      <th>Sentiment bar</th>\n",
       "      <th>Unicode name</th>\n",
       "      <th>Unicode block</th>\n",
       "    </tr>\n",
       "  </thead>\n",
       "  <tbody>\n",
       "    <tr>\n",
       "      <th>0</th>\n",
       "      <td>😂</td>\n",
       "      <td>NaN</td>\n",
       "      <td>0x1f602</td>\n",
       "      <td>14622</td>\n",
       "      <td>0.805</td>\n",
       "      <td>0.247</td>\n",
       "      <td>0.285</td>\n",
       "      <td>0.468</td>\n",
       "      <td>0.221</td>\n",
       "      <td>NaN</td>\n",
       "      <td>FACE WITH TEARS OF JOY</td>\n",
       "      <td>Emoticons</td>\n",
       "    </tr>\n",
       "    <tr>\n",
       "      <th>1</th>\n",
       "      <td>❤</td>\n",
       "      <td>NaN</td>\n",
       "      <td>0x2764</td>\n",
       "      <td>8050</td>\n",
       "      <td>0.747</td>\n",
       "      <td>0.044</td>\n",
       "      <td>0.166</td>\n",
       "      <td>0.79</td>\n",
       "      <td>0.746</td>\n",
       "      <td>NaN</td>\n",
       "      <td>HEAVY BLACK HEART</td>\n",
       "      <td>Dingbats</td>\n",
       "    </tr>\n",
       "    <tr>\n",
       "      <th>2</th>\n",
       "      <td>♥</td>\n",
       "      <td>NaN</td>\n",
       "      <td>0x2665</td>\n",
       "      <td>7144</td>\n",
       "      <td>0.754</td>\n",
       "      <td>0.035</td>\n",
       "      <td>0.272</td>\n",
       "      <td>0.693</td>\n",
       "      <td>0.657</td>\n",
       "      <td>NaN</td>\n",
       "      <td>BLACK HEART SUIT</td>\n",
       "      <td>Miscellaneous Symbols</td>\n",
       "    </tr>\n",
       "    <tr>\n",
       "      <th>3</th>\n",
       "      <td>😍</td>\n",
       "      <td>NaN</td>\n",
       "      <td>0x1f60d</td>\n",
       "      <td>6359</td>\n",
       "      <td>0.765</td>\n",
       "      <td>0.052</td>\n",
       "      <td>0.219</td>\n",
       "      <td>0.729</td>\n",
       "      <td>0.678</td>\n",
       "      <td>NaN</td>\n",
       "      <td>SMILING FACE WITH HEART-SHAPED EYES</td>\n",
       "      <td>Emoticons</td>\n",
       "    </tr>\n",
       "    <tr>\n",
       "      <th>4</th>\n",
       "      <td>😭</td>\n",
       "      <td>NaN</td>\n",
       "      <td>0x1f62d</td>\n",
       "      <td>5526</td>\n",
       "      <td>0.803</td>\n",
       "      <td>0.436</td>\n",
       "      <td>0.22</td>\n",
       "      <td>0.343</td>\n",
       "      <td>-0.093</td>\n",
       "      <td>NaN</td>\n",
       "      <td>LOUDLY CRYING FACE</td>\n",
       "      <td>Emoticons</td>\n",
       "    </tr>\n",
       "    <tr>\n",
       "      <th>...</th>\n",
       "      <td>...</td>\n",
       "      <td>...</td>\n",
       "      <td>...</td>\n",
       "      <td>...</td>\n",
       "      <td>...</td>\n",
       "      <td>...</td>\n",
       "      <td>...</td>\n",
       "      <td>...</td>\n",
       "      <td>...</td>\n",
       "      <td>...</td>\n",
       "      <td>...</td>\n",
       "      <td>...</td>\n",
       "    </tr>\n",
       "    <tr>\n",
       "      <th>746</th>\n",
       "      <td>♮</td>\n",
       "      <td>NaN</td>\n",
       "      <td>0x266e</td>\n",
       "      <td>5</td>\n",
       "      <td>0.937</td>\n",
       "      <td>0.125</td>\n",
       "      <td>0.625</td>\n",
       "      <td>0.25</td>\n",
       "      <td>0.125</td>\n",
       "      <td>NaN</td>\n",
       "      <td>MUSIC NATURAL SIGN</td>\n",
       "      <td>Miscellaneous Symbols</td>\n",
       "    </tr>\n",
       "    <tr>\n",
       "      <th>747</th>\n",
       "      <td>🅾</td>\n",
       "      <td>NaN</td>\n",
       "      <td>0x1f17e</td>\n",
       "      <td>5</td>\n",
       "      <td>0.977</td>\n",
       "      <td>0.375</td>\n",
       "      <td>0.375</td>\n",
       "      <td>0.25</td>\n",
       "      <td>-0.125</td>\n",
       "      <td>NaN</td>\n",
       "      <td>NEGATIVE SQUARED LATIN CAPITAL LETTER O</td>\n",
       "      <td>Enclosed Alphanumeric Supplement</td>\n",
       "    </tr>\n",
       "    <tr>\n",
       "      <th>748</th>\n",
       "      <td>🔄</td>\n",
       "      <td>NaN</td>\n",
       "      <td>0x1f504</td>\n",
       "      <td>5</td>\n",
       "      <td>0.971</td>\n",
       "      <td>0.125</td>\n",
       "      <td>0.75</td>\n",
       "      <td>0.125</td>\n",
       "      <td>0</td>\n",
       "      <td>NaN</td>\n",
       "      <td>ANTICLOCKWISE DOWNWARDS AND UPWARDS OPEN CIRCL...</td>\n",
       "      <td>Miscellaneous Symbols and Pictographs</td>\n",
       "    </tr>\n",
       "    <tr>\n",
       "      <th>749</th>\n",
       "      <td>☄</td>\n",
       "      <td>NaN</td>\n",
       "      <td>0x2604</td>\n",
       "      <td>5</td>\n",
       "      <td>0.435</td>\n",
       "      <td>0.125</td>\n",
       "      <td>0.75</td>\n",
       "      <td>0.125</td>\n",
       "      <td>0</td>\n",
       "      <td>NaN</td>\n",
       "      <td>COMET</td>\n",
       "      <td>Miscellaneous Symbols</td>\n",
       "    </tr>\n",
       "    <tr>\n",
       "      <th>750</th>\n",
       "      <td>☨</td>\n",
       "      <td>NaN</td>\n",
       "      <td>0x2628</td>\n",
       "      <td>5</td>\n",
       "      <td>0.458</td>\n",
       "      <td>0.125</td>\n",
       "      <td>0.75</td>\n",
       "      <td>0.125</td>\n",
       "      <td>0</td>\n",
       "      <td>NaN</td>\n",
       "      <td>CROSS OF LORRAINE</td>\n",
       "      <td>Miscellaneous Symbols</td>\n",
       "    </tr>\n",
       "  </tbody>\n",
       "</table>\n",
       "<p>751 rows × 12 columns</p>\n",
       "</div>"
      ],
      "text/plain": [
       "    Char  Unnamed: 1  Unicode Occurrences Position    Neg   Neut    Pos  \\\n",
       "0      😂         NaN  0x1f602       14622    0.805  0.247  0.285  0.468   \n",
       "1      ❤         NaN   0x2764        8050    0.747  0.044  0.166   0.79   \n",
       "2      ♥         NaN   0x2665        7144    0.754  0.035  0.272  0.693   \n",
       "3      😍         NaN  0x1f60d        6359    0.765  0.052  0.219  0.729   \n",
       "4      😭         NaN  0x1f62d        5526    0.803  0.436   0.22  0.343   \n",
       "..   ...         ...      ...         ...      ...    ...    ...    ...   \n",
       "746    ♮         NaN   0x266e           5    0.937  0.125  0.625   0.25   \n",
       "747    🅾         NaN  0x1f17e           5    0.977  0.375  0.375   0.25   \n",
       "748    🔄         NaN  0x1f504           5    0.971  0.125   0.75  0.125   \n",
       "749    ☄         NaN   0x2604           5    0.435  0.125   0.75  0.125   \n",
       "750    ☨         NaN   0x2628           5    0.458  0.125   0.75  0.125   \n",
       "\n",
       "    Sentiment score Sentiment bar  \\\n",
       "0             0.221           NaN   \n",
       "1             0.746           NaN   \n",
       "2             0.657           NaN   \n",
       "3             0.678           NaN   \n",
       "4            -0.093           NaN   \n",
       "..              ...           ...   \n",
       "746           0.125           NaN   \n",
       "747          -0.125           NaN   \n",
       "748               0           NaN   \n",
       "749               0           NaN   \n",
       "750               0           NaN   \n",
       "\n",
       "                                          Unicode name  \\\n",
       "0                               FACE WITH TEARS OF JOY   \n",
       "1                                    HEAVY BLACK HEART   \n",
       "2                                     BLACK HEART SUIT   \n",
       "3                  SMILING FACE WITH HEART-SHAPED EYES   \n",
       "4                                   LOUDLY CRYING FACE   \n",
       "..                                                 ...   \n",
       "746                                 MUSIC NATURAL SIGN   \n",
       "747            NEGATIVE SQUARED LATIN CAPITAL LETTER O   \n",
       "748  ANTICLOCKWISE DOWNWARDS AND UPWARDS OPEN CIRCL...   \n",
       "749                                              COMET   \n",
       "750                                  CROSS OF LORRAINE   \n",
       "\n",
       "                             Unicode block  \n",
       "0                                Emoticons  \n",
       "1                                 Dingbats  \n",
       "2                    Miscellaneous Symbols  \n",
       "3                                Emoticons  \n",
       "4                                Emoticons  \n",
       "..                                     ...  \n",
       "746                  Miscellaneous Symbols  \n",
       "747       Enclosed Alphanumeric Supplement  \n",
       "748  Miscellaneous Symbols and Pictographs  \n",
       "749                  Miscellaneous Symbols  \n",
       "750                  Miscellaneous Symbols  \n",
       "\n",
       "[751 rows x 12 columns]"
      ]
     },
     "execution_count": 24,
     "metadata": {},
     "output_type": "execute_result"
    }
   ],
   "source": [
    "new_df.reset_index().drop(['index'],axis=1)"
   ]
  },
  {
   "cell_type": "code",
   "execution_count": 25,
   "id": "1645e467",
   "metadata": {},
   "outputs": [],
   "source": [
    "new_list_emoji_df = [i for i in new_df['Char']]"
   ]
  },
  {
   "cell_type": "code",
   "execution_count": null,
   "id": "a5aeb2fa",
   "metadata": {},
   "outputs": [],
   "source": []
  },
  {
   "cell_type": "code",
   "execution_count": null,
   "id": "e0ce8b13",
   "metadata": {},
   "outputs": [],
   "source": []
  },
  {
   "cell_type": "code",
   "execution_count": null,
   "id": "e36f87bc",
   "metadata": {},
   "outputs": [],
   "source": []
  },
  {
   "cell_type": "code",
   "execution_count": null,
   "id": "98500652",
   "metadata": {},
   "outputs": [],
   "source": []
  },
  {
   "cell_type": "code",
   "execution_count": 26,
   "id": "53aa4353",
   "metadata": {},
   "outputs": [],
   "source": [
    "def devide_emoji_with_text(str):\n",
    "    new_list_emoji_df = [i for i in new_df['Char']]\n",
    "#     print(new_list_emoji_df)\n",
    "    text_list_extract=[]\n",
    "    emoji_list_extract=[]\n",
    "#     c=0\n",
    "    for i in str:\n",
    "#         print(c)\n",
    "        if i in new_list_emoji_df:\n",
    "            emoji_list_extract.append(i)\n",
    "        else:\n",
    "            text_list_extract.append(i)\n",
    "#         c+=1\n",
    "            \n",
    "    text = \"\".join(text_list_extract)\n",
    "#     print(c)\n",
    "    return len(emoji_list_extract),emoji_list_extract,text"
   ]
  },
  {
   "cell_type": "code",
   "execution_count": 27,
   "id": "78d5fe67",
   "metadata": {},
   "outputs": [],
   "source": [
    "# no,emoji_list,text=devide_emoji_with_text('The end though made me happy😭🅾😭😍')\n"
   ]
  },
  {
   "cell_type": "code",
   "execution_count": 28,
   "id": "49fc862d",
   "metadata": {},
   "outputs": [],
   "source": [
    "# print(no)\n",
    "# print(emoji_list)\n",
    "# print(text)"
   ]
  },
  {
   "cell_type": "code",
   "execution_count": 36,
   "id": "9060e4fb",
   "metadata": {},
   "outputs": [],
   "source": [
    "df.isnull().sum()\n",
    "df.dropna(inplace=True)"
   ]
  },
  {
   "cell_type": "code",
   "execution_count": 37,
   "id": "c434b685",
   "metadata": {},
   "outputs": [],
   "source": [
    "def transform_text(text):\n",
    "#     text1 = convert_emojis_to_word(text)\n",
    "#     text.encode('utf-8')\n",
    "    text1=text.lower()\n",
    "    text1=nltk.word_tokenize(text1)\n",
    "#     print(text1)\n",
    "    y=[]\n",
    "    for i in text1:\n",
    "#         if i.isalnum():\n",
    "#         if i.islower() or i.encode('utf-8'):\n",
    "        if i.islower():\n",
    "            y.append(i)\n",
    "    text1=y[:]\n",
    "    #print(text1)\n",
    "    y.clear()\n",
    "    for i in text1:\n",
    "        if i not in stopwords.words('english') and i not in string.punctuation:\n",
    "            y.append(i)\n",
    "#         if i in emoji.distinct_emoji_list(i):\n",
    "#             y.append(i)\n",
    "    text1=y[:]\n",
    "#     print(text1)\n",
    "#     y.clear()\n",
    "#     ps=PorterStemmer()\n",
    "#     for i in text1:\n",
    "#         y.append(ps.stem(i))\n",
    "#     print(text1)\n",
    "    return \" \".join(y)"
   ]
  },
  {
   "cell_type": "code",
   "execution_count": 30,
   "id": "bda71c31",
   "metadata": {},
   "outputs": [],
   "source": [
    "# transform_text(text)"
   ]
  },
  {
   "cell_type": "code",
   "execution_count": 38,
   "id": "f96f3334",
   "metadata": {},
   "outputs": [],
   "source": [
    "tfidf1=TfidfVectorizer(stop_words=sw,max_features=20)\n",
    "def transform1(txt1):\n",
    "    txt2=tfidf1.fit_transform(txt1)\n",
    "    return txt2.toarray()"
   ]
  },
  {
   "cell_type": "code",
   "execution_count": 99,
   "id": "cc5578a3",
   "metadata": {},
   "outputs": [
    {
     "data": {
      "text/plain": [
       "0         1\n",
       "1         1\n",
       "2         1\n",
       "3         1\n",
       "4         1\n",
       "         ..\n",
       "691395    1\n",
       "691396    1\n",
       "691397    1\n",
       "691398    1\n",
       "691399    1\n",
       "Name: Target_in_Num, Length: 691375, dtype: int64"
      ]
     },
     "execution_count": 99,
     "metadata": {},
     "output_type": "execute_result"
    }
   ],
   "source": [
    "df['Target_in_Num'] = df['Target'].map({'Positive':1,'Negative':0})\n",
    "# df['Target_in_Num']"
   ]
  },
  {
   "cell_type": "code",
   "execution_count": 98,
   "id": "cb8cd526",
   "metadata": {},
   "outputs": [],
   "source": [
    "x = transform1(df['comment_text'])\n",
    "y=df[\"Target_in_Num\"]"
   ]
  },
  {
   "cell_type": "code",
   "execution_count": 97,
   "id": "ab36c1a7",
   "metadata": {},
   "outputs": [
    {
     "data": {
      "text/plain": [
       "0         1\n",
       "1         1\n",
       "2         1\n",
       "3         1\n",
       "4         1\n",
       "         ..\n",
       "691395    1\n",
       "691396    1\n",
       "691397    1\n",
       "691398    1\n",
       "691399    1\n",
       "Name: Target_in_Num, Length: 691375, dtype: int64"
      ]
     },
     "execution_count": 97,
     "metadata": {},
     "output_type": "execute_result"
    }
   ],
   "source": []
  },
  {
   "cell_type": "code",
   "execution_count": null,
   "id": "bc71c704",
   "metadata": {},
   "outputs": [],
   "source": [
    "# x[0:40]"
   ]
  },
  {
   "cell_type": "code",
   "execution_count": null,
   "id": "db18ad1a",
   "metadata": {},
   "outputs": [],
   "source": [
    "# new_str = transform_text(\"I am Happy\")\n",
    "# tmp = tfidf1.transform([new_str])\n",
    "# pred = model1.predict(tmp.todense())\n",
    "# # print(new_str)"
   ]
  },
  {
   "cell_type": "code",
   "execution_count": null,
   "id": "0bb37353",
   "metadata": {},
   "outputs": [],
   "source": [
    "# x_test1[0]"
   ]
  },
  {
   "cell_type": "code",
   "execution_count": 100,
   "id": "7d693813",
   "metadata": {},
   "outputs": [],
   "source": [
    "# x_train1,x_test1,y_train1,y_test1=train_test_split(x,y,test_size=0.2,random_state=0)"
   ]
  },
  {
   "cell_type": "code",
   "execution_count": 101,
   "id": "6265d718",
   "metadata": {},
   "outputs": [
    {
     "data": {
      "text/plain": [
       "MultinomialNB()"
      ]
     },
     "execution_count": 101,
     "metadata": {},
     "output_type": "execute_result"
    }
   ],
   "source": [
    "model1=MultinomialNB()\n",
    "# model1=RandomForestClassifier()\n",
    "model1.fit(x_train1,y_train1)"
   ]
  },
  {
   "cell_type": "code",
   "execution_count": 108,
   "id": "a35bcc4a",
   "metadata": {},
   "outputs": [],
   "source": [
    "def fun1(str):\n",
    "#     example_str = str\n",
    "    new_str = transform_text(str)\n",
    "    tmp = tfidf1.transform([new_str])\n",
    "    pred = model1.predict(tmp.todense())\n",
    "    \n",
    "    if pred[0]==\"Positive\":\n",
    "        return 1\n",
    "    else:\n",
    "        return 0"
   ]
  },
  {
   "cell_type": "code",
   "execution_count": 109,
   "id": "ac7bb61e",
   "metadata": {},
   "outputs": [],
   "source": [
    "def fun2(num,list_of_extract_emoji):\n",
    "#     no,emojis = extract_emojis(str)\n",
    "#     list_emoji_df = [i for i in emoji_df['Emoji_Symbole']]\n",
    "    sent=0\n",
    "    cnt=0\n",
    "    if num==0:\n",
    "        return 0\n",
    "    for i in list_of_extract_emoji:\n",
    "        if i in new_list_emoji_df:\n",
    "            if new_df.iloc[cnt]['Pos']>new_df.iloc[cnt]['Neg']:\n",
    "                sent+=float(new_df.iloc[cnt]['Pos'])\n",
    "            else:\n",
    "                sent+=float(new_df.iloc[cnt]['Neg'])\n",
    "        else:\n",
    "            sent+=0\n",
    "        cnt+=1\n",
    "    sent /= num\n",
    "    \n",
    "    return sent\n",
    " "
   ]
  },
  {
   "cell_type": "code",
   "execution_count": 110,
   "id": "e78c4f97",
   "metadata": {},
   "outputs": [],
   "source": [
    "def devide_emoji_with_text(str):\n",
    "        new_list_emoji_df = [i for i in new_df['Char']]\n",
    "\n",
    "        text_list_extract=[]\n",
    "        emoji_list_extract=[]\n",
    "        for i in str:\n",
    "            if i in new_list_emoji_df:\n",
    "                emoji_list_extract.append(i)\n",
    "            else:\n",
    "                text_list_extract.append(i)\n",
    "\n",
    "        text = \"\".join(text_list_extract)\n",
    "        return len(emoji_list_extract),emoji_list_extract,text"
   ]
  },
  {
   "cell_type": "code",
   "execution_count": 105,
   "id": "3eabfd57",
   "metadata": {},
   "outputs": [],
   "source": [
    "def final_result(str):\n",
    "    \n",
    "    no,list_emoji,text = devide_emoji_with_text(str)\n",
    "    print(\"No of emoji : \",no)\n",
    "    print(\"List of emoji : \",list_emoji)\n",
    "    print(\"Text : \",text)\n",
    "    \n",
    "    print(\"Result after using Transform Text : \",transform_text(text))\n",
    "    \n",
    "    final_sentiment=(fun1(text)+\n",
    "                     fun2(no,list_emoji)/2)\n",
    "    a=''\n",
    "    if (final_sentiment>=0):\n",
    "        a = 'Positive'\n",
    "    else:\n",
    "        a = 'Negative'\n",
    "    print(\"Final Sentiment Result : \",a)"
   ]
  },
  {
   "cell_type": "code",
   "execution_count": 107,
   "id": "38f9aa1f",
   "metadata": {},
   "outputs": [
    {
     "name": "stdout",
     "output_type": "stream",
     "text": [
      "No of emoji :  2\n",
      "List of emoji :  ['😭', '👍']\n",
      "Text :  The end though happy\n",
      "Result after using Transform Text :  end though happi\n",
      "Final Sentiment Result :  Negative\n"
     ]
    }
   ],
   "source": [
    "final_result('The end though happy😭👍')"
   ]
  },
  {
   "cell_type": "code",
   "execution_count": 46,
   "id": "84f4e8f3",
   "metadata": {},
   "outputs": [],
   "source": [
    "# def final_result_2(str):\n",
    "    \n",
    "#     no,list_emoji,text = devide_emoji_with_text(str)\n",
    "    \n",
    "#     final_sentiment=(fun1(text)+fun2(no,list_emoji)/2)\n",
    "# #     a=''\n",
    "#     if (final_sentiment>=0):\n",
    "#         return 1\n",
    "#     else:\n",
    "#         return 0\n",
    "    "
   ]
  },
  {
   "cell_type": "code",
   "execution_count": 47,
   "id": "a9229fae",
   "metadata": {},
   "outputs": [],
   "source": [
    "# str='The end though happy😭👍'\n",
    "t=df['comment_text']"
   ]
  },
  {
   "cell_type": "code",
   "execution_count": 48,
   "id": "ed3b394c",
   "metadata": {},
   "outputs": [],
   "source": [
    "from tqdm import tqdm"
   ]
  },
  {
   "cell_type": "code",
   "execution_count": 59,
   "id": "07f5976b",
   "metadata": {},
   "outputs": [
    {
     "name": "stderr",
     "output_type": "stream",
     "text": [
      "  5%|███▌                                                                     | 33873/691375 [12:35<4:04:30, 44.82it/s]\n"
     ]
    },
    {
     "ename": "IndexError",
     "evalue": "single positional indexer is out-of-bounds",
     "output_type": "error",
     "traceback": [
      "\u001b[1;31m---------------------------------------------------------------------------\u001b[0m",
      "\u001b[1;31mIndexError\u001b[0m                                Traceback (most recent call last)",
      "\u001b[1;32m~\\AppData\\Local\\Temp\\ipykernel_7112\\4152274528.py\u001b[0m in \u001b[0;36m<cell line: 4>\u001b[1;34m()\u001b[0m\n\u001b[0;32m      6\u001b[0m     \u001b[0mtmp\u001b[0m\u001b[1;33m=\u001b[0m\u001b[0mt\u001b[0m\u001b[1;33m[\u001b[0m\u001b[0mi\u001b[0m\u001b[1;33m]\u001b[0m\u001b[1;33m\u001b[0m\u001b[1;33m\u001b[0m\u001b[0m\n\u001b[0;32m      7\u001b[0m     \u001b[0mj\u001b[0m\u001b[1;33m+=\u001b[0m\u001b[1;36m1\u001b[0m\u001b[1;33m\u001b[0m\u001b[1;33m\u001b[0m\u001b[0m\n\u001b[1;32m----> 8\u001b[1;33m     \u001b[0mprt\u001b[0m\u001b[1;33m=\u001b[0m\u001b[0mfinal_result_2\u001b[0m\u001b[1;33m(\u001b[0m\u001b[0mtmp\u001b[0m\u001b[1;33m)\u001b[0m\u001b[1;33m\u001b[0m\u001b[1;33m\u001b[0m\u001b[0m\n\u001b[0m\u001b[0;32m      9\u001b[0m     \u001b[0mexperiment_list\u001b[0m\u001b[1;33m.\u001b[0m\u001b[0mappend\u001b[0m\u001b[1;33m(\u001b[0m\u001b[0mprt\u001b[0m\u001b[1;33m)\u001b[0m\u001b[1;33m\u001b[0m\u001b[1;33m\u001b[0m\u001b[0m\n\u001b[0;32m     10\u001b[0m     \u001b[0msum\u001b[0m\u001b[1;33m+=\u001b[0m\u001b[0mprt\u001b[0m\u001b[1;33m\u001b[0m\u001b[1;33m\u001b[0m\u001b[0m\n",
      "\u001b[1;32m~\\AppData\\Local\\Temp\\ipykernel_7112\\3608873101.py\u001b[0m in \u001b[0;36mfinal_result_2\u001b[1;34m(str)\u001b[0m\n\u001b[0;32m      3\u001b[0m     \u001b[0mno\u001b[0m\u001b[1;33m,\u001b[0m\u001b[0mlist_emoji\u001b[0m\u001b[1;33m,\u001b[0m\u001b[0mtext\u001b[0m \u001b[1;33m=\u001b[0m \u001b[0mdevide_emoji_with_text\u001b[0m\u001b[1;33m(\u001b[0m\u001b[0mstr\u001b[0m\u001b[1;33m)\u001b[0m\u001b[1;33m\u001b[0m\u001b[1;33m\u001b[0m\u001b[0m\n\u001b[0;32m      4\u001b[0m \u001b[1;33m\u001b[0m\u001b[0m\n\u001b[1;32m----> 5\u001b[1;33m     \u001b[0mfinal_sentiment\u001b[0m\u001b[1;33m=\u001b[0m\u001b[1;33m(\u001b[0m\u001b[0mfun1\u001b[0m\u001b[1;33m(\u001b[0m\u001b[0mtext\u001b[0m\u001b[1;33m)\u001b[0m\u001b[1;33m+\u001b[0m\u001b[0mfun2\u001b[0m\u001b[1;33m(\u001b[0m\u001b[0mno\u001b[0m\u001b[1;33m,\u001b[0m\u001b[0mlist_emoji\u001b[0m\u001b[1;33m)\u001b[0m\u001b[1;33m/\u001b[0m\u001b[1;36m2\u001b[0m\u001b[1;33m)\u001b[0m\u001b[1;33m\u001b[0m\u001b[1;33m\u001b[0m\u001b[0m\n\u001b[0m\u001b[0;32m      6\u001b[0m \u001b[1;31m#     a=''\u001b[0m\u001b[1;33m\u001b[0m\u001b[1;33m\u001b[0m\u001b[0m\n\u001b[0;32m      7\u001b[0m     \u001b[1;32mif\u001b[0m \u001b[1;33m(\u001b[0m\u001b[0mfinal_sentiment\u001b[0m\u001b[1;33m>=\u001b[0m\u001b[1;36m0\u001b[0m\u001b[1;33m)\u001b[0m\u001b[1;33m:\u001b[0m\u001b[1;33m\u001b[0m\u001b[1;33m\u001b[0m\u001b[0m\n",
      "\u001b[1;32m~\\AppData\\Local\\Temp\\ipykernel_7112\\2862695605.py\u001b[0m in \u001b[0;36mfun2\u001b[1;34m(num, list_of_extract_emoji)\u001b[0m\n\u001b[0;32m      8\u001b[0m     \u001b[1;32mfor\u001b[0m \u001b[0mi\u001b[0m \u001b[1;32min\u001b[0m \u001b[0mlist_of_extract_emoji\u001b[0m\u001b[1;33m:\u001b[0m\u001b[1;33m\u001b[0m\u001b[1;33m\u001b[0m\u001b[0m\n\u001b[0;32m      9\u001b[0m         \u001b[1;32mif\u001b[0m \u001b[0mi\u001b[0m \u001b[1;32min\u001b[0m \u001b[0mnew_list_emoji_df\u001b[0m\u001b[1;33m:\u001b[0m\u001b[1;33m\u001b[0m\u001b[1;33m\u001b[0m\u001b[0m\n\u001b[1;32m---> 10\u001b[1;33m             \u001b[1;32mif\u001b[0m \u001b[0mnew_df\u001b[0m\u001b[1;33m.\u001b[0m\u001b[0miloc\u001b[0m\u001b[1;33m[\u001b[0m\u001b[0mcnt\u001b[0m\u001b[1;33m]\u001b[0m\u001b[1;33m[\u001b[0m\u001b[1;34m'Pos'\u001b[0m\u001b[1;33m]\u001b[0m\u001b[1;33m>\u001b[0m\u001b[0mnew_df\u001b[0m\u001b[1;33m.\u001b[0m\u001b[0miloc\u001b[0m\u001b[1;33m[\u001b[0m\u001b[0mcnt\u001b[0m\u001b[1;33m]\u001b[0m\u001b[1;33m[\u001b[0m\u001b[1;34m'Neg'\u001b[0m\u001b[1;33m]\u001b[0m\u001b[1;33m:\u001b[0m\u001b[1;33m\u001b[0m\u001b[1;33m\u001b[0m\u001b[0m\n\u001b[0m\u001b[0;32m     11\u001b[0m                 \u001b[0msent\u001b[0m\u001b[1;33m+=\u001b[0m\u001b[0mfloat\u001b[0m\u001b[1;33m(\u001b[0m\u001b[0mnew_df\u001b[0m\u001b[1;33m.\u001b[0m\u001b[0miloc\u001b[0m\u001b[1;33m[\u001b[0m\u001b[0mcnt\u001b[0m\u001b[1;33m]\u001b[0m\u001b[1;33m[\u001b[0m\u001b[1;34m'Pos'\u001b[0m\u001b[1;33m]\u001b[0m\u001b[1;33m)\u001b[0m\u001b[1;33m\u001b[0m\u001b[1;33m\u001b[0m\u001b[0m\n\u001b[0;32m     12\u001b[0m             \u001b[1;32melse\u001b[0m\u001b[1;33m:\u001b[0m\u001b[1;33m\u001b[0m\u001b[1;33m\u001b[0m\u001b[0m\n",
      "\u001b[1;32m~\\anaconda3\\lib\\site-packages\\pandas\\core\\indexing.py\u001b[0m in \u001b[0;36m__getitem__\u001b[1;34m(self, key)\u001b[0m\n\u001b[0;32m    929\u001b[0m \u001b[1;33m\u001b[0m\u001b[0m\n\u001b[0;32m    930\u001b[0m             \u001b[0mmaybe_callable\u001b[0m \u001b[1;33m=\u001b[0m \u001b[0mcom\u001b[0m\u001b[1;33m.\u001b[0m\u001b[0mapply_if_callable\u001b[0m\u001b[1;33m(\u001b[0m\u001b[0mkey\u001b[0m\u001b[1;33m,\u001b[0m \u001b[0mself\u001b[0m\u001b[1;33m.\u001b[0m\u001b[0mobj\u001b[0m\u001b[1;33m)\u001b[0m\u001b[1;33m\u001b[0m\u001b[1;33m\u001b[0m\u001b[0m\n\u001b[1;32m--> 931\u001b[1;33m             \u001b[1;32mreturn\u001b[0m \u001b[0mself\u001b[0m\u001b[1;33m.\u001b[0m\u001b[0m_getitem_axis\u001b[0m\u001b[1;33m(\u001b[0m\u001b[0mmaybe_callable\u001b[0m\u001b[1;33m,\u001b[0m \u001b[0maxis\u001b[0m\u001b[1;33m=\u001b[0m\u001b[0maxis\u001b[0m\u001b[1;33m)\u001b[0m\u001b[1;33m\u001b[0m\u001b[1;33m\u001b[0m\u001b[0m\n\u001b[0m\u001b[0;32m    932\u001b[0m \u001b[1;33m\u001b[0m\u001b[0m\n\u001b[0;32m    933\u001b[0m     \u001b[1;32mdef\u001b[0m \u001b[0m_is_scalar_access\u001b[0m\u001b[1;33m(\u001b[0m\u001b[0mself\u001b[0m\u001b[1;33m,\u001b[0m \u001b[0mkey\u001b[0m\u001b[1;33m:\u001b[0m \u001b[0mtuple\u001b[0m\u001b[1;33m)\u001b[0m\u001b[1;33m:\u001b[0m\u001b[1;33m\u001b[0m\u001b[1;33m\u001b[0m\u001b[0m\n",
      "\u001b[1;32m~\\anaconda3\\lib\\site-packages\\pandas\\core\\indexing.py\u001b[0m in \u001b[0;36m_getitem_axis\u001b[1;34m(self, key, axis)\u001b[0m\n\u001b[0;32m   1564\u001b[0m \u001b[1;33m\u001b[0m\u001b[0m\n\u001b[0;32m   1565\u001b[0m             \u001b[1;31m# validate the location\u001b[0m\u001b[1;33m\u001b[0m\u001b[1;33m\u001b[0m\u001b[0m\n\u001b[1;32m-> 1566\u001b[1;33m             \u001b[0mself\u001b[0m\u001b[1;33m.\u001b[0m\u001b[0m_validate_integer\u001b[0m\u001b[1;33m(\u001b[0m\u001b[0mkey\u001b[0m\u001b[1;33m,\u001b[0m \u001b[0maxis\u001b[0m\u001b[1;33m)\u001b[0m\u001b[1;33m\u001b[0m\u001b[1;33m\u001b[0m\u001b[0m\n\u001b[0m\u001b[0;32m   1567\u001b[0m \u001b[1;33m\u001b[0m\u001b[0m\n\u001b[0;32m   1568\u001b[0m             \u001b[1;32mreturn\u001b[0m \u001b[0mself\u001b[0m\u001b[1;33m.\u001b[0m\u001b[0mobj\u001b[0m\u001b[1;33m.\u001b[0m\u001b[0m_ixs\u001b[0m\u001b[1;33m(\u001b[0m\u001b[0mkey\u001b[0m\u001b[1;33m,\u001b[0m \u001b[0maxis\u001b[0m\u001b[1;33m=\u001b[0m\u001b[0maxis\u001b[0m\u001b[1;33m)\u001b[0m\u001b[1;33m\u001b[0m\u001b[1;33m\u001b[0m\u001b[0m\n",
      "\u001b[1;32m~\\anaconda3\\lib\\site-packages\\pandas\\core\\indexing.py\u001b[0m in \u001b[0;36m_validate_integer\u001b[1;34m(self, key, axis)\u001b[0m\n\u001b[0;32m   1498\u001b[0m         \u001b[0mlen_axis\u001b[0m \u001b[1;33m=\u001b[0m \u001b[0mlen\u001b[0m\u001b[1;33m(\u001b[0m\u001b[0mself\u001b[0m\u001b[1;33m.\u001b[0m\u001b[0mobj\u001b[0m\u001b[1;33m.\u001b[0m\u001b[0m_get_axis\u001b[0m\u001b[1;33m(\u001b[0m\u001b[0maxis\u001b[0m\u001b[1;33m)\u001b[0m\u001b[1;33m)\u001b[0m\u001b[1;33m\u001b[0m\u001b[1;33m\u001b[0m\u001b[0m\n\u001b[0;32m   1499\u001b[0m         \u001b[1;32mif\u001b[0m \u001b[0mkey\u001b[0m \u001b[1;33m>=\u001b[0m \u001b[0mlen_axis\u001b[0m \u001b[1;32mor\u001b[0m \u001b[0mkey\u001b[0m \u001b[1;33m<\u001b[0m \u001b[1;33m-\u001b[0m\u001b[0mlen_axis\u001b[0m\u001b[1;33m:\u001b[0m\u001b[1;33m\u001b[0m\u001b[1;33m\u001b[0m\u001b[0m\n\u001b[1;32m-> 1500\u001b[1;33m             \u001b[1;32mraise\u001b[0m \u001b[0mIndexError\u001b[0m\u001b[1;33m(\u001b[0m\u001b[1;34m\"single positional indexer is out-of-bounds\"\u001b[0m\u001b[1;33m)\u001b[0m\u001b[1;33m\u001b[0m\u001b[1;33m\u001b[0m\u001b[0m\n\u001b[0m\u001b[0;32m   1501\u001b[0m \u001b[1;33m\u001b[0m\u001b[0m\n\u001b[0;32m   1502\u001b[0m     \u001b[1;31m# -------------------------------------------------------------------\u001b[0m\u001b[1;33m\u001b[0m\u001b[1;33m\u001b[0m\u001b[0m\n",
      "\u001b[1;31mIndexError\u001b[0m: single positional indexer is out-of-bounds"
     ]
    }
   ],
   "source": [
    "j=0\n",
    "sum=0\n",
    "experiment_list=[]\n",
    "for i in tqdm(range(0,len(t))):\n",
    "                   \n",
    "    tmp=t[i]\n",
    "    j+=1\n",
    "    prt=final_result_2(tmp)\n",
    "    experiment_list.append(prt)\n",
    "    sum+=prt\n",
    "    \n",
    "print(sum/j)"
   ]
  },
  {
   "cell_type": "code",
   "execution_count": null,
   "id": "26cd6bbc",
   "metadata": {},
   "outputs": [],
   "source": []
  },
  {
   "cell_type": "code",
   "execution_count": null,
   "id": "ade25cdc",
   "metadata": {},
   "outputs": [],
   "source": [
    "fun1(str)"
   ]
  },
  {
   "cell_type": "code",
   "execution_count": null,
   "id": "9a57f0c4",
   "metadata": {},
   "outputs": [],
   "source": [
    "fun2(no,emoji_list)"
   ]
  },
  {
   "cell_type": "code",
   "execution_count": null,
   "id": "6fef46c6",
   "metadata": {},
   "outputs": [],
   "source": [
    "# new_str = transform_text(str)\n",
    "# tmp = tfidf1.transform([new_str])\n",
    "# pred = model1.predict(tmp.todense())\n",
    "# print(new_str)\n",
    "# print(pred[0])"
   ]
  },
  {
   "cell_type": "code",
   "execution_count": null,
   "id": "3816a76f",
   "metadata": {},
   "outputs": [],
   "source": [
    "# new_str_trans = transform_text(str)\n",
    "# new_str_trans"
   ]
  },
  {
   "cell_type": "code",
   "execution_count": null,
   "id": "b895df84",
   "metadata": {},
   "outputs": [],
   "source": [
    "# ex_tfidf = tfidf1.transform([new_str])"
   ]
  },
  {
   "cell_type": "code",
   "execution_count": null,
   "id": "a0d11cbc",
   "metadata": {},
   "outputs": [],
   "source": [
    "# pred = model1.predict(ex_tfidf)"
   ]
  },
  {
   "cell_type": "code",
   "execution_count": null,
   "id": "4626d9f5",
   "metadata": {},
   "outputs": [],
   "source": [
    "# pred[0]"
   ]
  },
  {
   "cell_type": "code",
   "execution_count": null,
   "id": "bafc1607",
   "metadata": {},
   "outputs": [],
   "source": []
  }
 ],
 "metadata": {
  "kernelspec": {
   "display_name": "Python 3 (ipykernel)",
   "language": "python",
   "name": "python3"
  },
  "language_info": {
   "codemirror_mode": {
    "name": "ipython",
    "version": 3
   },
   "file_extension": ".py",
   "mimetype": "text/x-python",
   "name": "python",
   "nbconvert_exporter": "python",
   "pygments_lexer": "ipython3",
   "version": "3.9.7"
  }
 },
 "nbformat": 4,
 "nbformat_minor": 5
}
